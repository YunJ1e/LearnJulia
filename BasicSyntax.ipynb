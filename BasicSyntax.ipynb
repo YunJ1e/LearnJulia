{
 "cells": [
  {
   "cell_type": "markdown",
   "metadata": {},
   "source": [
    "# Intro\n",
    "This is the Julia tutorial using https://juliaacademy.com/courses/375479/\n",
    "## Table of Content:\n",
    "* [Variables](#Variables)\n",
    "* [Strings](#Strings)\n",
    "* [Data Structures](#DataStructures)\n",
    "* [Loops](#Loops)\n",
    "* [Conditionals](#Conditionals)\n",
    "* [Functions](#Functions)\n",
    "* [Packages](#Packages)\n",
    "* [Plotting](#Plotting)\n",
    "* [Basic Linear Algebra](#BasicLinearAlgebra)"
   ]
  },
  {
   "cell_type": "code",
   "execution_count": 1,
   "metadata": {},
   "outputs": [
    {
     "name": "stdout",
     "output_type": "stream",
     "text": [
      "Hello World\n"
     ]
    }
   ],
   "source": [
    "println(\"Hello World\")\n",
    "123; # In the jupyter notebook, If you want to avoid the automatic run on the last lin of the code, just use ;"
   ]
  },
  {
   "cell_type": "markdown",
   "metadata": {},
   "source": [
    "## Variables <a class=\"anchor\" id=\"Variables\"></a>"
   ]
  },
  {
   "cell_type": "code",
   "execution_count": 2,
   "metadata": {},
   "outputs": [
    {
     "data": {
      "text/plain": [
       "Int64"
      ]
     },
     "execution_count": 2,
     "metadata": {},
     "output_type": "execute_result"
    }
   ],
   "source": [
    "a_int = 2\n",
    "typeof(a_int)"
   ]
  },
  {
   "cell_type": "code",
   "execution_count": 3,
   "metadata": {},
   "outputs": [
    {
     "data": {
      "text/plain": [
       "Float64"
      ]
     },
     "execution_count": 3,
     "metadata": {},
     "output_type": "execute_result"
    }
   ],
   "source": [
    "a_float = 2.0\n",
    "typeof(a_float)"
   ]
  },
  {
   "cell_type": "code",
   "execution_count": 4,
   "metadata": {
    "scrolled": true
   },
   "outputs": [
    {
     "data": {
      "text/plain": [
       "String"
      ]
     },
     "execution_count": 4,
     "metadata": {},
     "output_type": "execute_result"
    }
   ],
   "source": [
    "a_string = \"Yunjie Wang\"\n",
    "typeof(a_string)"
   ]
  },
  {
   "cell_type": "markdown",
   "metadata": {},
   "source": [
    "## Strings <a class=\"anchor\" id=\"Strings\"></a>"
   ]
  },
  {
   "cell_type": "code",
   "execution_count": 5,
   "metadata": {},
   "outputs": [
    {
     "data": {
      "text/plain": [
       "\"Today is Tuesday\""
      ]
     },
     "execution_count": 5,
     "metadata": {},
     "output_type": "execute_result"
    }
   ],
   "source": [
    "# There is a difference using \" \" and \"\"\" \"\"\"\n",
    "s1 = \"Today is Tuesday\""
   ]
  },
  {
   "cell_type": "code",
   "execution_count": 6,
   "metadata": {},
   "outputs": [
    {
     "data": {
      "text/plain": [
       "\"Today is \\\"Tuesday\\\" \""
      ]
     },
     "execution_count": 6,
     "metadata": {},
     "output_type": "execute_result"
    }
   ],
   "source": [
    "# In the triple quotation mark, you can have extra double quotations\n",
    "s2 = \"\"\"Today is \"Tuesday\" \"\"\""
   ]
  },
  {
   "cell_type": "code",
   "execution_count": 7,
   "metadata": {
    "scrolled": true
   },
   "outputs": [
    {
     "data": {
      "text/plain": [
       "Char"
      ]
     },
     "execution_count": 7,
     "metadata": {},
     "output_type": "execute_result"
    }
   ],
   "source": [
    "# Single quotation marks are used to create the char variable type\n",
    "# Only one letter(number) allows in the single quotation\n",
    "# If you try to include multiple ones, you will get error(Un-comment last line)\n",
    "typeof('2')\n",
    "# typeof('Yunjie')"
   ]
  },
  {
   "cell_type": "code",
   "execution_count": 8,
   "metadata": {},
   "outputs": [
    {
     "name": "stdout",
     "output_type": "stream",
     "text": [
      "I, Yunjie Wang, start to learn Julia on 2020-09-01 !!!\n"
     ]
    }
   ],
   "source": [
    "# We could use $ inside the string, acting like the format in the Python\n",
    "my_name = \"Yunjie Wang\"\n",
    "today_date = \"2020-09-01\"\n",
    "a_line = \"I, $my_name, start to learn Julia on $today_date !!!\"\n",
    "println(a_line)"
   ]
  },
  {
   "cell_type": "code",
   "execution_count": 9,
   "metadata": {},
   "outputs": [
    {
     "data": {
      "text/plain": [
       "\"Julia is interesting\""
      ]
     },
     "execution_count": 9,
     "metadata": {},
     "output_type": "execute_result"
    }
   ],
   "source": [
    "# String Concatenation\n",
    "string(\"Julia \", \"is interesting\")"
   ]
  },
  {
   "cell_type": "code",
   "execution_count": 10,
   "metadata": {},
   "outputs": [
    {
     "data": {
      "text/plain": [
       "\"Julia 1.5 is interesting\""
      ]
     },
     "execution_count": 10,
     "metadata": {},
     "output_type": "execute_result"
    }
   ],
   "source": [
    "string(\"Julia \", 1.5, \" is interesting\")"
   ]
  },
  {
   "cell_type": "code",
   "execution_count": 11,
   "metadata": {},
   "outputs": [
    {
     "data": {
      "text/plain": [
       "\"Julia is interesting\""
      ]
     },
     "execution_count": 11,
     "metadata": {},
     "output_type": "execute_result"
    }
   ],
   "source": [
    "s3 = \"Julia \"\n",
    "s4 = \"is interesting\"\n",
    "s3*s4"
   ]
  },
  {
   "cell_type": "code",
   "execution_count": 12,
   "metadata": {},
   "outputs": [
    {
     "data": {
      "text/plain": [
       "\"Julia 1.5 is interesting\""
      ]
     },
     "execution_count": 12,
     "metadata": {},
     "output_type": "execute_result"
    }
   ],
   "source": [
    "# We could also use the * to concatenate the string, but be careful with the type\n",
    "# s3 * 1.5 * s4\n",
    "s3 * \"1.5 \" * s4"
   ]
  },
  {
   "cell_type": "code",
   "execution_count": 13,
   "metadata": {},
   "outputs": [
    {
     "data": {
      "text/plain": [
       "\"Julia is interesting\""
      ]
     },
     "execution_count": 13,
     "metadata": {},
     "output_type": "execute_result"
    }
   ],
   "source": [
    "# Also we could use the $ to concatenate\n",
    "\"$s3$s4\""
   ]
  },
  {
   "cell_type": "markdown",
   "metadata": {},
   "source": [
    "## Data Structures <a class=\"anchor\" id=\"DataStructures\"></a>\n",
    "Dictionary, Tuple, Array"
   ]
  },
  {
   "cell_type": "markdown",
   "metadata": {},
   "source": [
    "### Dictionary"
   ]
  },
  {
   "cell_type": "code",
   "execution_count": 14,
   "metadata": {
    "scrolled": true
   },
   "outputs": [
    {
     "data": {
      "text/plain": [
       "Dict{String,String} with 2 entries:\n",
       "  \"Jenny\"        => \"867-5309\"\n",
       "  \"Ghostbusters\" => \"555-2368\""
      ]
     },
     "execution_count": 14,
     "metadata": {},
     "output_type": "execute_result"
    }
   ],
   "source": [
    "myphonebook = Dict(\"Jenny\" => \"867-5309\", \"Ghostbusters\" => \"555-2368\")"
   ]
  },
  {
   "cell_type": "code",
   "execution_count": 15,
   "metadata": {
    "scrolled": false
   },
   "outputs": [
    {
     "data": {
      "text/plain": [
       "\"867-5309\""
      ]
     },
     "execution_count": 15,
     "metadata": {},
     "output_type": "execute_result"
    }
   ],
   "source": [
    "# After initialize the dict, you could access the element by correctly write the key\n",
    "myphonebook[\"Jenny\"]\n",
    "# Otherwise, you will get the error\n",
    "# myphonebook[\"Yunjie\"]"
   ]
  },
  {
   "cell_type": "code",
   "execution_count": 16,
   "metadata": {
    "scrolled": true
   },
   "outputs": [
    {
     "data": {
      "text/plain": [
       "Dict{String,String} with 3 entries:\n",
       "  \"Jenny\"        => \"867-5309\"\n",
       "  \"Yunjie\"       => \"123-4567\"\n",
       "  \"Ghostbusters\" => \"555-2368\""
      ]
     },
     "execution_count": 16,
     "metadata": {},
     "output_type": "execute_result"
    }
   ],
   "source": [
    "# You can add new elements and keys into the dictionary\n",
    "myphonebook[\"Yunjie\"] = \"123-4567\"\n",
    "myphonebook"
   ]
  },
  {
   "cell_type": "code",
   "execution_count": 17,
   "metadata": {
    "scrolled": true
   },
   "outputs": [
    {
     "data": {
      "text/plain": [
       "Dict{String,String} with 3 entries:\n",
       "  \"Jenny\"        => \"867-5309\"\n",
       "  \"Yunjie\"       => \"765-4321\"\n",
       "  \"Ghostbusters\" => \"555-2368\""
      ]
     },
     "execution_count": 17,
     "metadata": {},
     "output_type": "execute_result"
    }
   ],
   "source": [
    "# And you could alter the elements based on the keys in that dictionary\n",
    "myphonebook[\"Yunjie\"] = \"765-4321\"\n",
    "myphonebook"
   ]
  },
  {
   "cell_type": "code",
   "execution_count": 18,
   "metadata": {},
   "outputs": [
    {
     "data": {
      "text/plain": [
       "\"765-4321\""
      ]
     },
     "execution_count": 18,
     "metadata": {},
     "output_type": "execute_result"
    }
   ],
   "source": [
    "# You could pop from the dictionary using the correct key\n",
    "# And the pop function returns the element on that key\n",
    "pop!(myphonebook, \"Yunjie\")"
   ]
  },
  {
   "cell_type": "code",
   "execution_count": 19,
   "metadata": {},
   "outputs": [
    {
     "data": {
      "text/plain": [
       "Dict{String,String} with 2 entries:\n",
       "  \"Jenny\"        => \"867-5309\"\n",
       "  \"Ghostbusters\" => \"555-2368\""
      ]
     },
     "execution_count": 19,
     "metadata": {},
     "output_type": "execute_result"
    }
   ],
   "source": [
    "# And now, the dict is without my info\n",
    "myphonebook"
   ]
  },
  {
   "cell_type": "markdown",
   "metadata": {},
   "source": [
    "### Tuple"
   ]
  },
  {
   "cell_type": "code",
   "execution_count": 20,
   "metadata": {},
   "outputs": [
    {
     "data": {
      "text/plain": [
       "(\"cat\", \"dog\", \"pig\")"
      ]
     },
     "execution_count": 20,
     "metadata": {},
     "output_type": "execute_result"
    }
   ],
   "source": [
    "animals = (\"cat\", \"dog\", \"pig\")"
   ]
  },
  {
   "cell_type": "code",
   "execution_count": 21,
   "metadata": {},
   "outputs": [
    {
     "data": {
      "text/plain": [
       "\"cat\""
      ]
     },
     "execution_count": 21,
     "metadata": {},
     "output_type": "execute_result"
    }
   ],
   "source": [
    "# The Julia index start from 1\n",
    "animals[1]"
   ]
  },
  {
   "cell_type": "code",
   "execution_count": 22,
   "metadata": {
    "scrolled": true
   },
   "outputs": [
    {
     "ename": "LoadError",
     "evalue": "MethodError: no method matching setindex!(::Tuple{String,String,String}, ::String, ::Int64)",
     "output_type": "error",
     "traceback": [
      "MethodError: no method matching setindex!(::Tuple{String,String,String}, ::String, ::Int64)",
      "",
      "Stacktrace:",
      " [1] top-level scope at In[22]:2",
      " [2] include_string(::Function, ::Module, ::String, ::String) at .\\loading.jl:1091"
     ]
    }
   ],
   "source": [
    "# But the tuple is immutable, whic means you cannot change the element inside one tuple\n",
    "animals[1] = \"bird\""
   ]
  },
  {
   "cell_type": "markdown",
   "metadata": {},
   "source": [
    "### Array"
   ]
  },
  {
   "cell_type": "code",
   "execution_count": 23,
   "metadata": {},
   "outputs": [
    {
     "ename": "LoadError",
     "evalue": "InexactError: Int64(1.1)",
     "output_type": "error",
     "traceback": [
      "InexactError: Int64(1.1)",
      "",
      "Stacktrace:",
      " [1] Int64 at .\\float.jl:710 [inlined]",
      " [2] convert at .\\number.jl:7 [inlined]",
      " [3] setindex!(::Array{Int64,1}, ::Float64, ::Int64) at .\\array.jl:847",
      " [4] top-level scope at In[23]:2",
      " [5] include_string(::Function, ::Module, ::String, ::String) at .\\loading.jl:1091"
     ]
    }
   ],
   "source": [
    "an_array = [1,2,3,4]\n",
    "an_array[1] = 1.1\n",
    "an_array"
   ]
  },
  {
   "cell_type": "markdown",
   "metadata": {},
   "source": [
    "## Loops"
   ]
  },
  {
   "cell_type": "code",
   "execution_count": 24,
   "metadata": {},
   "outputs": [
    {
     "name": "stdout",
     "output_type": "stream",
     "text": [
      "1\n",
      "2\n",
      "3\n",
      "4\n",
      "5\n",
      "6\n",
      "7\n",
      "8\n",
      "9\n",
      "10\n"
     ]
    }
   ],
   "source": [
    "for i in 1:10\n",
    "    println(i)\n",
    "end"
   ]
  },
  {
   "cell_type": "code",
   "execution_count": 25,
   "metadata": {},
   "outputs": [
    {
     "data": {
      "text/plain": [
       "5×5 Array{Float64,2}:\n",
       " 0.0  0.0  0.0  0.0  0.0\n",
       " 0.0  0.0  0.0  0.0  0.0\n",
       " 0.0  0.0  0.0  0.0  0.0\n",
       " 0.0  0.0  0.0  0.0  0.0\n",
       " 0.0  0.0  0.0  0.0  0.0"
      ]
     },
     "execution_count": 25,
     "metadata": {},
     "output_type": "execute_result"
    }
   ],
   "source": [
    "m, n = 5, 5\n",
    "A = zeros(m ,n)"
   ]
  },
  {
   "cell_type": "code",
   "execution_count": 26,
   "metadata": {},
   "outputs": [
    {
     "data": {
      "text/plain": [
       "5×5 Array{Float64,2}:\n",
       " 2.0  3.0  4.0  5.0   6.0\n",
       " 3.0  4.0  5.0  6.0   7.0\n",
       " 4.0  5.0  6.0  7.0   8.0\n",
       " 5.0  6.0  7.0  8.0   9.0\n",
       " 6.0  7.0  8.0  9.0  10.0"
      ]
     },
     "execution_count": 26,
     "metadata": {},
     "output_type": "execute_result"
    }
   ],
   "source": [
    "for i in 1:m\n",
    "    for j in 1:n\n",
    "        A[i, j] = i + j\n",
    "    end\n",
    "end\n",
    "A"
   ]
  },
  {
   "cell_type": "code",
   "execution_count": 27,
   "metadata": {
    "scrolled": true
   },
   "outputs": [
    {
     "data": {
      "text/plain": [
       "5×5 Array{Float64,2}:\n",
       " 2.0  3.0  4.0  5.0   6.0\n",
       " 3.0  4.0  5.0  6.0   7.0\n",
       " 4.0  5.0  6.0  7.0   8.0\n",
       " 5.0  6.0  7.0  8.0   9.0\n",
       " 6.0  7.0  8.0  9.0  10.0"
      ]
     },
     "execution_count": 27,
     "metadata": {},
     "output_type": "execute_result"
    }
   ],
   "source": [
    "A = zeros(m, n)\n",
    "# To avoid the nested for loop\n",
    "for i in 1:m, j in 1:n\n",
    "    A[i, j] = i + j\n",
    "end\n",
    "A"
   ]
  },
  {
   "cell_type": "code",
   "execution_count": 28,
   "metadata": {},
   "outputs": [
    {
     "data": {
      "text/plain": [
       "5×5 Array{Int64,2}:\n",
       " 2  3  4  5   6\n",
       " 3  4  5  6   7\n",
       " 4  5  6  7   8\n",
       " 5  6  7  8   9\n",
       " 6  7  8  9  10"
      ]
     },
     "execution_count": 28,
     "metadata": {},
     "output_type": "execute_result"
    }
   ],
   "source": [
    "# Array Comprehension\n",
    "C = [i + j for i in 1:m, j in 1:n]\n",
    "C"
   ]
  },
  {
   "cell_type": "markdown",
   "metadata": {},
   "source": [
    "## Conditionals <a class=\"anchor\" id=\"Conditionals\"></a>"
   ]
  },
  {
   "cell_type": "code",
   "execution_count": 29,
   "metadata": {},
   "outputs": [
    {
     "name": "stdout",
     "output_type": "stream",
     "text": [
      "1 is smaller than 10\n"
     ]
    }
   ],
   "source": [
    "x = 1\n",
    "y = 10\n",
    "\n",
    "if x > y\n",
    "    println(\"$x is larger than $y\")\n",
    "elseif x < y\n",
    "    println(\"$x is smaller than $y\")\n",
    "else\n",
    "    println(\"$x and $y are equal\")\n",
    "end"
   ]
  },
  {
   "cell_type": "code",
   "execution_count": 30,
   "metadata": {},
   "outputs": [
    {
     "data": {
      "text/plain": [
       "10"
      ]
     },
     "execution_count": 30,
     "metadata": {},
     "output_type": "execute_result"
    }
   ],
   "source": [
    "# Ternary Operator\n",
    "(x > y) ? x : y\n",
    "\n",
    "# if (x > y)\n",
    "#     x\n",
    "# else\n",
    "#     y\n",
    "# end"
   ]
  },
  {
   "cell_type": "markdown",
   "metadata": {},
   "source": [
    "## Functions <a class=\"anchor\" id=\"Functions\"></a>"
   ]
  },
  {
   "cell_type": "code",
   "execution_count": 31,
   "metadata": {},
   "outputs": [
    {
     "data": {
      "text/plain": [
       "sayhi (generic function with 1 method)"
      ]
     },
     "execution_count": 31,
     "metadata": {},
     "output_type": "execute_result"
    }
   ],
   "source": [
    "function sayhi(name)\n",
    "    println(\"Hi $name, it's great to see you!\")\n",
    "end"
   ]
  },
  {
   "cell_type": "code",
   "execution_count": 32,
   "metadata": {},
   "outputs": [
    {
     "data": {
      "text/plain": [
       "f (generic function with 1 method)"
      ]
     },
     "execution_count": 32,
     "metadata": {},
     "output_type": "execute_result"
    }
   ],
   "source": [
    "function f(x)\n",
    "    x^2\n",
    "end"
   ]
  },
  {
   "cell_type": "code",
   "execution_count": 33,
   "metadata": {},
   "outputs": [
    {
     "name": "stdout",
     "output_type": "stream",
     "text": [
      "Hi Yunjie, it's great to see you!\n"
     ]
    }
   ],
   "source": [
    "sayhi(\"Yunjie\")"
   ]
  },
  {
   "cell_type": "code",
   "execution_count": 34,
   "metadata": {
    "scrolled": true
   },
   "outputs": [
    {
     "data": {
      "text/plain": [
       "100"
      ]
     },
     "execution_count": 34,
     "metadata": {},
     "output_type": "execute_result"
    }
   ],
   "source": [
    "f(10)"
   ]
  },
  {
   "cell_type": "code",
   "execution_count": 35,
   "metadata": {},
   "outputs": [
    {
     "data": {
      "text/plain": [
       "sayhi2 (generic function with 1 method)"
      ]
     },
     "execution_count": 35,
     "metadata": {},
     "output_type": "execute_result"
    }
   ],
   "source": [
    "sayhi2(name) = println(\"Hi $name, it's great to see you!\")"
   ]
  },
  {
   "cell_type": "code",
   "execution_count": 36,
   "metadata": {},
   "outputs": [
    {
     "data": {
      "text/plain": [
       "f2 (generic function with 1 method)"
      ]
     },
     "execution_count": 36,
     "metadata": {},
     "output_type": "execute_result"
    }
   ],
   "source": [
    "f2(x) = x^2"
   ]
  },
  {
   "cell_type": "code",
   "execution_count": 37,
   "metadata": {},
   "outputs": [
    {
     "name": "stdout",
     "output_type": "stream",
     "text": [
      "Hi Kobe, it's great to see you!\n"
     ]
    }
   ],
   "source": [
    "sayhi2(\"Kobe\")"
   ]
  },
  {
   "cell_type": "code",
   "execution_count": 38,
   "metadata": {},
   "outputs": [
    {
     "data": {
      "text/plain": [
       "196"
      ]
     },
     "execution_count": 38,
     "metadata": {},
     "output_type": "execute_result"
    }
   ],
   "source": [
    "f2(14)"
   ]
  },
  {
   "cell_type": "code",
   "execution_count": 39,
   "metadata": {},
   "outputs": [
    {
     "data": {
      "text/plain": [
       "#3 (generic function with 1 method)"
      ]
     },
     "execution_count": 39,
     "metadata": {},
     "output_type": "execute_result"
    }
   ],
   "source": [
    "sayhi3 = name -> println(\"Hi $name, it's great to see you!\")"
   ]
  },
  {
   "cell_type": "code",
   "execution_count": 40,
   "metadata": {},
   "outputs": [
    {
     "name": "stdout",
     "output_type": "stream",
     "text": [
      "Hi Yo, it's great to see you!\n"
     ]
    }
   ],
   "source": [
    "sayhi3(\"Yo\")"
   ]
  },
  {
   "cell_type": "code",
   "execution_count": 41,
   "metadata": {},
   "outputs": [
    {
     "data": {
      "text/plain": [
       "3-element Array{Int64,1}:\n",
       " 3\n",
       " 2\n",
       " 1"
      ]
     },
     "execution_count": 41,
     "metadata": {},
     "output_type": "execute_result"
    }
   ],
   "source": [
    "v = [3, 2, 1]"
   ]
  },
  {
   "cell_type": "code",
   "execution_count": 42,
   "metadata": {},
   "outputs": [
    {
     "data": {
      "text/plain": [
       "3-element Array{Int64,1}:\n",
       " 1\n",
       " 2\n",
       " 3"
      ]
     },
     "execution_count": 42,
     "metadata": {},
     "output_type": "execute_result"
    }
   ],
   "source": [
    "sort(v)"
   ]
  },
  {
   "cell_type": "code",
   "execution_count": 43,
   "metadata": {},
   "outputs": [
    {
     "data": {
      "text/plain": [
       "3-element Array{Int64,1}:\n",
       " 3\n",
       " 2\n",
       " 1"
      ]
     },
     "execution_count": 43,
     "metadata": {},
     "output_type": "execute_result"
    }
   ],
   "source": [
    "# The original array is not altered\n",
    "v"
   ]
  },
  {
   "cell_type": "code",
   "execution_count": 44,
   "metadata": {},
   "outputs": [
    {
     "data": {
      "text/plain": [
       "3-element Array{Int64,1}:\n",
       " 1\n",
       " 2\n",
       " 3"
      ]
     },
     "execution_count": 44,
     "metadata": {},
     "output_type": "execute_result"
    }
   ],
   "source": [
    "v = [3, 2, 1]\n",
    "sort!(v)\n",
    "# Here the array is changed\n",
    "v"
   ]
  },
  {
   "cell_type": "markdown",
   "metadata": {},
   "source": [
    "### Broadcasting"
   ]
  },
  {
   "cell_type": "code",
   "execution_count": 45,
   "metadata": {},
   "outputs": [
    {
     "data": {
      "text/plain": [
       "3×3 Array{Int64,2}:\n",
       " 1  2  3\n",
       " 4  5  6\n",
       " 7  8  9"
      ]
     },
     "execution_count": 45,
     "metadata": {},
     "output_type": "execute_result"
    }
   ],
   "source": [
    "A = [i + 3*j for j in 0:2, i in 1:3]"
   ]
  },
  {
   "cell_type": "code",
   "execution_count": 46,
   "metadata": {},
   "outputs": [
    {
     "data": {
      "text/plain": [
       "3×3 Array{Int64,2}:\n",
       "  30   36   42\n",
       "  66   81   96\n",
       " 102  126  150"
      ]
     },
     "execution_count": 46,
     "metadata": {},
     "output_type": "execute_result"
    }
   ],
   "source": [
    "f(A) # This is the result of matrix A x A"
   ]
  },
  {
   "cell_type": "code",
   "execution_count": 47,
   "metadata": {},
   "outputs": [
    {
     "data": {
      "text/plain": [
       "3×3 Array{Int64,2}:\n",
       "  1   4   9\n",
       " 16  25  36\n",
       " 49  64  81"
      ]
     },
     "execution_count": 47,
     "metadata": {},
     "output_type": "execute_result"
    }
   ],
   "source": [
    "f.(A) # The element in the result is the square of it in the original A"
   ]
  },
  {
   "cell_type": "markdown",
   "metadata": {},
   "source": [
    "## Packages <a class=\"anchor\" id=\"Packages\"></a>"
   ]
  },
  {
   "cell_type": "code",
   "execution_count": 48,
   "metadata": {},
   "outputs": [],
   "source": [
    "# import Pkg\n",
    "# Pkg.add(\"Example\")\n",
    "using Example"
   ]
  },
  {
   "cell_type": "code",
   "execution_count": 49,
   "metadata": {},
   "outputs": [
    {
     "data": {
      "text/plain": [
       "\"Hello, HI\""
      ]
     },
     "execution_count": 49,
     "metadata": {},
     "output_type": "execute_result"
    }
   ],
   "source": [
    "hello(\"HI\")"
   ]
  },
  {
   "cell_type": "code",
   "execution_count": 50,
   "metadata": {},
   "outputs": [
    {
     "ename": "LoadError",
     "evalue": "UndefVarError: Pkg not defined",
     "output_type": "error",
     "traceback": [
      "UndefVarError: Pkg not defined",
      "",
      "Stacktrace:",
      " [1] top-level scope at In[50]:1",
      " [2] include_string(::Function, ::Module, ::String, ::String) at .\\loading.jl:1091"
     ]
    }
   ],
   "source": [
    "Pkg.add(\"Colors\")"
   ]
  },
  {
   "cell_type": "code",
   "execution_count": 51,
   "metadata": {
    "scrolled": true
   },
   "outputs": [],
   "source": [
    "using Colors"
   ]
  },
  {
   "cell_type": "code",
   "execution_count": 52,
   "metadata": {},
   "outputs": [
    {
     "data": {
      "image/svg+xml": [
       "<?xml version=\"1.0\" encoding=\"UTF-8\"?>\n",
       "<!DOCTYPE svg PUBLIC \"-//W3C//DTD SVG 1.1//EN\"\n",
       " \"http://www.w3.org/Graphics/SVG/1.1/DTD/svg11.dtd\">\n",
       "<svg xmlns=\"http://www.w3.org/2000/svg\" version=\"1.1\"\n",
       "     width=\"180mm\" height=\"25mm\"\n",
       "     viewBox=\"0 0 100 1\" preserveAspectRatio=\"none\"\n",
       "     shape-rendering=\"crispEdges\" stroke=\"none\">\n",
       "<rect width=\"1\" height=\".96\" x=\"0\" y=\"0\" fill=\"#000000\" />\n",
       "<rect width=\"1\" height=\".96\" x=\"1\" y=\"0\" fill=\"#FFFF74\" />\n",
       "<rect width=\"1\" height=\".96\" x=\"2\" y=\"0\" fill=\"#FF9BFF\" />\n",
       "<rect width=\"1\" height=\".96\" x=\"3\" y=\"0\" fill=\"#00D3FF\" />\n",
       "<rect width=\"1\" height=\".96\" x=\"4\" y=\"0\" fill=\"#E2630D\" />\n",
       "<rect width=\"1\" height=\".96\" x=\"5\" y=\"0\" fill=\"#007E00\" />\n",
       "<rect width=\"1\" height=\".96\" x=\"6\" y=\"0\" fill=\"#0050E6\" />\n",
       "<rect width=\"1\" height=\".96\" x=\"7\" y=\"0\" fill=\"#AC0047\" />\n",
       "<rect width=\"1\" height=\".96\" x=\"8\" y=\"0\" fill=\"#00FFC8\" />\n",
       "<rect width=\"1\" height=\".96\" x=\"9\" y=\"0\" fill=\"#006468\" />\n",
       "<rect width=\"1\" height=\".96\" x=\"10\" y=\"0\" fill=\"#FFD5C4\" />\n",
       "<rect width=\"1\" height=\".96\" x=\"11\" y=\"0\" fill=\"#6C5200\" />\n",
       "<rect width=\"1\" height=\".96\" x=\"12\" y=\"0\" fill=\"#7A7581\" />\n",
       "<rect width=\"1\" height=\".96\" x=\"13\" y=\"0\" fill=\"#44005C\" />\n",
       "<rect width=\"1\" height=\".96\" x=\"14\" y=\"0\" fill=\"#9E9E77\" />\n",
       "<rect width=\"1\" height=\".96\" x=\"15\" y=\"0\" fill=\"#FF5C78\" />\n",
       "<rect width=\"1\" height=\".96\" x=\"16\" y=\"0\" fill=\"#8197F1\" />\n",
       "<rect width=\"1\" height=\".96\" x=\"17\" y=\"0\" fill=\"#003200\" />\n",
       "<rect width=\"1\" height=\".96\" x=\"18\" y=\"0\" fill=\"#C721DD\" />\n",
       "<rect width=\"1\" height=\".96\" x=\"19\" y=\"0\" fill=\"#FFAD07\" />\n",
       "<rect width=\"1\" height=\".96\" x=\"20\" y=\"0\" fill=\"#611C00\" />\n",
       "<rect width=\"1\" height=\".96\" x=\"21\" y=\"0\" fill=\"#F3FFFA\" />\n",
       "<rect width=\"1\" height=\".96\" x=\"22\" y=\"0\" fill=\"#009E88\" />\n",
       "<rect width=\"1\" height=\".96\" x=\"23\" y=\"0\" fill=\"#5EC700\" />\n",
       "<rect width=\"1\" height=\".96\" x=\"24\" y=\"0\" fill=\"#002D54\" />\n",
       "<rect width=\"1\" height=\".96\" x=\"25\" y=\"0\" fill=\"#553C4A\" />\n",
       "<rect width=\"1\" height=\".96\" x=\"26\" y=\"0\" fill=\"#444439\" />\n",
       "<rect width=\"1\" height=\".96\" x=\"27\" y=\"0\" fill=\"#008FB6\" />\n",
       "<rect width=\"1\" height=\".96\" x=\"28\" y=\"0\" fill=\"#CFD4FD\" />\n",
       "<rect width=\"1\" height=\".96\" x=\"29\" y=\"0\" fill=\"#C40000\" />\n",
       "<rect width=\"1\" height=\".96\" x=\"30\" y=\"0\" fill=\"#A4675C\" />\n",
       "<rect width=\"1\" height=\".96\" x=\"31\" y=\"0\" fill=\"#BB8FA8\" />\n",
       "<rect width=\"1\" height=\".96\" x=\"32\" y=\"0\" fill=\"#290001\" />\n",
       "<rect width=\"1\" height=\".96\" x=\"33\" y=\"0\" fill=\"#A78600\" />\n",
       "<rect width=\"1\" height=\".96\" x=\"34\" y=\"0\" fill=\"#002D30\" />\n",
       "<rect width=\"1\" height=\".96\" x=\"35\" y=\"0\" fill=\"#C7DEAA\" />\n",
       "<rect width=\"1\" height=\".96\" x=\"36\" y=\"0\" fill=\"#8D9FA3\" />\n",
       "<rect width=\"1\" height=\".96\" x=\"37\" y=\"0\" fill=\"#6F5B95\" />\n",
       "<rect width=\"1\" height=\".96\" x=\"38\" y=\"0\" fill=\"#A1FFFF\" />\n",
       "<rect width=\"1\" height=\".96\" x=\"39\" y=\"0\" fill=\"#B39688\" />\n",
       "<rect width=\"1\" height=\".96\" x=\"40\" y=\"0\" fill=\"#4E6D50\" />\n",
       "<rect width=\"1\" height=\".96\" x=\"41\" y=\"0\" fill=\"#FF977B\" />\n",
       "<rect width=\"1\" height=\".96\" x=\"42\" y=\"0\" fill=\"#FFD1EC\" />\n",
       "<rect width=\"1\" height=\".96\" x=\"43\" y=\"0\" fill=\"#9E5100\" />\n",
       "<rect width=\"1\" height=\".96\" x=\"44\" y=\"0\" fill=\"#AE5B8E\" />\n",
       "<rect width=\"1\" height=\".96\" x=\"45\" y=\"0\" fill=\"#799400\" />\n",
       "<rect width=\"1\" height=\".96\" x=\"46\" y=\"0\" fill=\"#362200\" />\n",
       "<rect width=\"1\" height=\".96\" x=\"47\" y=\"0\" fill=\"#0E0026\" />\n",
       "<rect width=\"1\" height=\".96\" x=\"48\" y=\"0\" fill=\"#80765F\" />\n",
       "<rect width=\"1\" height=\".96\" x=\"49\" y=\"0\" fill=\"#485C00\" />\n",
       "<rect width=\"1\" height=\".96\" x=\"50\" y=\"0\" fill=\"#C8C2B5\" />\n",
       "<rect width=\"1\" height=\".96\" x=\"51\" y=\"0\" fill=\"#8800A1\" />\n",
       "<rect width=\"1\" height=\".96\" x=\"52\" y=\"0\" fill=\"#00A853\" />\n",
       "<rect width=\"1\" height=\".96\" x=\"53\" y=\"0\" fill=\"#FFE1AA\" />\n",
       "<rect width=\"1\" height=\".96\" x=\"54\" y=\"0\" fill=\"#674F42\" />\n",
       "<rect width=\"1\" height=\".96\" x=\"55\" y=\"0\" fill=\"#FF342D\" />\n",
       "<rect width=\"1\" height=\".96\" x=\"56\" y=\"0\" fill=\"#6B0041\" />\n",
       "<rect width=\"1\" height=\".96\" x=\"57\" y=\"0\" fill=\"#0806B1\" />\n",
       "<rect width=\"1\" height=\".96\" x=\"58\" y=\"0\" fill=\"#986DFF\" />\n",
       "<rect width=\"1\" height=\".96\" x=\"59\" y=\"0\" fill=\"#FF4EC7\" />\n",
       "<rect width=\"1\" height=\".96\" x=\"60\" y=\"0\" fill=\"#8AB9A2\" />\n",
       "<rect width=\"1\" height=\".96\" x=\"61\" y=\"0\" fill=\"#2EFF71\" />\n",
       "<rect width=\"1\" height=\".96\" x=\"62\" y=\"0\" fill=\"#005577\" />\n",
       "<rect width=\"1\" height=\".96\" x=\"63\" y=\"0\" fill=\"#0078E3\" />\n",
       "<rect width=\"1\" height=\".96\" x=\"64\" y=\"0\" fill=\"#B2ADB9\" />\n",
       "<rect width=\"1\" height=\".96\" x=\"65\" y=\"0\" fill=\"#00C3C6\" />\n",
       "<rect width=\"1\" height=\".96\" x=\"66\" y=\"0\" fill=\"#00AEFF\" />\n",
       "<rect width=\"1\" height=\".96\" x=\"67\" y=\"0\" fill=\"#4E545F\" />\n",
       "<rect width=\"1\" height=\".96\" x=\"68\" y=\"0\" fill=\"#FF9BB0\" />\n",
       "<rect width=\"1\" height=\".96\" x=\"69\" y=\"0\" fill=\"#FED206\" />\n",
       "<rect width=\"1\" height=\".96\" x=\"70\" y=\"0\" fill=\"#687B7A\" />\n",
       "<rect width=\"1\" height=\".96\" x=\"71\" y=\"0\" fill=\"#B1DCFC\" />\n",
       "<rect width=\"1\" height=\".96\" x=\"72\" y=\"0\" fill=\"#FFF6FF\" />\n",
       "<rect width=\"1\" height=\".96\" x=\"73\" y=\"0\" fill=\"#620019\" />\n",
       "<rect width=\"1\" height=\".96\" x=\"74\" y=\"0\" fill=\"#C79253\" />\n",
       "<rect width=\"1\" height=\".96\" x=\"75\" y=\"0\" fill=\"#A891CF\" />\n",
       "<rect width=\"1\" height=\".96\" x=\"76\" y=\"0\" fill=\"#EF007A\" />\n",
       "<rect width=\"1\" height=\".96\" x=\"77\" y=\"0\" fill=\"#B8CE00\" />\n",
       "<rect width=\"1\" height=\".96\" x=\"78\" y=\"0\" fill=\"#001700\" />\n",
       "<rect width=\"1\" height=\".96\" x=\"79\" y=\"0\" fill=\"#204B39\" />\n",
       "<rect width=\"1\" height=\".96\" x=\"80\" y=\"0\" fill=\"#875866\" />\n",
       "<rect width=\"1\" height=\".96\" x=\"81\" y=\"0\" fill=\"#B5FF4E\" />\n",
       "<rect width=\"1\" height=\".96\" x=\"82\" y=\"0\" fill=\"#B40080\" />\n",
       "<rect width=\"1\" height=\".96\" x=\"83\" y=\"0\" fill=\"#853F34\" />\n",
       "<rect width=\"1\" height=\".96\" x=\"84\" y=\"0\" fill=\"#69936B\" />\n",
       "<rect width=\"1\" height=\".96\" x=\"85\" y=\"0\" fill=\"#FFBC80\" />\n",
       "<rect width=\"1\" height=\".96\" x=\"86\" y=\"0\" fill=\"#4C3779\" />\n",
       "<rect width=\"1\" height=\".96\" x=\"87\" y=\"0\" fill=\"#323606\" />\n",
       "<rect width=\"1\" height=\".96\" x=\"88\" y=\"0\" fill=\"#008E94\" />\n",
       "<rect width=\"1\" height=\".96\" x=\"89\" y=\"0\" fill=\"#CAAC51\" />\n",
       "<rect width=\"1\" height=\".96\" x=\"90\" y=\"0\" fill=\"#787B3B\" />\n",
       "<rect width=\"1\" height=\".96\" x=\"91\" y=\"0\" fill=\"#B6F9D9\" />\n",
       "<rect width=\"1\" height=\".96\" x=\"92\" y=\"0\" fill=\"#DA003F\" />\n",
       "<rect width=\"1\" height=\".96\" x=\"93\" y=\"0\" fill=\"#2E2124\" />\n",
       "<rect width=\"1\" height=\".96\" x=\"94\" y=\"0\" fill=\"#005815\" />\n",
       "<rect width=\"1\" height=\".96\" x=\"95\" y=\"0\" fill=\"#FF8E1D\" />\n",
       "<rect width=\"1\" height=\".96\" x=\"96\" y=\"0\" fill=\"#6674B1\" />\n",
       "<rect width=\"1\" height=\".96\" x=\"97\" y=\"0\" fill=\"#00CDAD\" />\n",
       "<rect width=\"1\" height=\".96\" x=\"98\" y=\"0\" fill=\"#007F63\" />\n",
       "<rect width=\"1\" height=\".96\" x=\"99\" y=\"0\" fill=\"#996F3D\" />\n",
       "</svg>"
      ],
      "text/plain": [
       "100-element Array{RGB{N0f8},1} with eltype RGB{FixedPointNumbers.Normed{UInt8,8}}:\n",
       " RGB{N0f8}(0.0,0.0,0.0)\n",
       " RGB{N0f8}(1.0,1.0,0.455)\n",
       " RGB{N0f8}(1.0,0.608,1.0)\n",
       " RGB{N0f8}(0.0,0.827,1.0)\n",
       " RGB{N0f8}(0.886,0.388,0.051)\n",
       " RGB{N0f8}(0.0,0.494,0.0)\n",
       " RGB{N0f8}(0.0,0.314,0.902)\n",
       " RGB{N0f8}(0.675,0.0,0.278)\n",
       " RGB{N0f8}(0.0,1.0,0.784)\n",
       " RGB{N0f8}(0.0,0.392,0.408)\n",
       " RGB{N0f8}(1.0,0.835,0.769)\n",
       " RGB{N0f8}(0.424,0.322,0.0)\n",
       " RGB{N0f8}(0.478,0.459,0.506)\n",
       " ⋮\n",
       " RGB{N0f8}(0.0,0.557,0.58)\n",
       " RGB{N0f8}(0.792,0.675,0.318)\n",
       " RGB{N0f8}(0.471,0.482,0.231)\n",
       " RGB{N0f8}(0.714,0.976,0.851)\n",
       " RGB{N0f8}(0.855,0.0,0.247)\n",
       " RGB{N0f8}(0.18,0.129,0.141)\n",
       " RGB{N0f8}(0.0,0.345,0.082)\n",
       " RGB{N0f8}(1.0,0.557,0.114)\n",
       " RGB{N0f8}(0.4,0.455,0.694)\n",
       " RGB{N0f8}(0.0,0.804,0.678)\n",
       " RGB{N0f8}(0.0,0.498,0.388)\n",
       " RGB{N0f8}(0.6,0.435,0.239)"
      ]
     },
     "execution_count": 52,
     "metadata": {},
     "output_type": "execute_result"
    }
   ],
   "source": [
    "palette = distinguishable_colors(100)"
   ]
  },
  {
   "cell_type": "code",
   "execution_count": 53,
   "metadata": {},
   "outputs": [
    {
     "data": {
      "image/svg+xml": [
       "<?xml version=\"1.0\" encoding=\"UTF-8\"?>\n",
       "<!DOCTYPE svg PUBLIC \"-//W3C//DTD SVG 1.1//EN\"\n",
       " \"http://www.w3.org/Graphics/SVG/1.1/DTD/svg11.dtd\">\n",
       "<svg xmlns=\"http://www.w3.org/2000/svg\" version=\"1.1\"\n",
       "     width=\"75mm\" height=\"75mm\"\n",
       "     viewBox=\"0 0 3 3\" preserveAspectRatio=\"none\"\n",
       "     shape-rendering=\"crispEdges\" stroke=\"none\">\n",
       "<rect width=\".96\" height=\".96\" x=\"0\" y=\"0\" fill=\"#BB8FA8\" />\n",
       "<rect width=\".96\" height=\".96\" x=\"1\" y=\"0\" fill=\"#F3FFFA\" />\n",
       "<rect width=\".96\" height=\".96\" x=\"2\" y=\"0\" fill=\"#FF8E1D\" />\n",
       "<rect width=\".96\" height=\".96\" x=\"0\" y=\"1\" fill=\"#A78600\" />\n",
       "<rect width=\".96\" height=\".96\" x=\"1\" y=\"1\" fill=\"#008FB6\" />\n",
       "<rect width=\".96\" height=\".96\" x=\"2\" y=\"1\" fill=\"#007F63\" />\n",
       "<rect width=\".96\" height=\".96\" x=\"0\" y=\"2\" fill=\"#C40000\" />\n",
       "<rect width=\".96\" height=\".96\" x=\"1\" y=\"2\" fill=\"#44005C\" />\n",
       "<rect width=\".96\" height=\".96\" x=\"2\" y=\"2\" fill=\"#B5FF4E\" />\n",
       "</svg>"
      ],
      "text/plain": [
       "3×3 Array{RGB{N0f8},2} with eltype RGB{FixedPointNumbers.Normed{UInt8,8}}:\n",
       " RGB{N0f8}(0.733,0.561,0.659)  …  RGB{N0f8}(1.0,0.557,0.114)\n",
       " RGB{N0f8}(0.655,0.525,0.0)       RGB{N0f8}(0.0,0.498,0.388)\n",
       " RGB{N0f8}(0.769,0.0,0.0)         RGB{N0f8}(0.71,1.0,0.306)"
      ]
     },
     "execution_count": 53,
     "metadata": {},
     "output_type": "execute_result"
    }
   ],
   "source": [
    "rand(palette, 3, 3)"
   ]
  },
  {
   "cell_type": "markdown",
   "metadata": {},
   "source": [
    "## Plotting <a class=\"anchor\" id=\"Plotting\"></a>"
   ]
  },
  {
   "cell_type": "code",
   "execution_count": 54,
   "metadata": {},
   "outputs": [
    {
     "ename": "LoadError",
     "evalue": "UndefVarError: Pkg not defined",
     "output_type": "error",
     "traceback": [
      "UndefVarError: Pkg not defined",
      "",
      "Stacktrace:",
      " [1] top-level scope at In[54]:1",
      " [2] include_string(::Function, ::Module, ::String, ::String) at .\\loading.jl:1091"
     ]
    }
   ],
   "source": [
    "Pkg.add(\"Plots\")"
   ]
  },
  {
   "cell_type": "code",
   "execution_count": 55,
   "metadata": {
    "scrolled": true
   },
   "outputs": [],
   "source": [
    "using Plots"
   ]
  },
  {
   "cell_type": "code",
   "execution_count": 56,
   "metadata": {},
   "outputs": [
    {
     "data": {
      "text/plain": [
       "61-element Array{Float64,1}:\n",
       " 9.0\n",
       " 8.41\n",
       " 7.839999999999999\n",
       " 7.290000000000001\n",
       " 6.760000000000001\n",
       " 6.25\n",
       " 5.76\n",
       " 5.289999999999999\n",
       " 4.840000000000001\n",
       " 4.41\n",
       " 4.0\n",
       " 3.61\n",
       " 3.24\n",
       " ⋮\n",
       " 3.61\n",
       " 4.0\n",
       " 4.41\n",
       " 4.840000000000001\n",
       " 5.289999999999999\n",
       " 5.76\n",
       " 6.25\n",
       " 6.760000000000001\n",
       " 7.290000000000001\n",
       " 7.839999999999999\n",
       " 8.41\n",
       " 9.0"
      ]
     },
     "execution_count": 56,
     "metadata": {},
     "output_type": "execute_result"
    }
   ],
   "source": [
    "x = -3:0.1:3\n",
    "f(x) = x^2\n",
    "y = f.(x)"
   ]
  },
  {
   "cell_type": "code",
   "execution_count": 57,
   "metadata": {},
   "outputs": [
    {
     "data": {
      "text/plain": [
       "Plots.GRBackend()"
      ]
     },
     "execution_count": 57,
     "metadata": {},
     "output_type": "execute_result"
    }
   ],
   "source": [
    "gr()"
   ]
  },
  {
   "cell_type": "code",
   "execution_count": 58,
   "metadata": {
    "scrolled": true
   },
   "outputs": [
    {
     "data": {
      "image/svg+xml": [
       "<?xml version=\"1.0\" encoding=\"utf-8\"?>\n",
       "<svg xmlns=\"http://www.w3.org/2000/svg\" xmlns:xlink=\"http://www.w3.org/1999/xlink\" width=\"600\" height=\"400\" viewBox=\"0 0 2400 1600\">\n",
       "<defs>\n",
       "  <clipPath id=\"clip170\">\n",
       "    <rect x=\"0\" y=\"0\" width=\"2400\" height=\"1600\"/>\n",
       "  </clipPath>\n",
       "</defs>\n",
       "<path clip-path=\"url(#clip170)\" d=\"\n",
       "M0 1600 L2400 1600 L2400 0 L0 0  Z\n",
       "  \" fill=\"#ffffff\" fill-rule=\"evenodd\" fill-opacity=\"1\"/>\n",
       "<defs>\n",
       "  <clipPath id=\"clip171\">\n",
       "    <rect x=\"480\" y=\"0\" width=\"1681\" height=\"1600\"/>\n",
       "  </clipPath>\n",
       "</defs>\n",
       "<path clip-path=\"url(#clip170)\" d=\"\n",
       "M112.177 1486.45 L2352.76 1486.45 L2352.76 47.2441 L112.177 47.2441  Z\n",
       "  \" fill=\"#ffffff\" fill-rule=\"evenodd\" fill-opacity=\"1\"/>\n",
       "<defs>\n",
       "  <clipPath id=\"clip172\">\n",
       "    <rect x=\"112\" y=\"47\" width=\"2242\" height=\"1440\"/>\n",
       "  </clipPath>\n",
       "</defs>\n",
       "<polyline clip-path=\"url(#clip172)\" style=\"stroke:#000000; stroke-width:2; stroke-opacity:0.1; fill:none\" points=\"\n",
       "  175.59,1486.45 175.59,47.2441 \n",
       "  \"/>\n",
       "<polyline clip-path=\"url(#clip172)\" style=\"stroke:#000000; stroke-width:2; stroke-opacity:0.1; fill:none\" points=\"\n",
       "  527.882,1486.45 527.882,47.2441 \n",
       "  \"/>\n",
       "<polyline clip-path=\"url(#clip172)\" style=\"stroke:#000000; stroke-width:2; stroke-opacity:0.1; fill:none\" points=\"\n",
       "  880.174,1486.45 880.174,47.2441 \n",
       "  \"/>\n",
       "<polyline clip-path=\"url(#clip172)\" style=\"stroke:#000000; stroke-width:2; stroke-opacity:0.1; fill:none\" points=\"\n",
       "  1232.47,1486.45 1232.47,47.2441 \n",
       "  \"/>\n",
       "<polyline clip-path=\"url(#clip172)\" style=\"stroke:#000000; stroke-width:2; stroke-opacity:0.1; fill:none\" points=\"\n",
       "  1584.76,1486.45 1584.76,47.2441 \n",
       "  \"/>\n",
       "<polyline clip-path=\"url(#clip172)\" style=\"stroke:#000000; stroke-width:2; stroke-opacity:0.1; fill:none\" points=\"\n",
       "  1937.05,1486.45 1937.05,47.2441 \n",
       "  \"/>\n",
       "<polyline clip-path=\"url(#clip172)\" style=\"stroke:#000000; stroke-width:2; stroke-opacity:0.1; fill:none\" points=\"\n",
       "  2289.34,1486.45 2289.34,47.2441 \n",
       "  \"/>\n",
       "<polyline clip-path=\"url(#clip172)\" style=\"stroke:#000000; stroke-width:2; stroke-opacity:0.1; fill:none\" points=\"\n",
       "  112.177,1445.72 2352.76,1445.72 \n",
       "  \"/>\n",
       "<polyline clip-path=\"url(#clip172)\" style=\"stroke:#000000; stroke-width:2; stroke-opacity:0.1; fill:none\" points=\"\n",
       "  112.177,1144 2352.76,1144 \n",
       "  \"/>\n",
       "<polyline clip-path=\"url(#clip172)\" style=\"stroke:#000000; stroke-width:2; stroke-opacity:0.1; fill:none\" points=\"\n",
       "  112.177,842.276 2352.76,842.276 \n",
       "  \"/>\n",
       "<polyline clip-path=\"url(#clip172)\" style=\"stroke:#000000; stroke-width:2; stroke-opacity:0.1; fill:none\" points=\"\n",
       "  112.177,540.556 2352.76,540.556 \n",
       "  \"/>\n",
       "<polyline clip-path=\"url(#clip172)\" style=\"stroke:#000000; stroke-width:2; stroke-opacity:0.1; fill:none\" points=\"\n",
       "  112.177,238.836 2352.76,238.836 \n",
       "  \"/>\n",
       "<polyline clip-path=\"url(#clip170)\" style=\"stroke:#000000; stroke-width:4; stroke-opacity:1; fill:none\" points=\"\n",
       "  112.177,1486.45 2352.76,1486.45 \n",
       "  \"/>\n",
       "<polyline clip-path=\"url(#clip170)\" style=\"stroke:#000000; stroke-width:4; stroke-opacity:1; fill:none\" points=\"\n",
       "  112.177,1486.45 112.177,47.2441 \n",
       "  \"/>\n",
       "<polyline clip-path=\"url(#clip170)\" style=\"stroke:#000000; stroke-width:4; stroke-opacity:1; fill:none\" points=\"\n",
       "  175.59,1486.45 175.59,1469.18 \n",
       "  \"/>\n",
       "<polyline clip-path=\"url(#clip170)\" style=\"stroke:#000000; stroke-width:4; stroke-opacity:1; fill:none\" points=\"\n",
       "  527.882,1486.45 527.882,1469.18 \n",
       "  \"/>\n",
       "<polyline clip-path=\"url(#clip170)\" style=\"stroke:#000000; stroke-width:4; stroke-opacity:1; fill:none\" points=\"\n",
       "  880.174,1486.45 880.174,1469.18 \n",
       "  \"/>\n",
       "<polyline clip-path=\"url(#clip170)\" style=\"stroke:#000000; stroke-width:4; stroke-opacity:1; fill:none\" points=\"\n",
       "  1232.47,1486.45 1232.47,1469.18 \n",
       "  \"/>\n",
       "<polyline clip-path=\"url(#clip170)\" style=\"stroke:#000000; stroke-width:4; stroke-opacity:1; fill:none\" points=\"\n",
       "  1584.76,1486.45 1584.76,1469.18 \n",
       "  \"/>\n",
       "<polyline clip-path=\"url(#clip170)\" style=\"stroke:#000000; stroke-width:4; stroke-opacity:1; fill:none\" points=\"\n",
       "  1937.05,1486.45 1937.05,1469.18 \n",
       "  \"/>\n",
       "<polyline clip-path=\"url(#clip170)\" style=\"stroke:#000000; stroke-width:4; stroke-opacity:1; fill:none\" points=\"\n",
       "  2289.34,1486.45 2289.34,1469.18 \n",
       "  \"/>\n",
       "<polyline clip-path=\"url(#clip170)\" style=\"stroke:#000000; stroke-width:4; stroke-opacity:1; fill:none\" points=\"\n",
       "  112.177,1445.72 139.064,1445.72 \n",
       "  \"/>\n",
       "<polyline clip-path=\"url(#clip170)\" style=\"stroke:#000000; stroke-width:4; stroke-opacity:1; fill:none\" points=\"\n",
       "  112.177,1144 139.064,1144 \n",
       "  \"/>\n",
       "<polyline clip-path=\"url(#clip170)\" style=\"stroke:#000000; stroke-width:4; stroke-opacity:1; fill:none\" points=\"\n",
       "  112.177,842.276 139.064,842.276 \n",
       "  \"/>\n",
       "<polyline clip-path=\"url(#clip170)\" style=\"stroke:#000000; stroke-width:4; stroke-opacity:1; fill:none\" points=\"\n",
       "  112.177,540.556 139.064,540.556 \n",
       "  \"/>\n",
       "<polyline clip-path=\"url(#clip170)\" style=\"stroke:#000000; stroke-width:4; stroke-opacity:1; fill:none\" points=\"\n",
       "  112.177,238.836 139.064,238.836 \n",
       "  \"/>\n",
       "<path clip-path=\"url(#clip170)\" d=\"M 0 0 M156.169 1525.04 L168.645 1525.04 L168.645 1528.83 L156.169 1528.83 L156.169 1525.04 Z\" fill=\"#000000\" fill-rule=\"evenodd\" fill-opacity=\"1\" /><path clip-path=\"url(#clip170)\" d=\"M 0 0 M187.881 1521.29 Q191.238 1522 193.113 1524.27 Q195.011 1526.54 195.011 1529.87 Q195.011 1534.99 191.492 1537.79 Q187.974 1540.59 181.493 1540.59 Q179.317 1540.59 177.002 1540.15 Q174.71 1539.73 172.256 1538.88 L172.256 1534.36 Q174.201 1535.5 176.516 1536.08 Q178.831 1536.66 181.354 1536.66 Q185.752 1536.66 188.043 1534.92 Q190.358 1533.18 190.358 1529.87 Q190.358 1526.82 188.205 1525.11 Q186.076 1523.37 182.256 1523.37 L178.229 1523.37 L178.229 1519.53 L182.442 1519.53 Q185.891 1519.53 187.719 1518.16 Q189.548 1516.77 189.548 1514.18 Q189.548 1511.52 187.65 1510.11 Q185.775 1508.67 182.256 1508.67 Q180.335 1508.67 178.136 1509.09 Q175.937 1509.5 173.298 1510.38 L173.298 1506.22 Q175.96 1505.48 178.275 1505.11 Q180.613 1504.73 182.673 1504.73 Q187.997 1504.73 191.099 1507.17 Q194.201 1509.57 194.201 1513.69 Q194.201 1516.56 192.557 1518.55 Q190.914 1520.52 187.881 1521.29 Z\" fill=\"#000000\" fill-rule=\"evenodd\" fill-opacity=\"1\" /><path clip-path=\"url(#clip170)\" d=\"M 0 0 M508.935 1525.04 L521.412 1525.04 L521.412 1528.83 L508.935 1528.83 L508.935 1525.04 Z\" fill=\"#000000\" fill-rule=\"evenodd\" fill-opacity=\"1\" /><path clip-path=\"url(#clip170)\" d=\"M 0 0 M530.509 1535.98 L546.829 1535.98 L546.829 1539.92 L524.884 1539.92 L524.884 1535.98 Q527.546 1533.23 532.13 1528.6 Q536.736 1523.95 537.917 1522.61 Q540.162 1520.08 541.042 1518.35 Q541.944 1516.59 541.944 1514.9 Q541.944 1512.14 540 1510.41 Q538.079 1508.67 534.977 1508.67 Q532.778 1508.67 530.324 1509.43 Q527.894 1510.2 525.116 1511.75 L525.116 1507.03 Q527.94 1505.89 530.394 1505.31 Q532.847 1504.73 534.884 1504.73 Q540.255 1504.73 543.449 1507.42 Q546.644 1510.11 546.644 1514.6 Q546.644 1516.73 545.833 1518.65 Q545.046 1520.54 542.94 1523.14 Q542.361 1523.81 539.259 1527.03 Q536.157 1530.22 530.509 1535.98 Z\" fill=\"#000000\" fill-rule=\"evenodd\" fill-opacity=\"1\" /><path clip-path=\"url(#clip170)\" d=\"M 0 0 M861.042 1525.04 L873.519 1525.04 L873.519 1528.83 L861.042 1528.83 L861.042 1525.04 Z\" fill=\"#000000\" fill-rule=\"evenodd\" fill-opacity=\"1\" /><path clip-path=\"url(#clip170)\" d=\"M 0 0 M879.399 1535.98 L887.038 1535.98 L887.038 1509.62 L878.728 1511.29 L878.728 1507.03 L886.991 1505.36 L891.667 1505.36 L891.667 1535.98 L899.306 1535.98 L899.306 1539.92 L879.399 1539.92 L879.399 1535.98 Z\" fill=\"#000000\" fill-rule=\"evenodd\" fill-opacity=\"1\" /><path clip-path=\"url(#clip170)\" d=\"M 0 0 M1232.47 1508.44 Q1228.86 1508.44 1227.03 1512 Q1225.22 1515.55 1225.22 1522.67 Q1225.22 1529.78 1227.03 1533.35 Q1228.86 1536.89 1232.47 1536.89 Q1236.1 1536.89 1237.91 1533.35 Q1239.74 1529.78 1239.74 1522.67 Q1239.74 1515.55 1237.91 1512 Q1236.1 1508.44 1232.47 1508.44 M1232.47 1504.73 Q1238.28 1504.73 1241.33 1509.34 Q1244.41 1513.92 1244.41 1522.67 Q1244.41 1531.4 1241.33 1536.01 Q1238.28 1540.59 1232.47 1540.59 Q1226.66 1540.59 1223.58 1536.01 Q1220.52 1531.4 1220.52 1522.67 Q1220.52 1513.92 1223.58 1509.34 Q1226.66 1504.73 1232.47 1504.73 Z\" fill=\"#000000\" fill-rule=\"evenodd\" fill-opacity=\"1\" /><path clip-path=\"url(#clip170)\" d=\"M 0 0 M1575.14 1535.98 L1582.78 1535.98 L1582.78 1509.62 L1574.47 1511.29 L1574.47 1507.03 L1582.73 1505.36 L1587.41 1505.36 L1587.41 1535.98 L1595.05 1535.98 L1595.05 1539.92 L1575.14 1539.92 L1575.14 1535.98 Z\" fill=\"#000000\" fill-rule=\"evenodd\" fill-opacity=\"1\" /><path clip-path=\"url(#clip170)\" d=\"M 0 0 M1931.7 1535.98 L1948.02 1535.98 L1948.02 1539.92 L1926.08 1539.92 L1926.08 1535.98 Q1928.74 1533.23 1933.32 1528.6 Q1937.93 1523.95 1939.11 1522.61 Q1941.36 1520.08 1942.24 1518.35 Q1943.14 1516.59 1943.14 1514.9 Q1943.14 1512.14 1941.19 1510.41 Q1939.27 1508.67 1936.17 1508.67 Q1933.97 1508.67 1931.52 1509.43 Q1929.09 1510.2 1926.31 1511.75 L1926.31 1507.03 Q1929.13 1505.89 1931.59 1505.31 Q1934.04 1504.73 1936.08 1504.73 Q1941.45 1504.73 1944.64 1507.42 Q1947.84 1510.11 1947.84 1514.6 Q1947.84 1516.73 1947.03 1518.65 Q1946.24 1520.54 1944.13 1523.14 Q1943.56 1523.81 1940.45 1527.03 Q1937.35 1530.22 1931.7 1535.98 Z\" fill=\"#000000\" fill-rule=\"evenodd\" fill-opacity=\"1\" /><path clip-path=\"url(#clip170)\" d=\"M 0 0 M2293.59 1521.29 Q2296.95 1522 2298.82 1524.27 Q2300.72 1526.54 2300.72 1529.87 Q2300.72 1534.99 2297.2 1537.79 Q2293.68 1540.59 2287.2 1540.59 Q2285.03 1540.59 2282.71 1540.15 Q2280.42 1539.73 2277.97 1538.88 L2277.97 1534.36 Q2279.91 1535.5 2282.23 1536.08 Q2284.54 1536.66 2287.06 1536.66 Q2291.46 1536.66 2293.75 1534.92 Q2296.07 1533.18 2296.07 1529.87 Q2296.07 1526.82 2293.92 1525.11 Q2291.79 1523.37 2287.97 1523.37 L2283.94 1523.37 L2283.94 1519.53 L2288.15 1519.53 Q2291.6 1519.53 2293.43 1518.16 Q2295.26 1516.77 2295.26 1514.18 Q2295.26 1511.52 2293.36 1510.11 Q2291.48 1508.67 2287.97 1508.67 Q2286.04 1508.67 2283.85 1509.09 Q2281.65 1509.5 2279.01 1510.38 L2279.01 1506.22 Q2281.67 1505.48 2283.98 1505.11 Q2286.32 1504.73 2288.38 1504.73 Q2293.71 1504.73 2296.81 1507.17 Q2299.91 1509.57 2299.91 1513.69 Q2299.91 1516.56 2298.27 1518.55 Q2296.62 1520.52 2293.59 1521.29 Z\" fill=\"#000000\" fill-rule=\"evenodd\" fill-opacity=\"1\" /><path clip-path=\"url(#clip170)\" d=\"M 0 0 M76.2328 1431.51 Q72.6217 1431.51 70.793 1435.08 Q68.9875 1438.62 68.9875 1445.75 Q68.9875 1452.86 70.793 1456.42 Q72.6217 1459.96 76.2328 1459.96 Q79.867 1459.96 81.6726 1456.42 Q83.5013 1452.86 83.5013 1445.75 Q83.5013 1438.62 81.6726 1435.08 Q79.867 1431.51 76.2328 1431.51 M76.2328 1427.81 Q82.0429 1427.81 85.0985 1432.42 Q88.1772 1437 88.1772 1445.75 Q88.1772 1454.48 85.0985 1459.08 Q82.0429 1463.67 76.2328 1463.67 Q70.4226 1463.67 67.344 1459.08 Q64.2884 1454.48 64.2884 1445.75 Q64.2884 1437 67.344 1432.42 Q70.4226 1427.81 76.2328 1427.81 Z\" fill=\"#000000\" fill-rule=\"evenodd\" fill-opacity=\"1\" /><path clip-path=\"url(#clip170)\" d=\"M 0 0 M71.8578 1157.34 L88.1772 1157.34 L88.1772 1161.28 L66.2328 1161.28 L66.2328 1157.34 Q68.8949 1154.59 73.4782 1149.96 Q78.0846 1145.3 79.2652 1143.96 Q81.5105 1141.44 82.3902 1139.7 Q83.2929 1137.94 83.2929 1136.25 Q83.2929 1133.5 81.3485 1131.76 Q79.4272 1130.03 76.3254 1130.03 Q74.1263 1130.03 71.6726 1130.79 Q69.2421 1131.55 66.4643 1133.1 L66.4643 1128.38 Q69.2884 1127.25 71.7421 1126.67 Q74.1958 1126.09 76.2328 1126.09 Q81.6031 1126.09 84.7976 1128.78 Q87.992 1131.46 87.992 1135.95 Q87.992 1138.08 87.1818 1140 Q86.3948 1141.9 84.2883 1144.49 Q83.7096 1145.16 80.6078 1148.38 Q77.5059 1151.58 71.8578 1157.34 Z\" fill=\"#000000\" fill-rule=\"evenodd\" fill-opacity=\"1\" /><path clip-path=\"url(#clip170)\" d=\"M 0 0 M78.5939 829.07 L66.7884 847.519 L78.5939 847.519 L78.5939 829.07 M77.367 824.996 L83.2466 824.996 L83.2466 847.519 L88.1772 847.519 L88.1772 851.408 L83.2466 851.408 L83.2466 859.556 L78.5939 859.556 L78.5939 851.408 L62.9921 851.408 L62.9921 846.894 L77.367 824.996 Z\" fill=\"#000000\" fill-rule=\"evenodd\" fill-opacity=\"1\" /><path clip-path=\"url(#clip170)\" d=\"M 0 0 M76.6495 538.693 Q73.5013 538.693 71.6495 540.845 Q69.8208 542.998 69.8208 546.748 Q69.8208 550.475 71.6495 552.651 Q73.5013 554.804 76.6495 554.804 Q79.7976 554.804 81.6263 552.651 Q83.4781 550.475 83.4781 546.748 Q83.4781 542.998 81.6263 540.845 Q79.7976 538.693 76.6495 538.693 M85.9318 524.04 L85.9318 528.299 Q84.1726 527.466 82.367 527.026 Q80.5846 526.586 78.8254 526.586 Q74.1958 526.586 71.7421 529.711 Q69.3115 532.836 68.9643 539.156 Q70.33 537.142 72.3902 536.077 Q74.4504 534.989 76.9272 534.989 Q82.1355 534.989 85.1448 538.16 Q88.1772 541.308 88.1772 546.748 Q88.1772 552.072 85.029 555.29 Q81.8809 558.507 76.6495 558.507 Q70.6541 558.507 67.4828 553.924 Q64.3116 549.318 64.3116 540.591 Q64.3116 532.396 68.2004 527.535 Q72.0893 522.651 78.6402 522.651 Q80.3994 522.651 82.1818 522.998 Q83.9874 523.346 85.9318 524.04 Z\" fill=\"#000000\" fill-rule=\"evenodd\" fill-opacity=\"1\" /><path clip-path=\"url(#clip170)\" d=\"M 0 0 M76.3254 239.704 Q72.9921 239.704 71.0708 241.487 Q69.1726 243.269 69.1726 246.394 Q69.1726 249.519 71.0708 251.301 Q72.9921 253.084 76.3254 253.084 Q79.6587 253.084 81.58 251.301 Q83.5013 249.496 83.5013 246.394 Q83.5013 243.269 81.58 241.487 Q79.6819 239.704 76.3254 239.704 M71.6495 237.714 Q68.6402 236.973 66.9504 234.913 Q65.2838 232.852 65.2838 229.89 Q65.2838 225.746 68.2236 223.339 Q71.1865 220.931 76.3254 220.931 Q81.4874 220.931 84.4272 223.339 Q87.367 225.746 87.367 229.89 Q87.367 232.852 85.6772 234.913 Q84.0105 236.973 81.0244 237.714 Q84.404 238.501 86.279 240.792 Q88.1772 243.084 88.1772 246.394 Q88.1772 251.417 85.0985 254.102 Q82.0429 256.788 76.3254 256.788 Q70.6078 256.788 67.5291 254.102 Q64.4736 251.417 64.4736 246.394 Q64.4736 243.084 66.3717 240.792 Q68.2699 238.501 71.6495 237.714 M69.9365 230.329 Q69.9365 233.014 71.6032 234.519 Q73.293 236.024 76.3254 236.024 Q79.3346 236.024 81.0244 234.519 Q82.7374 233.014 82.7374 230.329 Q82.7374 227.644 81.0244 226.14 Q79.3346 224.635 76.3254 224.635 Q73.293 224.635 71.6032 226.14 Q69.9365 227.644 69.9365 230.329 Z\" fill=\"#000000\" fill-rule=\"evenodd\" fill-opacity=\"1\" /><polyline clip-path=\"url(#clip172)\" style=\"stroke:#009af9; stroke-width:4; stroke-opacity:1; fill:none\" points=\"\n",
       "  175.59,87.9763 210.819,176.984 246.048,262.974 281.277,345.947 316.507,425.903 351.736,502.841 386.965,576.762 422.194,647.667 457.424,715.554 492.653,780.423 \n",
       "  527.882,842.276 563.111,901.111 598.34,956.93 633.57,1009.73 668.799,1059.51 704.028,1106.28 739.257,1150.03 774.487,1190.76 809.716,1228.48 844.945,1263.18 \n",
       "  880.174,1294.86 915.404,1323.52 950.633,1349.17 985.862,1371.79 1021.09,1391.41 1056.32,1408 1091.55,1421.58 1126.78,1432.14 1162.01,1439.68 1197.24,1444.21 \n",
       "  1232.47,1445.72 1267.7,1444.21 1302.92,1439.68 1338.15,1432.14 1373.38,1421.58 1408.61,1408 1443.84,1391.41 1479.07,1371.79 1514.3,1349.17 1549.53,1323.52 \n",
       "  1584.76,1294.86 1619.99,1263.18 1655.22,1228.48 1690.45,1190.76 1725.68,1150.03 1760.9,1106.28 1796.13,1059.51 1831.36,1009.73 1866.59,956.93 1901.82,901.111 \n",
       "  1937.05,842.276 1972.28,780.423 2007.51,715.554 2042.74,647.667 2077.97,576.762 2113.2,502.841 2148.43,425.903 2183.66,345.947 2218.88,262.974 2254.11,176.984 \n",
       "  2289.34,87.9763 \n",
       "  \"/>\n",
       "<circle clip-path=\"url(#clip172)\" cx=\"175.59\" cy=\"87.9763\" r=\"14\" fill=\"#e26f46\" fill-rule=\"evenodd\" fill-opacity=\"1\" stroke=\"#000000\" stroke-opacity=\"1\" stroke-width=\"3.2\"/>\n",
       "<circle clip-path=\"url(#clip172)\" cx=\"210.819\" cy=\"176.984\" r=\"14\" fill=\"#e26f46\" fill-rule=\"evenodd\" fill-opacity=\"1\" stroke=\"#000000\" stroke-opacity=\"1\" stroke-width=\"3.2\"/>\n",
       "<circle clip-path=\"url(#clip172)\" cx=\"246.048\" cy=\"262.974\" r=\"14\" fill=\"#e26f46\" fill-rule=\"evenodd\" fill-opacity=\"1\" stroke=\"#000000\" stroke-opacity=\"1\" stroke-width=\"3.2\"/>\n",
       "<circle clip-path=\"url(#clip172)\" cx=\"281.277\" cy=\"345.947\" r=\"14\" fill=\"#e26f46\" fill-rule=\"evenodd\" fill-opacity=\"1\" stroke=\"#000000\" stroke-opacity=\"1\" stroke-width=\"3.2\"/>\n",
       "<circle clip-path=\"url(#clip172)\" cx=\"316.507\" cy=\"425.903\" r=\"14\" fill=\"#e26f46\" fill-rule=\"evenodd\" fill-opacity=\"1\" stroke=\"#000000\" stroke-opacity=\"1\" stroke-width=\"3.2\"/>\n",
       "<circle clip-path=\"url(#clip172)\" cx=\"351.736\" cy=\"502.841\" r=\"14\" fill=\"#e26f46\" fill-rule=\"evenodd\" fill-opacity=\"1\" stroke=\"#000000\" stroke-opacity=\"1\" stroke-width=\"3.2\"/>\n",
       "<circle clip-path=\"url(#clip172)\" cx=\"386.965\" cy=\"576.762\" r=\"14\" fill=\"#e26f46\" fill-rule=\"evenodd\" fill-opacity=\"1\" stroke=\"#000000\" stroke-opacity=\"1\" stroke-width=\"3.2\"/>\n",
       "<circle clip-path=\"url(#clip172)\" cx=\"422.194\" cy=\"647.667\" r=\"14\" fill=\"#e26f46\" fill-rule=\"evenodd\" fill-opacity=\"1\" stroke=\"#000000\" stroke-opacity=\"1\" stroke-width=\"3.2\"/>\n",
       "<circle clip-path=\"url(#clip172)\" cx=\"457.424\" cy=\"715.554\" r=\"14\" fill=\"#e26f46\" fill-rule=\"evenodd\" fill-opacity=\"1\" stroke=\"#000000\" stroke-opacity=\"1\" stroke-width=\"3.2\"/>\n",
       "<circle clip-path=\"url(#clip172)\" cx=\"492.653\" cy=\"780.423\" r=\"14\" fill=\"#e26f46\" fill-rule=\"evenodd\" fill-opacity=\"1\" stroke=\"#000000\" stroke-opacity=\"1\" stroke-width=\"3.2\"/>\n",
       "<circle clip-path=\"url(#clip172)\" cx=\"527.882\" cy=\"842.276\" r=\"14\" fill=\"#e26f46\" fill-rule=\"evenodd\" fill-opacity=\"1\" stroke=\"#000000\" stroke-opacity=\"1\" stroke-width=\"3.2\"/>\n",
       "<circle clip-path=\"url(#clip172)\" cx=\"563.111\" cy=\"901.111\" r=\"14\" fill=\"#e26f46\" fill-rule=\"evenodd\" fill-opacity=\"1\" stroke=\"#000000\" stroke-opacity=\"1\" stroke-width=\"3.2\"/>\n",
       "<circle clip-path=\"url(#clip172)\" cx=\"598.34\" cy=\"956.93\" r=\"14\" fill=\"#e26f46\" fill-rule=\"evenodd\" fill-opacity=\"1\" stroke=\"#000000\" stroke-opacity=\"1\" stroke-width=\"3.2\"/>\n",
       "<circle clip-path=\"url(#clip172)\" cx=\"633.57\" cy=\"1009.73\" r=\"14\" fill=\"#e26f46\" fill-rule=\"evenodd\" fill-opacity=\"1\" stroke=\"#000000\" stroke-opacity=\"1\" stroke-width=\"3.2\"/>\n",
       "<circle clip-path=\"url(#clip172)\" cx=\"668.799\" cy=\"1059.51\" r=\"14\" fill=\"#e26f46\" fill-rule=\"evenodd\" fill-opacity=\"1\" stroke=\"#000000\" stroke-opacity=\"1\" stroke-width=\"3.2\"/>\n",
       "<circle clip-path=\"url(#clip172)\" cx=\"704.028\" cy=\"1106.28\" r=\"14\" fill=\"#e26f46\" fill-rule=\"evenodd\" fill-opacity=\"1\" stroke=\"#000000\" stroke-opacity=\"1\" stroke-width=\"3.2\"/>\n",
       "<circle clip-path=\"url(#clip172)\" cx=\"739.257\" cy=\"1150.03\" r=\"14\" fill=\"#e26f46\" fill-rule=\"evenodd\" fill-opacity=\"1\" stroke=\"#000000\" stroke-opacity=\"1\" stroke-width=\"3.2\"/>\n",
       "<circle clip-path=\"url(#clip172)\" cx=\"774.487\" cy=\"1190.76\" r=\"14\" fill=\"#e26f46\" fill-rule=\"evenodd\" fill-opacity=\"1\" stroke=\"#000000\" stroke-opacity=\"1\" stroke-width=\"3.2\"/>\n",
       "<circle clip-path=\"url(#clip172)\" cx=\"809.716\" cy=\"1228.48\" r=\"14\" fill=\"#e26f46\" fill-rule=\"evenodd\" fill-opacity=\"1\" stroke=\"#000000\" stroke-opacity=\"1\" stroke-width=\"3.2\"/>\n",
       "<circle clip-path=\"url(#clip172)\" cx=\"844.945\" cy=\"1263.18\" r=\"14\" fill=\"#e26f46\" fill-rule=\"evenodd\" fill-opacity=\"1\" stroke=\"#000000\" stroke-opacity=\"1\" stroke-width=\"3.2\"/>\n",
       "<circle clip-path=\"url(#clip172)\" cx=\"880.174\" cy=\"1294.86\" r=\"14\" fill=\"#e26f46\" fill-rule=\"evenodd\" fill-opacity=\"1\" stroke=\"#000000\" stroke-opacity=\"1\" stroke-width=\"3.2\"/>\n",
       "<circle clip-path=\"url(#clip172)\" cx=\"915.404\" cy=\"1323.52\" r=\"14\" fill=\"#e26f46\" fill-rule=\"evenodd\" fill-opacity=\"1\" stroke=\"#000000\" stroke-opacity=\"1\" stroke-width=\"3.2\"/>\n",
       "<circle clip-path=\"url(#clip172)\" cx=\"950.633\" cy=\"1349.17\" r=\"14\" fill=\"#e26f46\" fill-rule=\"evenodd\" fill-opacity=\"1\" stroke=\"#000000\" stroke-opacity=\"1\" stroke-width=\"3.2\"/>\n",
       "<circle clip-path=\"url(#clip172)\" cx=\"985.862\" cy=\"1371.79\" r=\"14\" fill=\"#e26f46\" fill-rule=\"evenodd\" fill-opacity=\"1\" stroke=\"#000000\" stroke-opacity=\"1\" stroke-width=\"3.2\"/>\n",
       "<circle clip-path=\"url(#clip172)\" cx=\"1021.09\" cy=\"1391.41\" r=\"14\" fill=\"#e26f46\" fill-rule=\"evenodd\" fill-opacity=\"1\" stroke=\"#000000\" stroke-opacity=\"1\" stroke-width=\"3.2\"/>\n",
       "<circle clip-path=\"url(#clip172)\" cx=\"1056.32\" cy=\"1408\" r=\"14\" fill=\"#e26f46\" fill-rule=\"evenodd\" fill-opacity=\"1\" stroke=\"#000000\" stroke-opacity=\"1\" stroke-width=\"3.2\"/>\n",
       "<circle clip-path=\"url(#clip172)\" cx=\"1091.55\" cy=\"1421.58\" r=\"14\" fill=\"#e26f46\" fill-rule=\"evenodd\" fill-opacity=\"1\" stroke=\"#000000\" stroke-opacity=\"1\" stroke-width=\"3.2\"/>\n",
       "<circle clip-path=\"url(#clip172)\" cx=\"1126.78\" cy=\"1432.14\" r=\"14\" fill=\"#e26f46\" fill-rule=\"evenodd\" fill-opacity=\"1\" stroke=\"#000000\" stroke-opacity=\"1\" stroke-width=\"3.2\"/>\n",
       "<circle clip-path=\"url(#clip172)\" cx=\"1162.01\" cy=\"1439.68\" r=\"14\" fill=\"#e26f46\" fill-rule=\"evenodd\" fill-opacity=\"1\" stroke=\"#000000\" stroke-opacity=\"1\" stroke-width=\"3.2\"/>\n",
       "<circle clip-path=\"url(#clip172)\" cx=\"1197.24\" cy=\"1444.21\" r=\"14\" fill=\"#e26f46\" fill-rule=\"evenodd\" fill-opacity=\"1\" stroke=\"#000000\" stroke-opacity=\"1\" stroke-width=\"3.2\"/>\n",
       "<circle clip-path=\"url(#clip172)\" cx=\"1232.47\" cy=\"1445.72\" r=\"14\" fill=\"#e26f46\" fill-rule=\"evenodd\" fill-opacity=\"1\" stroke=\"#000000\" stroke-opacity=\"1\" stroke-width=\"3.2\"/>\n",
       "<circle clip-path=\"url(#clip172)\" cx=\"1267.7\" cy=\"1444.21\" r=\"14\" fill=\"#e26f46\" fill-rule=\"evenodd\" fill-opacity=\"1\" stroke=\"#000000\" stroke-opacity=\"1\" stroke-width=\"3.2\"/>\n",
       "<circle clip-path=\"url(#clip172)\" cx=\"1302.92\" cy=\"1439.68\" r=\"14\" fill=\"#e26f46\" fill-rule=\"evenodd\" fill-opacity=\"1\" stroke=\"#000000\" stroke-opacity=\"1\" stroke-width=\"3.2\"/>\n",
       "<circle clip-path=\"url(#clip172)\" cx=\"1338.15\" cy=\"1432.14\" r=\"14\" fill=\"#e26f46\" fill-rule=\"evenodd\" fill-opacity=\"1\" stroke=\"#000000\" stroke-opacity=\"1\" stroke-width=\"3.2\"/>\n",
       "<circle clip-path=\"url(#clip172)\" cx=\"1373.38\" cy=\"1421.58\" r=\"14\" fill=\"#e26f46\" fill-rule=\"evenodd\" fill-opacity=\"1\" stroke=\"#000000\" stroke-opacity=\"1\" stroke-width=\"3.2\"/>\n",
       "<circle clip-path=\"url(#clip172)\" cx=\"1408.61\" cy=\"1408\" r=\"14\" fill=\"#e26f46\" fill-rule=\"evenodd\" fill-opacity=\"1\" stroke=\"#000000\" stroke-opacity=\"1\" stroke-width=\"3.2\"/>\n",
       "<circle clip-path=\"url(#clip172)\" cx=\"1443.84\" cy=\"1391.41\" r=\"14\" fill=\"#e26f46\" fill-rule=\"evenodd\" fill-opacity=\"1\" stroke=\"#000000\" stroke-opacity=\"1\" stroke-width=\"3.2\"/>\n",
       "<circle clip-path=\"url(#clip172)\" cx=\"1479.07\" cy=\"1371.79\" r=\"14\" fill=\"#e26f46\" fill-rule=\"evenodd\" fill-opacity=\"1\" stroke=\"#000000\" stroke-opacity=\"1\" stroke-width=\"3.2\"/>\n",
       "<circle clip-path=\"url(#clip172)\" cx=\"1514.3\" cy=\"1349.17\" r=\"14\" fill=\"#e26f46\" fill-rule=\"evenodd\" fill-opacity=\"1\" stroke=\"#000000\" stroke-opacity=\"1\" stroke-width=\"3.2\"/>\n",
       "<circle clip-path=\"url(#clip172)\" cx=\"1549.53\" cy=\"1323.52\" r=\"14\" fill=\"#e26f46\" fill-rule=\"evenodd\" fill-opacity=\"1\" stroke=\"#000000\" stroke-opacity=\"1\" stroke-width=\"3.2\"/>\n",
       "<circle clip-path=\"url(#clip172)\" cx=\"1584.76\" cy=\"1294.86\" r=\"14\" fill=\"#e26f46\" fill-rule=\"evenodd\" fill-opacity=\"1\" stroke=\"#000000\" stroke-opacity=\"1\" stroke-width=\"3.2\"/>\n",
       "<circle clip-path=\"url(#clip172)\" cx=\"1619.99\" cy=\"1263.18\" r=\"14\" fill=\"#e26f46\" fill-rule=\"evenodd\" fill-opacity=\"1\" stroke=\"#000000\" stroke-opacity=\"1\" stroke-width=\"3.2\"/>\n",
       "<circle clip-path=\"url(#clip172)\" cx=\"1655.22\" cy=\"1228.48\" r=\"14\" fill=\"#e26f46\" fill-rule=\"evenodd\" fill-opacity=\"1\" stroke=\"#000000\" stroke-opacity=\"1\" stroke-width=\"3.2\"/>\n",
       "<circle clip-path=\"url(#clip172)\" cx=\"1690.45\" cy=\"1190.76\" r=\"14\" fill=\"#e26f46\" fill-rule=\"evenodd\" fill-opacity=\"1\" stroke=\"#000000\" stroke-opacity=\"1\" stroke-width=\"3.2\"/>\n",
       "<circle clip-path=\"url(#clip172)\" cx=\"1725.68\" cy=\"1150.03\" r=\"14\" fill=\"#e26f46\" fill-rule=\"evenodd\" fill-opacity=\"1\" stroke=\"#000000\" stroke-opacity=\"1\" stroke-width=\"3.2\"/>\n",
       "<circle clip-path=\"url(#clip172)\" cx=\"1760.9\" cy=\"1106.28\" r=\"14\" fill=\"#e26f46\" fill-rule=\"evenodd\" fill-opacity=\"1\" stroke=\"#000000\" stroke-opacity=\"1\" stroke-width=\"3.2\"/>\n",
       "<circle clip-path=\"url(#clip172)\" cx=\"1796.13\" cy=\"1059.51\" r=\"14\" fill=\"#e26f46\" fill-rule=\"evenodd\" fill-opacity=\"1\" stroke=\"#000000\" stroke-opacity=\"1\" stroke-width=\"3.2\"/>\n",
       "<circle clip-path=\"url(#clip172)\" cx=\"1831.36\" cy=\"1009.73\" r=\"14\" fill=\"#e26f46\" fill-rule=\"evenodd\" fill-opacity=\"1\" stroke=\"#000000\" stroke-opacity=\"1\" stroke-width=\"3.2\"/>\n",
       "<circle clip-path=\"url(#clip172)\" cx=\"1866.59\" cy=\"956.93\" r=\"14\" fill=\"#e26f46\" fill-rule=\"evenodd\" fill-opacity=\"1\" stroke=\"#000000\" stroke-opacity=\"1\" stroke-width=\"3.2\"/>\n",
       "<circle clip-path=\"url(#clip172)\" cx=\"1901.82\" cy=\"901.111\" r=\"14\" fill=\"#e26f46\" fill-rule=\"evenodd\" fill-opacity=\"1\" stroke=\"#000000\" stroke-opacity=\"1\" stroke-width=\"3.2\"/>\n",
       "<circle clip-path=\"url(#clip172)\" cx=\"1937.05\" cy=\"842.276\" r=\"14\" fill=\"#e26f46\" fill-rule=\"evenodd\" fill-opacity=\"1\" stroke=\"#000000\" stroke-opacity=\"1\" stroke-width=\"3.2\"/>\n",
       "<circle clip-path=\"url(#clip172)\" cx=\"1972.28\" cy=\"780.423\" r=\"14\" fill=\"#e26f46\" fill-rule=\"evenodd\" fill-opacity=\"1\" stroke=\"#000000\" stroke-opacity=\"1\" stroke-width=\"3.2\"/>\n",
       "<circle clip-path=\"url(#clip172)\" cx=\"2007.51\" cy=\"715.554\" r=\"14\" fill=\"#e26f46\" fill-rule=\"evenodd\" fill-opacity=\"1\" stroke=\"#000000\" stroke-opacity=\"1\" stroke-width=\"3.2\"/>\n",
       "<circle clip-path=\"url(#clip172)\" cx=\"2042.74\" cy=\"647.667\" r=\"14\" fill=\"#e26f46\" fill-rule=\"evenodd\" fill-opacity=\"1\" stroke=\"#000000\" stroke-opacity=\"1\" stroke-width=\"3.2\"/>\n",
       "<circle clip-path=\"url(#clip172)\" cx=\"2077.97\" cy=\"576.762\" r=\"14\" fill=\"#e26f46\" fill-rule=\"evenodd\" fill-opacity=\"1\" stroke=\"#000000\" stroke-opacity=\"1\" stroke-width=\"3.2\"/>\n",
       "<circle clip-path=\"url(#clip172)\" cx=\"2113.2\" cy=\"502.841\" r=\"14\" fill=\"#e26f46\" fill-rule=\"evenodd\" fill-opacity=\"1\" stroke=\"#000000\" stroke-opacity=\"1\" stroke-width=\"3.2\"/>\n",
       "<circle clip-path=\"url(#clip172)\" cx=\"2148.43\" cy=\"425.903\" r=\"14\" fill=\"#e26f46\" fill-rule=\"evenodd\" fill-opacity=\"1\" stroke=\"#000000\" stroke-opacity=\"1\" stroke-width=\"3.2\"/>\n",
       "<circle clip-path=\"url(#clip172)\" cx=\"2183.66\" cy=\"345.947\" r=\"14\" fill=\"#e26f46\" fill-rule=\"evenodd\" fill-opacity=\"1\" stroke=\"#000000\" stroke-opacity=\"1\" stroke-width=\"3.2\"/>\n",
       "<circle clip-path=\"url(#clip172)\" cx=\"2218.88\" cy=\"262.974\" r=\"14\" fill=\"#e26f46\" fill-rule=\"evenodd\" fill-opacity=\"1\" stroke=\"#000000\" stroke-opacity=\"1\" stroke-width=\"3.2\"/>\n",
       "<circle clip-path=\"url(#clip172)\" cx=\"2254.11\" cy=\"176.984\" r=\"14\" fill=\"#e26f46\" fill-rule=\"evenodd\" fill-opacity=\"1\" stroke=\"#000000\" stroke-opacity=\"1\" stroke-width=\"3.2\"/>\n",
       "<circle clip-path=\"url(#clip172)\" cx=\"2289.34\" cy=\"87.9763\" r=\"14\" fill=\"#e26f46\" fill-rule=\"evenodd\" fill-opacity=\"1\" stroke=\"#000000\" stroke-opacity=\"1\" stroke-width=\"3.2\"/>\n",
       "<path clip-path=\"url(#clip170)\" d=\"\n",
       "M1904.93 276.658 L2278.07 276.658 L2278.07 95.2176 L1904.93 95.2176  Z\n",
       "  \" fill=\"#ffffff\" fill-rule=\"evenodd\" fill-opacity=\"1\"/>\n",
       "<polyline clip-path=\"url(#clip170)\" style=\"stroke:#000000; stroke-width:4; stroke-opacity:1; fill:none\" points=\"\n",
       "  1904.93,276.658 2278.07,276.658 2278.07,95.2176 1904.93,95.2176 1904.93,276.658 \n",
       "  \"/>\n",
       "<polyline clip-path=\"url(#clip170)\" style=\"stroke:#009af9; stroke-width:4; stroke-opacity:1; fill:none\" points=\"\n",
       "  1929.82,155.698 2079.19,155.698 \n",
       "  \"/>\n",
       "<path clip-path=\"url(#clip170)\" d=\"M 0 0 M2104.09 136.959 L2108.35 136.959 L2108.35 172.978 L2104.09 172.978 L2104.09 136.959 Z\" fill=\"#000000\" fill-rule=\"evenodd\" fill-opacity=\"1\" /><path clip-path=\"url(#clip170)\" d=\"M 0 0 M2112.82 147.052 L2117.08 147.052 L2117.08 172.978 L2112.82 172.978 L2112.82 147.052 M2112.82 136.959 L2117.08 136.959 L2117.08 142.353 L2112.82 142.353 L2112.82 136.959 Z\" fill=\"#000000\" fill-rule=\"evenodd\" fill-opacity=\"1\" /><path clip-path=\"url(#clip170)\" d=\"M 0 0 M2143.09 157.329 L2143.09 172.978 L2138.84 172.978 L2138.84 157.468 Q2138.84 153.788 2137.4 151.959 Q2135.96 150.13 2133.09 150.13 Q2129.65 150.13 2127.65 152.33 Q2125.66 154.529 2125.66 158.325 L2125.66 172.978 L2121.38 172.978 L2121.38 147.052 L2125.66 147.052 L2125.66 151.08 Q2127.19 148.742 2129.25 147.584 Q2131.34 146.427 2134.04 146.427 Q2138.51 146.427 2140.8 149.205 Q2143.09 151.959 2143.09 157.329 Z\" fill=\"#000000\" fill-rule=\"evenodd\" fill-opacity=\"1\" /><path clip-path=\"url(#clip170)\" d=\"M 0 0 M2169.74 158.95 L2169.74 161.033 L2150.15 161.033 Q2150.43 165.431 2152.79 167.746 Q2155.18 170.038 2159.41 170.038 Q2161.87 170.038 2164.16 169.436 Q2166.47 168.834 2168.74 167.63 L2168.74 171.658 Q2166.45 172.63 2164.04 173.14 Q2161.64 173.649 2159.16 173.649 Q2152.96 173.649 2149.32 170.038 Q2145.71 166.427 2145.71 160.269 Q2145.71 153.904 2149.14 150.177 Q2152.59 146.427 2158.42 146.427 Q2163.65 146.427 2166.68 149.806 Q2169.74 153.163 2169.74 158.95 M2165.48 157.7 Q2165.43 154.205 2163.51 152.121 Q2161.61 150.038 2158.46 150.038 Q2154.9 150.038 2152.75 152.052 Q2150.62 154.066 2150.29 157.723 L2165.48 157.7 Z\" fill=\"#000000\" fill-rule=\"evenodd\" fill-opacity=\"1\" /><circle clip-path=\"url(#clip170)\" cx=\"2004.51\" cy=\"216.178\" r=\"23\" fill=\"#e26f46\" fill-rule=\"evenodd\" fill-opacity=\"1\" stroke=\"#000000\" stroke-opacity=\"1\" stroke-width=\"5.12\"/>\n",
       "<circle clip-path=\"url(#clip170)\" cx=\"2004.51\" cy=\"216.178\" r=\"23\" fill=\"#e26f46\" fill-rule=\"evenodd\" fill-opacity=\"1\" stroke=\"#000000\" stroke-opacity=\"1\" stroke-width=\"5.12\"/>\n",
       "<circle clip-path=\"url(#clip170)\" cx=\"2004.51\" cy=\"216.178\" r=\"23\" fill=\"#e26f46\" fill-rule=\"evenodd\" fill-opacity=\"1\" stroke=\"#000000\" stroke-opacity=\"1\" stroke-width=\"5.12\"/>\n",
       "<circle clip-path=\"url(#clip170)\" cx=\"2004.51\" cy=\"216.178\" r=\"23\" fill=\"#e26f46\" fill-rule=\"evenodd\" fill-opacity=\"1\" stroke=\"#000000\" stroke-opacity=\"1\" stroke-width=\"5.12\"/>\n",
       "<circle clip-path=\"url(#clip170)\" cx=\"2004.51\" cy=\"216.178\" r=\"23\" fill=\"#e26f46\" fill-rule=\"evenodd\" fill-opacity=\"1\" stroke=\"#000000\" stroke-opacity=\"1\" stroke-width=\"5.12\"/>\n",
       "<circle clip-path=\"url(#clip170)\" cx=\"2004.51\" cy=\"216.178\" r=\"23\" fill=\"#e26f46\" fill-rule=\"evenodd\" fill-opacity=\"1\" stroke=\"#000000\" stroke-opacity=\"1\" stroke-width=\"5.12\"/>\n",
       "<circle clip-path=\"url(#clip170)\" cx=\"2004.51\" cy=\"216.178\" r=\"23\" fill=\"#e26f46\" fill-rule=\"evenodd\" fill-opacity=\"1\" stroke=\"#000000\" stroke-opacity=\"1\" stroke-width=\"5.12\"/>\n",
       "<circle clip-path=\"url(#clip170)\" cx=\"2004.51\" cy=\"216.178\" r=\"23\" fill=\"#e26f46\" fill-rule=\"evenodd\" fill-opacity=\"1\" stroke=\"#000000\" stroke-opacity=\"1\" stroke-width=\"5.12\"/>\n",
       "<circle clip-path=\"url(#clip170)\" cx=\"2004.51\" cy=\"216.178\" r=\"23\" fill=\"#e26f46\" fill-rule=\"evenodd\" fill-opacity=\"1\" stroke=\"#000000\" stroke-opacity=\"1\" stroke-width=\"5.12\"/>\n",
       "<circle clip-path=\"url(#clip170)\" cx=\"2004.51\" cy=\"216.178\" r=\"23\" fill=\"#e26f46\" fill-rule=\"evenodd\" fill-opacity=\"1\" stroke=\"#000000\" stroke-opacity=\"1\" stroke-width=\"5.12\"/>\n",
       "<circle clip-path=\"url(#clip170)\" cx=\"2004.51\" cy=\"216.178\" r=\"23\" fill=\"#e26f46\" fill-rule=\"evenodd\" fill-opacity=\"1\" stroke=\"#000000\" stroke-opacity=\"1\" stroke-width=\"5.12\"/>\n",
       "<circle clip-path=\"url(#clip170)\" cx=\"2004.51\" cy=\"216.178\" r=\"23\" fill=\"#e26f46\" fill-rule=\"evenodd\" fill-opacity=\"1\" stroke=\"#000000\" stroke-opacity=\"1\" stroke-width=\"5.12\"/>\n",
       "<circle clip-path=\"url(#clip170)\" cx=\"2004.51\" cy=\"216.178\" r=\"23\" fill=\"#e26f46\" fill-rule=\"evenodd\" fill-opacity=\"1\" stroke=\"#000000\" stroke-opacity=\"1\" stroke-width=\"5.12\"/>\n",
       "<circle clip-path=\"url(#clip170)\" cx=\"2004.51\" cy=\"216.178\" r=\"23\" fill=\"#e26f46\" fill-rule=\"evenodd\" fill-opacity=\"1\" stroke=\"#000000\" stroke-opacity=\"1\" stroke-width=\"5.12\"/>\n",
       "<circle clip-path=\"url(#clip170)\" cx=\"2004.51\" cy=\"216.178\" r=\"23\" fill=\"#e26f46\" fill-rule=\"evenodd\" fill-opacity=\"1\" stroke=\"#000000\" stroke-opacity=\"1\" stroke-width=\"5.12\"/>\n",
       "<circle clip-path=\"url(#clip170)\" cx=\"2004.51\" cy=\"216.178\" r=\"23\" fill=\"#e26f46\" fill-rule=\"evenodd\" fill-opacity=\"1\" stroke=\"#000000\" stroke-opacity=\"1\" stroke-width=\"5.12\"/>\n",
       "<circle clip-path=\"url(#clip170)\" cx=\"2004.51\" cy=\"216.178\" r=\"23\" fill=\"#e26f46\" fill-rule=\"evenodd\" fill-opacity=\"1\" stroke=\"#000000\" stroke-opacity=\"1\" stroke-width=\"5.12\"/>\n",
       "<circle clip-path=\"url(#clip170)\" cx=\"2004.51\" cy=\"216.178\" r=\"23\" fill=\"#e26f46\" fill-rule=\"evenodd\" fill-opacity=\"1\" stroke=\"#000000\" stroke-opacity=\"1\" stroke-width=\"5.12\"/>\n",
       "<circle clip-path=\"url(#clip170)\" cx=\"2004.51\" cy=\"216.178\" r=\"23\" fill=\"#e26f46\" fill-rule=\"evenodd\" fill-opacity=\"1\" stroke=\"#000000\" stroke-opacity=\"1\" stroke-width=\"5.12\"/>\n",
       "<circle clip-path=\"url(#clip170)\" cx=\"2004.51\" cy=\"216.178\" r=\"23\" fill=\"#e26f46\" fill-rule=\"evenodd\" fill-opacity=\"1\" stroke=\"#000000\" stroke-opacity=\"1\" stroke-width=\"5.12\"/>\n",
       "<circle clip-path=\"url(#clip170)\" cx=\"2004.51\" cy=\"216.178\" r=\"23\" fill=\"#e26f46\" fill-rule=\"evenodd\" fill-opacity=\"1\" stroke=\"#000000\" stroke-opacity=\"1\" stroke-width=\"5.12\"/>\n",
       "<circle clip-path=\"url(#clip170)\" cx=\"2004.51\" cy=\"216.178\" r=\"23\" fill=\"#e26f46\" fill-rule=\"evenodd\" fill-opacity=\"1\" stroke=\"#000000\" stroke-opacity=\"1\" stroke-width=\"5.12\"/>\n",
       "<circle clip-path=\"url(#clip170)\" cx=\"2004.51\" cy=\"216.178\" r=\"23\" fill=\"#e26f46\" fill-rule=\"evenodd\" fill-opacity=\"1\" stroke=\"#000000\" stroke-opacity=\"1\" stroke-width=\"5.12\"/>\n",
       "<circle clip-path=\"url(#clip170)\" cx=\"2004.51\" cy=\"216.178\" r=\"23\" fill=\"#e26f46\" fill-rule=\"evenodd\" fill-opacity=\"1\" stroke=\"#000000\" stroke-opacity=\"1\" stroke-width=\"5.12\"/>\n",
       "<circle clip-path=\"url(#clip170)\" cx=\"2004.51\" cy=\"216.178\" r=\"23\" fill=\"#e26f46\" fill-rule=\"evenodd\" fill-opacity=\"1\" stroke=\"#000000\" stroke-opacity=\"1\" stroke-width=\"5.12\"/>\n",
       "<circle clip-path=\"url(#clip170)\" cx=\"2004.51\" cy=\"216.178\" r=\"23\" fill=\"#e26f46\" fill-rule=\"evenodd\" fill-opacity=\"1\" stroke=\"#000000\" stroke-opacity=\"1\" stroke-width=\"5.12\"/>\n",
       "<circle clip-path=\"url(#clip170)\" cx=\"2004.51\" cy=\"216.178\" r=\"23\" fill=\"#e26f46\" fill-rule=\"evenodd\" fill-opacity=\"1\" stroke=\"#000000\" stroke-opacity=\"1\" stroke-width=\"5.12\"/>\n",
       "<circle clip-path=\"url(#clip170)\" cx=\"2004.51\" cy=\"216.178\" r=\"23\" fill=\"#e26f46\" fill-rule=\"evenodd\" fill-opacity=\"1\" stroke=\"#000000\" stroke-opacity=\"1\" stroke-width=\"5.12\"/>\n",
       "<circle clip-path=\"url(#clip170)\" cx=\"2004.51\" cy=\"216.178\" r=\"23\" fill=\"#e26f46\" fill-rule=\"evenodd\" fill-opacity=\"1\" stroke=\"#000000\" stroke-opacity=\"1\" stroke-width=\"5.12\"/>\n",
       "<circle clip-path=\"url(#clip170)\" cx=\"2004.51\" cy=\"216.178\" r=\"23\" fill=\"#e26f46\" fill-rule=\"evenodd\" fill-opacity=\"1\" stroke=\"#000000\" stroke-opacity=\"1\" stroke-width=\"5.12\"/>\n",
       "<circle clip-path=\"url(#clip170)\" cx=\"2004.51\" cy=\"216.178\" r=\"23\" fill=\"#e26f46\" fill-rule=\"evenodd\" fill-opacity=\"1\" stroke=\"#000000\" stroke-opacity=\"1\" stroke-width=\"5.12\"/>\n",
       "<circle clip-path=\"url(#clip170)\" cx=\"2004.51\" cy=\"216.178\" r=\"23\" fill=\"#e26f46\" fill-rule=\"evenodd\" fill-opacity=\"1\" stroke=\"#000000\" stroke-opacity=\"1\" stroke-width=\"5.12\"/>\n",
       "<circle clip-path=\"url(#clip170)\" cx=\"2004.51\" cy=\"216.178\" r=\"23\" fill=\"#e26f46\" fill-rule=\"evenodd\" fill-opacity=\"1\" stroke=\"#000000\" stroke-opacity=\"1\" stroke-width=\"5.12\"/>\n",
       "<circle clip-path=\"url(#clip170)\" cx=\"2004.51\" cy=\"216.178\" r=\"23\" fill=\"#e26f46\" fill-rule=\"evenodd\" fill-opacity=\"1\" stroke=\"#000000\" stroke-opacity=\"1\" stroke-width=\"5.12\"/>\n",
       "<circle clip-path=\"url(#clip170)\" cx=\"2004.51\" cy=\"216.178\" r=\"23\" fill=\"#e26f46\" fill-rule=\"evenodd\" fill-opacity=\"1\" stroke=\"#000000\" stroke-opacity=\"1\" stroke-width=\"5.12\"/>\n",
       "<circle clip-path=\"url(#clip170)\" cx=\"2004.51\" cy=\"216.178\" r=\"23\" fill=\"#e26f46\" fill-rule=\"evenodd\" fill-opacity=\"1\" stroke=\"#000000\" stroke-opacity=\"1\" stroke-width=\"5.12\"/>\n",
       "<circle clip-path=\"url(#clip170)\" cx=\"2004.51\" cy=\"216.178\" r=\"23\" fill=\"#e26f46\" fill-rule=\"evenodd\" fill-opacity=\"1\" stroke=\"#000000\" stroke-opacity=\"1\" stroke-width=\"5.12\"/>\n",
       "<circle clip-path=\"url(#clip170)\" cx=\"2004.51\" cy=\"216.178\" r=\"23\" fill=\"#e26f46\" fill-rule=\"evenodd\" fill-opacity=\"1\" stroke=\"#000000\" stroke-opacity=\"1\" stroke-width=\"5.12\"/>\n",
       "<circle clip-path=\"url(#clip170)\" cx=\"2004.51\" cy=\"216.178\" r=\"23\" fill=\"#e26f46\" fill-rule=\"evenodd\" fill-opacity=\"1\" stroke=\"#000000\" stroke-opacity=\"1\" stroke-width=\"5.12\"/>\n",
       "<circle clip-path=\"url(#clip170)\" cx=\"2004.51\" cy=\"216.178\" r=\"23\" fill=\"#e26f46\" fill-rule=\"evenodd\" fill-opacity=\"1\" stroke=\"#000000\" stroke-opacity=\"1\" stroke-width=\"5.12\"/>\n",
       "<circle clip-path=\"url(#clip170)\" cx=\"2004.51\" cy=\"216.178\" r=\"23\" fill=\"#e26f46\" fill-rule=\"evenodd\" fill-opacity=\"1\" stroke=\"#000000\" stroke-opacity=\"1\" stroke-width=\"5.12\"/>\n",
       "<circle clip-path=\"url(#clip170)\" cx=\"2004.51\" cy=\"216.178\" r=\"23\" fill=\"#e26f46\" fill-rule=\"evenodd\" fill-opacity=\"1\" stroke=\"#000000\" stroke-opacity=\"1\" stroke-width=\"5.12\"/>\n",
       "<circle clip-path=\"url(#clip170)\" cx=\"2004.51\" cy=\"216.178\" r=\"23\" fill=\"#e26f46\" fill-rule=\"evenodd\" fill-opacity=\"1\" stroke=\"#000000\" stroke-opacity=\"1\" stroke-width=\"5.12\"/>\n",
       "<circle clip-path=\"url(#clip170)\" cx=\"2004.51\" cy=\"216.178\" r=\"23\" fill=\"#e26f46\" fill-rule=\"evenodd\" fill-opacity=\"1\" stroke=\"#000000\" stroke-opacity=\"1\" stroke-width=\"5.12\"/>\n",
       "<circle clip-path=\"url(#clip170)\" cx=\"2004.51\" cy=\"216.178\" r=\"23\" fill=\"#e26f46\" fill-rule=\"evenodd\" fill-opacity=\"1\" stroke=\"#000000\" stroke-opacity=\"1\" stroke-width=\"5.12\"/>\n",
       "<circle clip-path=\"url(#clip170)\" cx=\"2004.51\" cy=\"216.178\" r=\"23\" fill=\"#e26f46\" fill-rule=\"evenodd\" fill-opacity=\"1\" stroke=\"#000000\" stroke-opacity=\"1\" stroke-width=\"5.12\"/>\n",
       "<circle clip-path=\"url(#clip170)\" cx=\"2004.51\" cy=\"216.178\" r=\"23\" fill=\"#e26f46\" fill-rule=\"evenodd\" fill-opacity=\"1\" stroke=\"#000000\" stroke-opacity=\"1\" stroke-width=\"5.12\"/>\n",
       "<circle clip-path=\"url(#clip170)\" cx=\"2004.51\" cy=\"216.178\" r=\"23\" fill=\"#e26f46\" fill-rule=\"evenodd\" fill-opacity=\"1\" stroke=\"#000000\" stroke-opacity=\"1\" stroke-width=\"5.12\"/>\n",
       "<circle clip-path=\"url(#clip170)\" cx=\"2004.51\" cy=\"216.178\" r=\"23\" fill=\"#e26f46\" fill-rule=\"evenodd\" fill-opacity=\"1\" stroke=\"#000000\" stroke-opacity=\"1\" stroke-width=\"5.12\"/>\n",
       "<circle clip-path=\"url(#clip170)\" cx=\"2004.51\" cy=\"216.178\" r=\"23\" fill=\"#e26f46\" fill-rule=\"evenodd\" fill-opacity=\"1\" stroke=\"#000000\" stroke-opacity=\"1\" stroke-width=\"5.12\"/>\n",
       "<circle clip-path=\"url(#clip170)\" cx=\"2004.51\" cy=\"216.178\" r=\"23\" fill=\"#e26f46\" fill-rule=\"evenodd\" fill-opacity=\"1\" stroke=\"#000000\" stroke-opacity=\"1\" stroke-width=\"5.12\"/>\n",
       "<circle clip-path=\"url(#clip170)\" cx=\"2004.51\" cy=\"216.178\" r=\"23\" fill=\"#e26f46\" fill-rule=\"evenodd\" fill-opacity=\"1\" stroke=\"#000000\" stroke-opacity=\"1\" stroke-width=\"5.12\"/>\n",
       "<circle clip-path=\"url(#clip170)\" cx=\"2004.51\" cy=\"216.178\" r=\"23\" fill=\"#e26f46\" fill-rule=\"evenodd\" fill-opacity=\"1\" stroke=\"#000000\" stroke-opacity=\"1\" stroke-width=\"5.12\"/>\n",
       "<circle clip-path=\"url(#clip170)\" cx=\"2004.51\" cy=\"216.178\" r=\"23\" fill=\"#e26f46\" fill-rule=\"evenodd\" fill-opacity=\"1\" stroke=\"#000000\" stroke-opacity=\"1\" stroke-width=\"5.12\"/>\n",
       "<circle clip-path=\"url(#clip170)\" cx=\"2004.51\" cy=\"216.178\" r=\"23\" fill=\"#e26f46\" fill-rule=\"evenodd\" fill-opacity=\"1\" stroke=\"#000000\" stroke-opacity=\"1\" stroke-width=\"5.12\"/>\n",
       "<circle clip-path=\"url(#clip170)\" cx=\"2004.51\" cy=\"216.178\" r=\"23\" fill=\"#e26f46\" fill-rule=\"evenodd\" fill-opacity=\"1\" stroke=\"#000000\" stroke-opacity=\"1\" stroke-width=\"5.12\"/>\n",
       "<circle clip-path=\"url(#clip170)\" cx=\"2004.51\" cy=\"216.178\" r=\"23\" fill=\"#e26f46\" fill-rule=\"evenodd\" fill-opacity=\"1\" stroke=\"#000000\" stroke-opacity=\"1\" stroke-width=\"5.12\"/>\n",
       "<circle clip-path=\"url(#clip170)\" cx=\"2004.51\" cy=\"216.178\" r=\"23\" fill=\"#e26f46\" fill-rule=\"evenodd\" fill-opacity=\"1\" stroke=\"#000000\" stroke-opacity=\"1\" stroke-width=\"5.12\"/>\n",
       "<circle clip-path=\"url(#clip170)\" cx=\"2004.51\" cy=\"216.178\" r=\"23\" fill=\"#e26f46\" fill-rule=\"evenodd\" fill-opacity=\"1\" stroke=\"#000000\" stroke-opacity=\"1\" stroke-width=\"5.12\"/>\n",
       "<circle clip-path=\"url(#clip170)\" cx=\"2004.51\" cy=\"216.178\" r=\"23\" fill=\"#e26f46\" fill-rule=\"evenodd\" fill-opacity=\"1\" stroke=\"#000000\" stroke-opacity=\"1\" stroke-width=\"5.12\"/>\n",
       "<circle clip-path=\"url(#clip170)\" cx=\"2004.51\" cy=\"216.178\" r=\"23\" fill=\"#e26f46\" fill-rule=\"evenodd\" fill-opacity=\"1\" stroke=\"#000000\" stroke-opacity=\"1\" stroke-width=\"5.12\"/>\n",
       "<path clip-path=\"url(#clip170)\" d=\"M 0 0 M2108.37 229.569 L2108.37 243.319 L2104.09 243.319 L2104.09 207.532 L2108.37 207.532 L2108.37 211.467 Q2109.72 209.152 2111.75 208.041 Q2113.81 206.907 2116.66 206.907 Q2121.38 206.907 2124.32 210.657 Q2127.28 214.407 2127.28 220.518 Q2127.28 226.629 2124.32 230.379 Q2121.38 234.129 2116.66 234.129 Q2113.81 234.129 2111.75 233.018 Q2109.72 231.883 2108.37 229.569 M2122.86 220.518 Q2122.86 215.819 2120.92 213.157 Q2119 210.472 2115.62 210.472 Q2112.24 210.472 2110.29 213.157 Q2108.37 215.819 2108.37 220.518 Q2108.37 225.217 2110.29 227.902 Q2112.24 230.564 2115.62 230.564 Q2119 230.564 2120.92 227.902 Q2122.86 225.217 2122.86 220.518 Z\" fill=\"#000000\" fill-rule=\"evenodd\" fill-opacity=\"1\" /><path clip-path=\"url(#clip170)\" d=\"M 0 0 M2141.8 210.518 Q2138.37 210.518 2136.38 213.203 Q2134.39 215.865 2134.39 220.518 Q2134.39 225.171 2136.36 227.856 Q2138.35 230.518 2141.8 230.518 Q2145.2 230.518 2147.19 227.833 Q2149.18 225.147 2149.18 220.518 Q2149.18 215.911 2147.19 213.226 Q2145.2 210.518 2141.8 210.518 M2141.8 206.907 Q2147.35 206.907 2150.53 210.518 Q2153.7 214.129 2153.7 220.518 Q2153.7 226.884 2150.53 230.518 Q2147.35 234.129 2141.8 234.129 Q2136.22 234.129 2133.05 230.518 Q2129.9 226.884 2129.9 220.518 Q2129.9 214.129 2133.05 210.518 Q2136.22 206.907 2141.8 206.907 Z\" fill=\"#000000\" fill-rule=\"evenodd\" fill-opacity=\"1\" /><path clip-path=\"url(#clip170)\" d=\"M 0 0 M2158.16 207.532 L2162.42 207.532 L2162.42 233.458 L2158.16 233.458 L2158.16 207.532 M2158.16 197.439 L2162.42 197.439 L2162.42 202.833 L2158.16 202.833 L2158.16 197.439 Z\" fill=\"#000000\" fill-rule=\"evenodd\" fill-opacity=\"1\" /><path clip-path=\"url(#clip170)\" d=\"M 0 0 M2188.44 217.809 L2188.44 233.458 L2184.18 233.458 L2184.18 217.948 Q2184.18 214.268 2182.75 212.439 Q2181.31 210.61 2178.44 210.61 Q2174.99 210.61 2173 212.81 Q2171.01 215.009 2171.01 218.805 L2171.01 233.458 L2166.73 233.458 L2166.73 207.532 L2171.01 207.532 L2171.01 211.56 Q2172.54 209.222 2174.6 208.064 Q2176.68 206.907 2179.39 206.907 Q2183.86 206.907 2186.15 209.685 Q2188.44 212.439 2188.44 217.809 Z\" fill=\"#000000\" fill-rule=\"evenodd\" fill-opacity=\"1\" /><path clip-path=\"url(#clip170)\" d=\"M 0 0 M2197.12 200.171 L2197.12 207.532 L2205.9 207.532 L2205.9 210.842 L2197.12 210.842 L2197.12 224.916 Q2197.12 228.087 2197.98 228.99 Q2198.86 229.893 2201.52 229.893 L2205.9 229.893 L2205.9 233.458 L2201.52 233.458 Q2196.59 233.458 2194.71 231.629 Q2192.84 229.777 2192.84 224.916 L2192.84 210.842 L2189.71 210.842 L2189.71 207.532 L2192.84 207.532 L2192.84 200.171 L2197.12 200.171 Z\" fill=\"#000000\" fill-rule=\"evenodd\" fill-opacity=\"1\" /><path clip-path=\"url(#clip170)\" d=\"M 0 0 M2226.89 208.296 L2226.89 212.323 Q2225.08 211.397 2223.14 210.935 Q2221.2 210.472 2219.11 210.472 Q2215.94 210.472 2214.34 211.444 Q2212.77 212.416 2212.77 214.36 Q2212.77 215.842 2213.9 216.698 Q2215.04 217.532 2218.46 218.296 L2219.92 218.62 Q2224.46 219.592 2226.36 221.374 Q2228.28 223.134 2228.28 226.305 Q2228.28 229.916 2225.41 232.022 Q2222.56 234.129 2217.56 234.129 Q2215.48 234.129 2213.21 233.712 Q2210.96 233.319 2208.46 232.508 L2208.46 228.11 Q2210.83 229.337 2213.12 229.962 Q2215.41 230.564 2217.65 230.564 Q2220.66 230.564 2222.28 229.546 Q2223.9 228.504 2223.9 226.629 Q2223.9 224.893 2222.72 223.967 Q2221.57 223.041 2217.61 222.184 L2216.13 221.837 Q2212.17 221.004 2210.41 219.291 Q2208.65 217.555 2208.65 214.546 Q2208.65 210.888 2211.24 208.898 Q2213.83 206.907 2218.6 206.907 Q2220.96 206.907 2223.05 207.254 Q2225.13 207.601 2226.89 208.296 Z\" fill=\"#000000\" fill-rule=\"evenodd\" fill-opacity=\"1\" /></svg>\n"
      ]
     },
     "execution_count": 58,
     "metadata": {},
     "output_type": "execute_result"
    }
   ],
   "source": [
    "plot(x, y, label=\"line\")\n",
    "# If there is not !, there will be only be scatter plot\n",
    "scatter!(x, y, label=\"points\")"
   ]
  },
  {
   "cell_type": "code",
   "execution_count": 59,
   "metadata": {},
   "outputs": [],
   "source": [
    "globaltemperatures = [14.4, 14.5, 14.8, 15.2, 15.5, 15.8]\n",
    "numpirates = [45000, 20000, 15000, 5000, 400, 17];"
   ]
  },
  {
   "cell_type": "code",
   "execution_count": 60,
   "metadata": {
    "scrolled": true
   },
   "outputs": [
    {
     "data": {
      "image/svg+xml": [
       "<?xml version=\"1.0\" encoding=\"utf-8\"?>\n",
       "<svg xmlns=\"http://www.w3.org/2000/svg\" xmlns:xlink=\"http://www.w3.org/1999/xlink\" width=\"600\" height=\"400\" viewBox=\"0 0 2400 1600\">\n",
       "<defs>\n",
       "  <clipPath id=\"clip210\">\n",
       "    <rect x=\"0\" y=\"0\" width=\"2400\" height=\"1600\"/>\n",
       "  </clipPath>\n",
       "</defs>\n",
       "<path clip-path=\"url(#clip210)\" d=\"\n",
       "M0 1600 L2400 1600 L2400 0 L0 0  Z\n",
       "  \" fill=\"#ffffff\" fill-rule=\"evenodd\" fill-opacity=\"1\"/>\n",
       "<defs>\n",
       "  <clipPath id=\"clip211\">\n",
       "    <rect x=\"480\" y=\"0\" width=\"1681\" height=\"1600\"/>\n",
       "  </clipPath>\n",
       "</defs>\n",
       "<path clip-path=\"url(#clip210)\" d=\"\n",
       "M261.324 1423.18 L2352.76 1423.18 L2352.76 123.472 L261.324 123.472  Z\n",
       "  \" fill=\"#ffffff\" fill-rule=\"evenodd\" fill-opacity=\"1\"/>\n",
       "<defs>\n",
       "  <clipPath id=\"clip212\">\n",
       "    <rect x=\"261\" y=\"123\" width=\"2092\" height=\"1301\"/>\n",
       "  </clipPath>\n",
       "</defs>\n",
       "<polyline clip-path=\"url(#clip212)\" style=\"stroke:#000000; stroke-width:2; stroke-opacity:0.1; fill:none\" points=\"\n",
       "  2294.31,1423.18 2294.31,123.472 \n",
       "  \"/>\n",
       "<polyline clip-path=\"url(#clip212)\" style=\"stroke:#000000; stroke-width:2; stroke-opacity:0.1; fill:none\" points=\"\n",
       "  1855.69,1423.18 1855.69,123.472 \n",
       "  \"/>\n",
       "<polyline clip-path=\"url(#clip212)\" style=\"stroke:#000000; stroke-width:2; stroke-opacity:0.1; fill:none\" points=\"\n",
       "  1417.07,1423.18 1417.07,123.472 \n",
       "  \"/>\n",
       "<polyline clip-path=\"url(#clip212)\" style=\"stroke:#000000; stroke-width:2; stroke-opacity:0.1; fill:none\" points=\"\n",
       "  978.447,1423.18 978.447,123.472 \n",
       "  \"/>\n",
       "<polyline clip-path=\"url(#clip212)\" style=\"stroke:#000000; stroke-width:2; stroke-opacity:0.1; fill:none\" points=\"\n",
       "  539.826,1423.18 539.826,123.472 \n",
       "  \"/>\n",
       "<polyline clip-path=\"url(#clip212)\" style=\"stroke:#000000; stroke-width:2; stroke-opacity:0.1; fill:none\" points=\"\n",
       "  2352.76,1298.81 261.324,1298.81 \n",
       "  \"/>\n",
       "<polyline clip-path=\"url(#clip212)\" style=\"stroke:#000000; stroke-width:2; stroke-opacity:0.1; fill:none\" points=\"\n",
       "  2352.76,1079.86 261.324,1079.86 \n",
       "  \"/>\n",
       "<polyline clip-path=\"url(#clip212)\" style=\"stroke:#000000; stroke-width:2; stroke-opacity:0.1; fill:none\" points=\"\n",
       "  2352.76,860.907 261.324,860.907 \n",
       "  \"/>\n",
       "<polyline clip-path=\"url(#clip212)\" style=\"stroke:#000000; stroke-width:2; stroke-opacity:0.1; fill:none\" points=\"\n",
       "  2352.76,641.954 261.324,641.954 \n",
       "  \"/>\n",
       "<polyline clip-path=\"url(#clip212)\" style=\"stroke:#000000; stroke-width:2; stroke-opacity:0.1; fill:none\" points=\"\n",
       "  2352.76,423 261.324,423 \n",
       "  \"/>\n",
       "<polyline clip-path=\"url(#clip212)\" style=\"stroke:#000000; stroke-width:2; stroke-opacity:0.1; fill:none\" points=\"\n",
       "  2352.76,204.047 261.324,204.047 \n",
       "  \"/>\n",
       "<polyline clip-path=\"url(#clip210)\" style=\"stroke:#000000; stroke-width:4; stroke-opacity:1; fill:none\" points=\"\n",
       "  2352.76,1423.18 261.324,1423.18 \n",
       "  \"/>\n",
       "<polyline clip-path=\"url(#clip210)\" style=\"stroke:#000000; stroke-width:4; stroke-opacity:1; fill:none\" points=\"\n",
       "  261.324,1423.18 261.324,123.472 \n",
       "  \"/>\n",
       "<polyline clip-path=\"url(#clip210)\" style=\"stroke:#000000; stroke-width:4; stroke-opacity:1; fill:none\" points=\"\n",
       "  2294.31,1423.18 2294.31,1407.58 \n",
       "  \"/>\n",
       "<polyline clip-path=\"url(#clip210)\" style=\"stroke:#000000; stroke-width:4; stroke-opacity:1; fill:none\" points=\"\n",
       "  1855.69,1423.18 1855.69,1407.58 \n",
       "  \"/>\n",
       "<polyline clip-path=\"url(#clip210)\" style=\"stroke:#000000; stroke-width:4; stroke-opacity:1; fill:none\" points=\"\n",
       "  1417.07,1423.18 1417.07,1407.58 \n",
       "  \"/>\n",
       "<polyline clip-path=\"url(#clip210)\" style=\"stroke:#000000; stroke-width:4; stroke-opacity:1; fill:none\" points=\"\n",
       "  978.447,1423.18 978.447,1407.58 \n",
       "  \"/>\n",
       "<polyline clip-path=\"url(#clip210)\" style=\"stroke:#000000; stroke-width:4; stroke-opacity:1; fill:none\" points=\"\n",
       "  539.826,1423.18 539.826,1407.58 \n",
       "  \"/>\n",
       "<polyline clip-path=\"url(#clip210)\" style=\"stroke:#000000; stroke-width:4; stroke-opacity:1; fill:none\" points=\"\n",
       "  261.324,1298.81 286.422,1298.81 \n",
       "  \"/>\n",
       "<polyline clip-path=\"url(#clip210)\" style=\"stroke:#000000; stroke-width:4; stroke-opacity:1; fill:none\" points=\"\n",
       "  261.324,1079.86 286.422,1079.86 \n",
       "  \"/>\n",
       "<polyline clip-path=\"url(#clip210)\" style=\"stroke:#000000; stroke-width:4; stroke-opacity:1; fill:none\" points=\"\n",
       "  261.324,860.907 286.422,860.907 \n",
       "  \"/>\n",
       "<polyline clip-path=\"url(#clip210)\" style=\"stroke:#000000; stroke-width:4; stroke-opacity:1; fill:none\" points=\"\n",
       "  261.324,641.954 286.422,641.954 \n",
       "  \"/>\n",
       "<polyline clip-path=\"url(#clip210)\" style=\"stroke:#000000; stroke-width:4; stroke-opacity:1; fill:none\" points=\"\n",
       "  261.324,423 286.422,423 \n",
       "  \"/>\n",
       "<polyline clip-path=\"url(#clip210)\" style=\"stroke:#000000; stroke-width:4; stroke-opacity:1; fill:none\" points=\"\n",
       "  261.324,204.047 286.422,204.047 \n",
       "  \"/>\n",
       "<path clip-path=\"url(#clip210)\" d=\"M 0 0 M2294.31 1445.17 Q2290.7 1445.17 2288.87 1448.74 Q2287.06 1452.28 2287.06 1459.41 Q2287.06 1466.51 2288.87 1470.08 Q2290.7 1473.62 2294.31 1473.62 Q2297.94 1473.62 2299.75 1470.08 Q2301.58 1466.51 2301.58 1459.41 Q2301.58 1452.28 2299.75 1448.74 Q2297.94 1445.17 2294.31 1445.17 M2294.31 1441.47 Q2300.12 1441.47 2303.18 1446.07 Q2306.25 1450.66 2306.25 1459.41 Q2306.25 1468.13 2303.18 1472.74 Q2300.12 1477.32 2294.31 1477.32 Q2288.5 1477.32 2285.42 1472.74 Q2282.37 1468.13 2282.37 1459.41 Q2282.37 1450.66 2285.42 1446.07 Q2288.5 1441.47 2294.31 1441.47 Z\" fill=\"#000000\" fill-rule=\"evenodd\" fill-opacity=\"1\" /><path clip-path=\"url(#clip210)\" d=\"M 0 0 M1796.53 1494.25 L1804.17 1494.25 L1804.17 1467.89 L1795.86 1469.55 L1795.86 1465.29 L1804.13 1463.63 L1808.8 1463.63 L1808.8 1494.25 L1816.44 1494.25 L1816.44 1498.19 L1796.53 1498.19 L1796.53 1494.25 Z\" fill=\"#000000\" fill-rule=\"evenodd\" fill-opacity=\"1\" /><path clip-path=\"url(#clip210)\" d=\"M 0 0 M1849.68 1472.72 L1839.1 1483.35 L1849.68 1493.93 L1846.93 1496.73 L1836.3 1486.1 L1825.68 1496.73 L1822.95 1493.93 L1833.5 1483.35 L1822.95 1472.72 L1825.68 1469.92 L1836.3 1480.55 L1846.93 1469.92 L1849.68 1472.72 Z\" fill=\"#000000\" fill-rule=\"evenodd\" fill-opacity=\"1\" /><path clip-path=\"url(#clip210)\" d=\"M 0 0 M1855.56 1494.25 L1863.2 1494.25 L1863.2 1467.89 L1854.89 1469.55 L1854.89 1465.29 L1863.15 1463.63 L1867.83 1463.63 L1867.83 1494.25 L1875.47 1494.25 L1875.47 1498.19 L1855.56 1498.19 L1855.56 1494.25 Z\" fill=\"#000000\" fill-rule=\"evenodd\" fill-opacity=\"1\" /><path clip-path=\"url(#clip210)\" d=\"M 0 0 M1890.54 1466.71 Q1886.93 1466.71 1885.1 1470.27 Q1883.29 1473.81 1883.29 1480.94 Q1883.29 1488.05 1885.1 1491.61 Q1886.93 1495.15 1890.54 1495.15 Q1894.17 1495.15 1895.98 1491.61 Q1897.81 1488.05 1897.81 1480.94 Q1897.81 1473.81 1895.98 1470.27 Q1894.17 1466.71 1890.54 1466.71 M1890.54 1463 Q1896.35 1463 1899.4 1467.61 Q1902.48 1472.19 1902.48 1480.94 Q1902.48 1489.67 1899.4 1494.28 Q1896.35 1498.86 1890.54 1498.86 Q1884.73 1498.86 1881.65 1494.28 Q1878.59 1489.67 1878.59 1480.94 Q1878.59 1472.19 1881.65 1467.61 Q1884.73 1463 1890.54 1463 Z\" fill=\"#000000\" fill-rule=\"evenodd\" fill-opacity=\"1\" /><path clip-path=\"url(#clip210)\" d=\"M 0 0 M1910.27 1444.78 L1904.46 1452.66 L1910.27 1452.66 L1910.27 1444.78 M1909.85 1442.51 L1912.98 1442.51 L1912.98 1452.66 L1915.52 1452.66 L1915.52 1454.71 L1912.98 1454.71 L1912.98 1458.21 L1910.27 1458.21 L1910.27 1454.71 L1902.48 1454.71 L1902.48 1452.44 L1909.85 1442.51 Z\" fill=\"#000000\" fill-rule=\"evenodd\" fill-opacity=\"1\" /><path clip-path=\"url(#clip210)\" d=\"M 0 0 M1362.18 1494.25 L1378.5 1494.25 L1378.5 1498.19 L1356.56 1498.19 L1356.56 1494.25 Q1359.22 1491.5 1363.8 1486.87 Q1368.41 1482.21 1369.59 1480.87 Q1371.84 1478.35 1372.72 1476.61 Q1373.62 1474.85 1373.62 1473.16 Q1373.62 1470.41 1371.67 1468.67 Q1369.75 1466.94 1366.65 1466.94 Q1364.45 1466.94 1362 1467.7 Q1359.57 1468.46 1356.79 1470.02 L1356.79 1465.29 Q1359.61 1464.16 1362.07 1463.58 Q1364.52 1463 1366.56 1463 Q1371.93 1463 1375.12 1465.69 Q1378.32 1468.37 1378.32 1472.86 Q1378.32 1474.99 1377.51 1476.91 Q1376.72 1478.81 1374.61 1481.4 Q1374.04 1482.08 1370.93 1485.29 Q1367.83 1488.49 1362.18 1494.25 Z\" fill=\"#000000\" fill-rule=\"evenodd\" fill-opacity=\"1\" /><path clip-path=\"url(#clip210)\" d=\"M 0 0 M1411.74 1472.72 L1401.16 1483.35 L1411.74 1493.93 L1408.99 1496.73 L1398.36 1486.1 L1387.74 1496.73 L1385.01 1493.93 L1395.56 1483.35 L1385.01 1472.72 L1387.74 1469.92 L1398.36 1480.55 L1408.99 1469.92 L1411.74 1472.72 Z\" fill=\"#000000\" fill-rule=\"evenodd\" fill-opacity=\"1\" /><path clip-path=\"url(#clip210)\" d=\"M 0 0 M1417.62 1494.25 L1425.26 1494.25 L1425.26 1467.89 L1416.95 1469.55 L1416.95 1465.29 L1425.22 1463.63 L1429.89 1463.63 L1429.89 1494.25 L1437.53 1494.25 L1437.53 1498.19 L1417.62 1498.19 L1417.62 1494.25 Z\" fill=\"#000000\" fill-rule=\"evenodd\" fill-opacity=\"1\" /><path clip-path=\"url(#clip210)\" d=\"M 0 0 M1452.6 1466.71 Q1448.99 1466.71 1447.16 1470.27 Q1445.35 1473.81 1445.35 1480.94 Q1445.35 1488.05 1447.16 1491.61 Q1448.99 1495.15 1452.6 1495.15 Q1456.23 1495.15 1458.04 1491.61 Q1459.87 1488.05 1459.87 1480.94 Q1459.87 1473.81 1458.04 1470.27 Q1456.23 1466.71 1452.6 1466.71 M1452.6 1463 Q1458.41 1463 1461.47 1467.61 Q1464.54 1472.19 1464.54 1480.94 Q1464.54 1489.67 1461.47 1494.28 Q1458.41 1498.86 1452.6 1498.86 Q1446.79 1498.86 1443.71 1494.28 Q1440.66 1489.67 1440.66 1480.94 Q1440.66 1472.19 1443.71 1467.61 Q1446.79 1463 1452.6 1463 Z\" fill=\"#000000\" fill-rule=\"evenodd\" fill-opacity=\"1\" /><path clip-path=\"url(#clip210)\" d=\"M 0 0 M1472.33 1444.78 L1466.52 1452.66 L1472.33 1452.66 L1472.33 1444.78 M1471.92 1442.51 L1475.04 1442.51 L1475.04 1452.66 L1477.58 1452.66 L1477.58 1454.71 L1475.04 1454.71 L1475.04 1458.21 L1472.33 1458.21 L1472.33 1454.71 L1464.54 1454.71 L1464.54 1452.44 L1471.92 1442.51 Z\" fill=\"#000000\" fill-rule=\"evenodd\" fill-opacity=\"1\" /><path clip-path=\"url(#clip210)\" d=\"M 0 0 M933.157 1479.55 Q936.514 1480.27 938.389 1482.54 Q940.287 1484.81 940.287 1488.14 Q940.287 1493.26 936.769 1496.06 Q933.25 1498.86 926.769 1498.86 Q924.593 1498.86 922.278 1498.42 Q919.986 1498 917.533 1497.15 L917.533 1492.63 Q919.477 1493.77 921.792 1494.34 Q924.107 1494.92 926.63 1494.92 Q931.028 1494.92 933.319 1493.19 Q935.634 1491.45 935.634 1488.14 Q935.634 1485.09 933.481 1483.37 Q931.352 1481.64 927.532 1481.64 L923.505 1481.64 L923.505 1477.79 L927.718 1477.79 Q931.167 1477.79 932.995 1476.43 Q934.824 1475.04 934.824 1472.45 Q934.824 1469.78 932.926 1468.37 Q931.051 1466.94 927.532 1466.94 Q925.611 1466.94 923.412 1467.35 Q921.213 1467.77 918.574 1468.65 L918.574 1464.48 Q921.236 1463.74 923.551 1463.37 Q925.889 1463 927.949 1463 Q933.273 1463 936.375 1465.43 Q939.477 1467.84 939.477 1471.96 Q939.477 1474.83 937.833 1476.82 Q936.19 1478.79 933.157 1479.55 Z\" fill=\"#000000\" fill-rule=\"evenodd\" fill-opacity=\"1\" /><path clip-path=\"url(#clip210)\" d=\"M 0 0 M973.528 1472.72 L962.949 1483.35 L973.528 1493.93 L970.773 1496.73 L960.148 1486.1 L949.523 1496.73 L946.792 1493.93 L957.347 1483.35 L946.792 1472.72 L949.523 1469.92 L960.148 1480.55 L970.773 1469.92 L973.528 1472.72 Z\" fill=\"#000000\" fill-rule=\"evenodd\" fill-opacity=\"1\" /><path clip-path=\"url(#clip210)\" d=\"M 0 0 M979.407 1494.25 L987.046 1494.25 L987.046 1467.89 L978.736 1469.55 L978.736 1465.29 L987 1463.63 L991.676 1463.63 L991.676 1494.25 L999.314 1494.25 L999.314 1498.19 L979.407 1498.19 L979.407 1494.25 Z\" fill=\"#000000\" fill-rule=\"evenodd\" fill-opacity=\"1\" /><path clip-path=\"url(#clip210)\" d=\"M 0 0 M1014.38 1466.71 Q1010.77 1466.71 1008.94 1470.27 Q1007.14 1473.81 1007.14 1480.94 Q1007.14 1488.05 1008.94 1491.61 Q1010.77 1495.15 1014.38 1495.15 Q1018.02 1495.15 1019.82 1491.61 Q1021.65 1488.05 1021.65 1480.94 Q1021.65 1473.81 1019.82 1470.27 Q1018.02 1466.71 1014.38 1466.71 M1014.38 1463 Q1020.19 1463 1023.25 1467.61 Q1026.33 1472.19 1026.33 1480.94 Q1026.33 1489.67 1023.25 1494.28 Q1020.19 1498.86 1014.38 1498.86 Q1008.57 1498.86 1005.5 1494.28 Q1002.44 1489.67 1002.44 1480.94 Q1002.44 1472.19 1005.5 1467.61 Q1008.57 1463 1014.38 1463 Z\" fill=\"#000000\" fill-rule=\"evenodd\" fill-opacity=\"1\" /><path clip-path=\"url(#clip210)\" d=\"M 0 0 M1034.11 1444.78 L1028.3 1452.66 L1034.11 1452.66 L1034.11 1444.78 M1033.7 1442.51 L1036.82 1442.51 L1036.82 1452.66 L1039.36 1452.66 L1039.36 1454.71 L1036.82 1454.71 L1036.82 1458.21 L1034.11 1458.21 L1034.11 1454.71 L1026.33 1454.71 L1026.33 1452.44 L1033.7 1442.51 Z\" fill=\"#000000\" fill-rule=\"evenodd\" fill-opacity=\"1\" /><path clip-path=\"url(#clip210)\" d=\"M 0 0 M493.298 1467.7 L481.493 1486.15 L493.298 1486.15 L493.298 1467.7 M492.071 1463.63 L497.951 1463.63 L497.951 1486.15 L502.881 1486.15 L502.881 1490.04 L497.951 1490.04 L497.951 1498.19 L493.298 1498.19 L493.298 1490.04 L477.696 1490.04 L477.696 1485.53 L492.071 1463.63 Z\" fill=\"#000000\" fill-rule=\"evenodd\" fill-opacity=\"1\" /><path clip-path=\"url(#clip210)\" d=\"M 0 0 M536.122 1472.72 L525.543 1483.35 L536.122 1493.93 L533.367 1496.73 L522.742 1486.1 L512.117 1496.73 L509.386 1493.93 L519.941 1483.35 L509.386 1472.72 L512.117 1469.92 L522.742 1480.55 L533.367 1469.92 L536.122 1472.72 Z\" fill=\"#000000\" fill-rule=\"evenodd\" fill-opacity=\"1\" /><path clip-path=\"url(#clip210)\" d=\"M 0 0 M542.002 1494.25 L549.64 1494.25 L549.64 1467.89 L541.33 1469.55 L541.33 1465.29 L549.594 1463.63 L554.27 1463.63 L554.27 1494.25 L561.909 1494.25 L561.909 1498.19 L542.002 1498.19 L542.002 1494.25 Z\" fill=\"#000000\" fill-rule=\"evenodd\" fill-opacity=\"1\" /><path clip-path=\"url(#clip210)\" d=\"M 0 0 M576.978 1466.71 Q573.367 1466.71 571.538 1470.27 Q569.733 1473.81 569.733 1480.94 Q569.733 1488.05 571.538 1491.61 Q573.367 1495.15 576.978 1495.15 Q580.612 1495.15 582.418 1491.61 Q584.247 1488.05 584.247 1480.94 Q584.247 1473.81 582.418 1470.27 Q580.612 1466.71 576.978 1466.71 M576.978 1463 Q582.788 1463 585.844 1467.61 Q588.923 1472.19 588.923 1480.94 Q588.923 1489.67 585.844 1494.28 Q582.788 1498.86 576.978 1498.86 Q571.168 1498.86 568.089 1494.28 Q565.034 1489.67 565.034 1480.94 Q565.034 1472.19 568.089 1467.61 Q571.168 1463 576.978 1463 Z\" fill=\"#000000\" fill-rule=\"evenodd\" fill-opacity=\"1\" /><path clip-path=\"url(#clip210)\" d=\"M 0 0 M596.709 1444.78 L590.897 1452.66 L596.709 1452.66 L596.709 1444.78 M596.295 1442.51 L599.417 1442.51 L599.417 1452.66 L601.956 1452.66 L601.956 1454.71 L599.417 1454.71 L599.417 1458.21 L596.709 1458.21 L596.709 1454.71 L588.923 1454.71 L588.923 1452.44 L596.295 1442.51 Z\" fill=\"#000000\" fill-rule=\"evenodd\" fill-opacity=\"1\" /><path clip-path=\"url(#clip210)\" d=\"M 0 0 M126.931 1312.16 L134.57 1312.16 L134.57 1285.79 L126.26 1287.46 L126.26 1283.2 L134.524 1281.53 L139.2 1281.53 L139.2 1312.16 L146.839 1312.16 L146.839 1316.09 L126.931 1316.09 L126.931 1312.16 Z\" fill=\"#000000\" fill-rule=\"evenodd\" fill-opacity=\"1\" /><path clip-path=\"url(#clip210)\" d=\"M 0 0 M164.755 1285.61 L152.95 1304.06 L164.755 1304.06 L164.755 1285.61 M163.528 1281.53 L169.408 1281.53 L169.408 1304.06 L174.339 1304.06 L174.339 1307.95 L169.408 1307.95 L169.408 1316.09 L164.755 1316.09 L164.755 1307.95 L149.154 1307.95 L149.154 1303.43 L163.528 1281.53 Z\" fill=\"#000000\" fill-rule=\"evenodd\" fill-opacity=\"1\" /><path clip-path=\"url(#clip210)\" d=\"M 0 0 M179.408 1310.21 L184.292 1310.21 L184.292 1316.09 L179.408 1316.09 L179.408 1310.21 Z\" fill=\"#000000\" fill-rule=\"evenodd\" fill-opacity=\"1\" /><path clip-path=\"url(#clip210)\" d=\"M 0 0 M189.408 1281.53 L207.764 1281.53 L207.764 1285.47 L193.69 1285.47 L193.69 1293.94 Q194.709 1293.59 195.727 1293.43 Q196.746 1293.25 197.764 1293.25 Q203.551 1293.25 206.931 1296.42 Q210.311 1299.59 210.311 1305.01 Q210.311 1310.59 206.838 1313.69 Q203.366 1316.77 197.047 1316.77 Q194.871 1316.77 192.602 1316.4 Q190.357 1316.02 187.95 1315.28 L187.95 1310.59 Q190.033 1311.72 192.255 1312.27 Q194.477 1312.83 196.954 1312.83 Q200.959 1312.83 203.297 1310.72 Q205.635 1308.62 205.635 1305.01 Q205.635 1301.4 203.297 1299.29 Q200.959 1297.18 196.954 1297.18 Q195.079 1297.18 193.204 1297.6 Q191.352 1298.02 189.408 1298.9 L189.408 1281.53 Z\" fill=\"#000000\" fill-rule=\"evenodd\" fill-opacity=\"1\" /><path clip-path=\"url(#clip210)\" d=\"M 0 0 M225.38 1284.61 Q221.769 1284.61 219.94 1288.18 Q218.135 1291.72 218.135 1298.85 Q218.135 1305.96 219.94 1309.52 Q221.769 1313.06 225.38 1313.06 Q229.014 1313.06 230.82 1309.52 Q232.648 1305.96 232.648 1298.85 Q232.648 1291.72 230.82 1288.18 Q229.014 1284.61 225.38 1284.61 M225.38 1280.91 Q231.19 1280.91 234.246 1285.52 Q237.324 1290.1 237.324 1298.85 Q237.324 1307.58 234.246 1312.18 Q231.19 1316.77 225.38 1316.77 Q219.57 1316.77 216.491 1312.18 Q213.436 1307.58 213.436 1298.85 Q213.436 1290.1 216.491 1285.52 Q219.57 1280.91 225.38 1280.91 Z\" fill=\"#000000\" fill-rule=\"evenodd\" fill-opacity=\"1\" /><path clip-path=\"url(#clip210)\" d=\"M 0 0 M127.834 1093.21 L135.473 1093.21 L135.473 1066.84 L127.163 1068.51 L127.163 1064.25 L135.427 1062.58 L140.103 1062.58 L140.103 1093.21 L147.742 1093.21 L147.742 1097.14 L127.834 1097.14 L127.834 1093.21 Z\" fill=\"#000000\" fill-rule=\"evenodd\" fill-opacity=\"1\" /><path clip-path=\"url(#clip210)\" d=\"M 0 0 M165.658 1066.65 L153.853 1085.1 L165.658 1085.1 L165.658 1066.65 M164.431 1062.58 L170.311 1062.58 L170.311 1085.1 L175.241 1085.1 L175.241 1088.99 L170.311 1088.99 L170.311 1097.14 L165.658 1097.14 L165.658 1088.99 L150.056 1088.99 L150.056 1084.48 L164.431 1062.58 Z\" fill=\"#000000\" fill-rule=\"evenodd\" fill-opacity=\"1\" /><path clip-path=\"url(#clip210)\" d=\"M 0 0 M180.311 1091.26 L185.195 1091.26 L185.195 1097.14 L180.311 1097.14 L180.311 1091.26 Z\" fill=\"#000000\" fill-rule=\"evenodd\" fill-opacity=\"1\" /><path clip-path=\"url(#clip210)\" d=\"M 0 0 M189.084 1062.58 L211.306 1062.58 L211.306 1064.57 L198.76 1097.14 L193.876 1097.14 L205.681 1066.52 L189.084 1066.52 L189.084 1062.58 Z\" fill=\"#000000\" fill-rule=\"evenodd\" fill-opacity=\"1\" /><path clip-path=\"url(#clip210)\" d=\"M 0 0 M216.422 1062.58 L234.778 1062.58 L234.778 1066.52 L220.704 1066.52 L220.704 1074.99 Q221.723 1074.64 222.741 1074.48 Q223.76 1074.29 224.778 1074.29 Q230.565 1074.29 233.945 1077.47 Q237.324 1080.64 237.324 1086.05 Q237.324 1091.63 233.852 1094.73 Q230.38 1097.81 224.061 1097.81 Q221.885 1097.81 219.616 1097.44 Q217.371 1097.07 214.963 1096.33 L214.963 1091.63 Q217.047 1092.77 219.269 1093.32 Q221.491 1093.88 223.968 1093.88 Q227.973 1093.88 230.311 1091.77 Q232.648 1089.66 232.648 1086.05 Q232.648 1082.44 230.311 1080.34 Q227.973 1078.23 223.968 1078.23 Q222.093 1078.23 220.218 1078.65 Q218.366 1079.06 216.422 1079.94 L216.422 1062.58 Z\" fill=\"#000000\" fill-rule=\"evenodd\" fill-opacity=\"1\" /><path clip-path=\"url(#clip210)\" d=\"M 0 0 M127.418 874.252 L135.056 874.252 L135.056 847.887 L126.746 849.553 L126.746 845.294 L135.01 843.627 L139.686 843.627 L139.686 874.252 L147.325 874.252 L147.325 878.187 L127.418 878.187 L127.418 874.252 Z\" fill=\"#000000\" fill-rule=\"evenodd\" fill-opacity=\"1\" /><path clip-path=\"url(#clip210)\" d=\"M 0 0 M152.441 843.627 L170.797 843.627 L170.797 847.563 L156.723 847.563 L156.723 856.035 Q157.741 855.687 158.76 855.525 Q159.778 855.34 160.797 855.34 Q166.584 855.34 169.964 858.512 Q173.343 861.683 173.343 867.099 Q173.343 872.678 169.871 875.78 Q166.399 878.859 160.079 878.859 Q157.904 878.859 155.635 878.488 Q153.39 878.118 150.982 877.377 L150.982 872.678 Q153.066 873.812 155.288 874.368 Q157.51 874.923 159.987 874.923 Q163.991 874.923 166.329 872.817 Q168.667 870.711 168.667 867.099 Q168.667 863.488 166.329 861.382 Q163.991 859.275 159.987 859.275 Q158.112 859.275 156.237 859.692 Q154.385 860.109 152.441 860.988 L152.441 843.627 Z\" fill=\"#000000\" fill-rule=\"evenodd\" fill-opacity=\"1\" /><path clip-path=\"url(#clip210)\" d=\"M 0 0 M178.413 872.308 L183.297 872.308 L183.297 878.187 L178.413 878.187 L178.413 872.308 Z\" fill=\"#000000\" fill-rule=\"evenodd\" fill-opacity=\"1\" /><path clip-path=\"url(#clip210)\" d=\"M 0 0 M198.366 846.706 Q194.755 846.706 192.926 850.271 Q191.121 853.812 191.121 860.942 Q191.121 868.049 192.926 871.613 Q194.755 875.155 198.366 875.155 Q202 875.155 203.806 871.613 Q205.635 868.049 205.635 860.942 Q205.635 853.812 203.806 850.271 Q202 846.706 198.366 846.706 M198.366 843.002 Q204.176 843.002 207.232 847.609 Q210.311 852.192 210.311 860.942 Q210.311 869.669 207.232 874.275 Q204.176 878.859 198.366 878.859 Q192.556 878.859 189.477 874.275 Q186.422 869.669 186.422 860.942 Q186.422 852.192 189.477 847.609 Q192.556 843.002 198.366 843.002 Z\" fill=\"#000000\" fill-rule=\"evenodd\" fill-opacity=\"1\" /><path clip-path=\"url(#clip210)\" d=\"M 0 0 M225.38 846.706 Q221.769 846.706 219.94 850.271 Q218.135 853.812 218.135 860.942 Q218.135 868.049 219.94 871.613 Q221.769 875.155 225.38 875.155 Q229.014 875.155 230.82 871.613 Q232.648 868.049 232.648 860.942 Q232.648 853.812 230.82 850.271 Q229.014 846.706 225.38 846.706 M225.38 843.002 Q231.19 843.002 234.246 847.609 Q237.324 852.192 237.324 860.942 Q237.324 869.669 234.246 874.275 Q231.19 878.859 225.38 878.859 Q219.57 878.859 216.491 874.275 Q213.436 869.669 213.436 860.942 Q213.436 852.192 216.491 847.609 Q219.57 843.002 225.38 843.002 Z\" fill=\"#000000\" fill-rule=\"evenodd\" fill-opacity=\"1\" /><path clip-path=\"url(#clip210)\" d=\"M 0 0 M130.01 655.299 L137.649 655.299 L137.649 628.933 L129.339 630.6 L129.339 626.341 L137.603 624.674 L142.279 624.674 L142.279 655.299 L149.917 655.299 L149.917 659.234 L130.01 659.234 L130.01 655.299 Z\" fill=\"#000000\" fill-rule=\"evenodd\" fill-opacity=\"1\" /><path clip-path=\"url(#clip210)\" d=\"M 0 0 M155.033 624.674 L173.39 624.674 L173.39 628.609 L159.316 628.609 L159.316 637.081 Q160.334 636.734 161.353 636.572 Q162.371 636.387 163.39 636.387 Q169.177 636.387 172.556 639.558 Q175.936 642.729 175.936 648.146 Q175.936 653.725 172.464 656.827 Q168.991 659.905 162.672 659.905 Q160.496 659.905 158.228 659.535 Q155.982 659.164 153.575 658.424 L153.575 653.725 Q155.658 654.859 157.88 655.414 Q160.103 655.97 162.579 655.97 Q166.584 655.97 168.922 653.864 Q171.26 651.757 171.26 648.146 Q171.26 644.535 168.922 642.428 Q166.584 640.322 162.579 640.322 Q160.704 640.322 158.829 640.739 Q156.978 641.155 155.033 642.035 L155.033 624.674 Z\" fill=\"#000000\" fill-rule=\"evenodd\" fill-opacity=\"1\" /><path clip-path=\"url(#clip210)\" d=\"M 0 0 M181.005 653.354 L185.889 653.354 L185.889 659.234 L181.005 659.234 L181.005 653.354 Z\" fill=\"#000000\" fill-rule=\"evenodd\" fill-opacity=\"1\" /><path clip-path=\"url(#clip210)\" d=\"M 0 0 M194.987 655.299 L211.306 655.299 L211.306 659.234 L189.362 659.234 L189.362 655.299 Q192.024 652.544 196.607 647.915 Q201.213 643.262 202.394 641.919 Q204.639 639.396 205.519 637.66 Q206.422 635.901 206.422 634.211 Q206.422 631.456 204.477 629.72 Q202.556 627.984 199.454 627.984 Q197.255 627.984 194.801 628.748 Q192.371 629.512 189.593 631.063 L189.593 626.341 Q192.417 625.206 194.871 624.628 Q197.325 624.049 199.362 624.049 Q204.732 624.049 207.926 626.734 Q211.121 629.419 211.121 633.91 Q211.121 636.04 210.311 637.961 Q209.524 639.859 207.417 642.452 Q206.838 643.123 203.737 646.34 Q200.635 649.535 194.987 655.299 Z\" fill=\"#000000\" fill-rule=\"evenodd\" fill-opacity=\"1\" /><path clip-path=\"url(#clip210)\" d=\"M 0 0 M216.422 624.674 L234.778 624.674 L234.778 628.609 L220.704 628.609 L220.704 637.081 Q221.723 636.734 222.741 636.572 Q223.76 636.387 224.778 636.387 Q230.565 636.387 233.945 639.558 Q237.324 642.729 237.324 648.146 Q237.324 653.725 233.852 656.827 Q230.38 659.905 224.061 659.905 Q221.885 659.905 219.616 659.535 Q217.371 659.164 214.963 658.424 L214.963 653.725 Q217.047 654.859 219.269 655.414 Q221.491 655.97 223.968 655.97 Q227.973 655.97 230.311 653.864 Q232.648 651.757 232.648 648.146 Q232.648 644.535 230.311 642.428 Q227.973 640.322 223.968 640.322 Q222.093 640.322 220.218 640.739 Q218.366 641.155 216.422 642.035 L216.422 624.674 Z\" fill=\"#000000\" fill-rule=\"evenodd\" fill-opacity=\"1\" /><path clip-path=\"url(#clip210)\" d=\"M 0 0 M128.413 436.345 L136.052 436.345 L136.052 409.98 L127.742 411.646 L127.742 407.387 L136.005 405.72 L140.681 405.72 L140.681 436.345 L148.32 436.345 L148.32 440.28 L128.413 440.28 L128.413 436.345 Z\" fill=\"#000000\" fill-rule=\"evenodd\" fill-opacity=\"1\" /><path clip-path=\"url(#clip210)\" d=\"M 0 0 M153.436 405.72 L171.792 405.72 L171.792 409.656 L157.718 409.656 L157.718 418.128 Q158.737 417.781 159.755 417.619 Q160.774 417.433 161.792 417.433 Q167.579 417.433 170.959 420.605 Q174.339 423.776 174.339 429.193 Q174.339 434.771 170.866 437.873 Q167.394 440.952 161.075 440.952 Q158.899 440.952 156.63 440.581 Q154.385 440.211 151.978 439.47 L151.978 434.771 Q154.061 435.905 156.283 436.461 Q158.505 437.017 160.982 437.017 Q164.987 437.017 167.325 434.91 Q169.663 432.804 169.663 429.193 Q169.663 425.581 167.325 423.475 Q164.987 421.369 160.982 421.369 Q159.107 421.369 157.232 421.785 Q155.38 422.202 153.436 423.081 L153.436 405.72 Z\" fill=\"#000000\" fill-rule=\"evenodd\" fill-opacity=\"1\" /><path clip-path=\"url(#clip210)\" d=\"M 0 0 M179.408 434.401 L184.292 434.401 L184.292 440.28 L179.408 440.28 L179.408 434.401 Z\" fill=\"#000000\" fill-rule=\"evenodd\" fill-opacity=\"1\" /><path clip-path=\"url(#clip210)\" d=\"M 0 0 M189.408 405.72 L207.764 405.72 L207.764 409.656 L193.69 409.656 L193.69 418.128 Q194.709 417.781 195.727 417.619 Q196.746 417.433 197.764 417.433 Q203.551 417.433 206.931 420.605 Q210.311 423.776 210.311 429.193 Q210.311 434.771 206.838 437.873 Q203.366 440.952 197.047 440.952 Q194.871 440.952 192.602 440.581 Q190.357 440.211 187.95 439.47 L187.95 434.771 Q190.033 435.905 192.255 436.461 Q194.477 437.017 196.954 437.017 Q200.959 437.017 203.297 434.91 Q205.635 432.804 205.635 429.193 Q205.635 425.581 203.297 423.475 Q200.959 421.369 196.954 421.369 Q195.079 421.369 193.204 421.785 Q191.352 422.202 189.408 423.081 L189.408 405.72 Z\" fill=\"#000000\" fill-rule=\"evenodd\" fill-opacity=\"1\" /><path clip-path=\"url(#clip210)\" d=\"M 0 0 M225.38 408.799 Q221.769 408.799 219.94 412.364 Q218.135 415.906 218.135 423.035 Q218.135 430.142 219.94 433.706 Q221.769 437.248 225.38 437.248 Q229.014 437.248 230.82 433.706 Q232.648 430.142 232.648 423.035 Q232.648 415.906 230.82 412.364 Q229.014 408.799 225.38 408.799 M225.38 405.095 Q231.19 405.095 234.246 409.702 Q237.324 414.285 237.324 423.035 Q237.324 431.762 234.246 436.368 Q231.19 440.952 225.38 440.952 Q219.57 440.952 216.491 436.368 Q213.436 431.762 213.436 423.035 Q213.436 414.285 216.491 409.702 Q219.57 405.095 225.38 405.095 Z\" fill=\"#000000\" fill-rule=\"evenodd\" fill-opacity=\"1\" /><path clip-path=\"url(#clip210)\" d=\"M 0 0 M129.316 217.392 L136.955 217.392 L136.955 191.026 L128.644 192.693 L128.644 188.434 L136.908 186.767 L141.584 186.767 L141.584 217.392 L149.223 217.392 L149.223 221.327 L129.316 221.327 L129.316 217.392 Z\" fill=\"#000000\" fill-rule=\"evenodd\" fill-opacity=\"1\" /><path clip-path=\"url(#clip210)\" d=\"M 0 0 M154.339 186.767 L172.695 186.767 L172.695 190.702 L158.621 190.702 L158.621 199.174 Q159.64 198.827 160.658 198.665 Q161.677 198.48 162.695 198.48 Q168.482 198.48 171.862 201.651 Q175.241 204.822 175.241 210.239 Q175.241 215.818 171.769 218.92 Q168.297 221.998 161.978 221.998 Q159.802 221.998 157.533 221.628 Q155.288 221.258 152.88 220.517 L152.88 215.818 Q154.964 216.952 157.186 217.508 Q159.408 218.063 161.885 218.063 Q165.89 218.063 168.228 215.957 Q170.565 213.85 170.565 210.239 Q170.565 206.628 168.228 204.522 Q165.89 202.415 161.885 202.415 Q160.01 202.415 158.135 202.832 Q156.283 203.248 154.339 204.128 L154.339 186.767 Z\" fill=\"#000000\" fill-rule=\"evenodd\" fill-opacity=\"1\" /><path clip-path=\"url(#clip210)\" d=\"M 0 0 M180.311 215.447 L185.195 215.447 L185.195 221.327 L180.311 221.327 L180.311 215.447 Z\" fill=\"#000000\" fill-rule=\"evenodd\" fill-opacity=\"1\" /><path clip-path=\"url(#clip210)\" d=\"M 0 0 M189.084 186.767 L211.306 186.767 L211.306 188.758 L198.76 221.327 L193.876 221.327 L205.681 190.702 L189.084 190.702 L189.084 186.767 Z\" fill=\"#000000\" fill-rule=\"evenodd\" fill-opacity=\"1\" /><path clip-path=\"url(#clip210)\" d=\"M 0 0 M216.422 186.767 L234.778 186.767 L234.778 190.702 L220.704 190.702 L220.704 199.174 Q221.723 198.827 222.741 198.665 Q223.76 198.48 224.778 198.48 Q230.565 198.48 233.945 201.651 Q237.324 204.822 237.324 210.239 Q237.324 215.818 233.852 218.92 Q230.38 221.998 224.061 221.998 Q221.885 221.998 219.616 221.628 Q217.371 221.258 214.963 220.517 L214.963 215.818 Q217.047 216.952 219.269 217.508 Q221.491 218.063 223.968 218.063 Q227.973 218.063 230.311 215.957 Q232.648 213.85 232.648 210.239 Q232.648 206.628 230.311 204.522 Q227.973 202.415 223.968 202.415 Q222.093 202.415 220.218 202.832 Q218.366 203.248 216.422 204.128 L216.422 186.767 Z\" fill=\"#000000\" fill-rule=\"evenodd\" fill-opacity=\"1\" /><path clip-path=\"url(#clip210)\" d=\"M 0 0 M414.018 12.096 L422.201 12.096 L422.201 72.576 L414.018 72.576 L414.018 12.096 Z\" fill=\"#000000\" fill-rule=\"evenodd\" fill-opacity=\"1\" /><path clip-path=\"url(#clip210)\" d=\"M 0 0 M467.733 45.1919 L467.733 72.576 L460.28 72.576 L460.28 45.4349 Q460.28 38.994 457.768 35.7938 Q455.257 32.5936 450.233 32.5936 Q444.198 32.5936 440.714 36.4419 Q437.23 40.2903 437.23 46.9338 L437.23 72.576 L429.736 72.576 L429.736 27.2059 L437.23 27.2059 L437.23 34.2544 Q439.904 30.163 443.509 28.1376 Q447.155 26.1121 451.894 26.1121 Q459.713 26.1121 463.723 30.9732 Q467.733 35.7938 467.733 45.1919 Z\" fill=\"#000000\" fill-rule=\"evenodd\" fill-opacity=\"1\" /><path clip-path=\"url(#clip210)\" d=\"M 0 0 M498.52 9.54393 L498.52 15.7418 L491.391 15.7418 Q487.38 15.7418 485.8 17.3622 Q484.261 18.9825 484.261 23.1955 L484.261 27.2059 L496.535 27.2059 L496.535 32.9987 L484.261 32.9987 L484.261 72.576 L476.767 72.576 L476.767 32.9987 L469.637 32.9987 L469.637 27.2059 L476.767 27.2059 L476.767 24.0462 Q476.767 16.471 480.291 13.0277 Q483.815 9.54393 491.472 9.54393 L498.52 9.54393 Z\" fill=\"#000000\" fill-rule=\"evenodd\" fill-opacity=\"1\" /><path clip-path=\"url(#clip210)\" d=\"M 0 0 M506.338 9.54393 L513.792 9.54393 L513.792 72.576 L506.338 72.576 L506.338 9.54393 Z\" fill=\"#000000\" fill-rule=\"evenodd\" fill-opacity=\"1\" /><path clip-path=\"url(#clip210)\" d=\"M 0 0 M520.841 54.671 L520.841 27.2059 L528.294 27.2059 L528.294 54.3874 Q528.294 60.8284 530.806 64.0691 Q533.317 67.2693 538.341 67.2693 Q544.376 67.2693 547.86 63.421 Q551.384 59.5726 551.384 52.9291 L551.384 27.2059 L558.838 27.2059 L558.838 72.576 L551.384 72.576 L551.384 65.6084 Q548.67 69.7404 545.065 71.7658 Q541.5 73.7508 536.761 73.7508 Q528.942 73.7508 524.892 68.8897 Q520.841 64.0286 520.841 54.671 M539.596 26.1121 L539.596 26.1121 Z\" fill=\"#000000\" fill-rule=\"evenodd\" fill-opacity=\"1\" /><path clip-path=\"url(#clip210)\" d=\"M 0 0 M605.464 48.0275 L605.464 51.6733 L571.193 51.6733 Q571.679 59.3701 575.811 63.421 Q579.984 67.4314 587.397 67.4314 Q591.691 67.4314 595.701 66.3781 Q599.752 65.3249 603.722 63.2184 L603.722 70.267 Q599.712 71.9684 595.499 72.8596 Q591.286 73.7508 586.951 73.7508 Q576.095 73.7508 569.735 67.4314 Q563.416 61.1119 563.416 50.3365 Q563.416 39.1965 569.411 32.6746 Q575.447 26.1121 585.655 26.1121 Q594.81 26.1121 600.117 32.0264 Q605.464 37.9003 605.464 48.0275 M598.01 45.84 Q597.929 39.7232 594.567 36.0774 Q591.245 32.4315 585.736 32.4315 Q579.498 32.4315 575.73 35.9558 Q572.004 39.4801 571.436 45.8805 L598.01 45.84 Z\" fill=\"#000000\" fill-rule=\"evenodd\" fill-opacity=\"1\" /><path clip-path=\"url(#clip210)\" d=\"M 0 0 M650.996 45.1919 L650.996 72.576 L643.543 72.576 L643.543 45.4349 Q643.543 38.994 641.031 35.7938 Q638.519 32.5936 633.496 32.5936 Q627.46 32.5936 623.977 36.4419 Q620.493 40.2903 620.493 46.9338 L620.493 72.576 L612.999 72.576 L612.999 27.2059 L620.493 27.2059 L620.493 34.2544 Q623.166 30.163 626.772 28.1376 Q630.418 26.1121 635.157 26.1121 Q642.975 26.1121 646.986 30.9732 Q650.996 35.7938 650.996 45.1919 Z\" fill=\"#000000\" fill-rule=\"evenodd\" fill-opacity=\"1\" /><path clip-path=\"url(#clip210)\" d=\"M 0 0 M691.465 28.9478 L691.465 35.9153 Q688.305 34.1734 685.105 33.3227 Q681.945 32.4315 678.704 32.4315 Q671.453 32.4315 667.443 37.0496 Q663.432 41.6271 663.432 49.9314 Q663.432 58.2358 667.443 62.8538 Q671.453 67.4314 678.704 67.4314 Q681.945 67.4314 685.105 66.5807 Q688.305 65.6895 691.465 63.9476 L691.465 70.8341 Q688.346 72.2924 684.983 73.0216 Q681.662 73.7508 677.894 73.7508 Q667.645 73.7508 661.61 67.3098 Q655.574 60.8689 655.574 49.9314 Q655.574 38.832 661.65 32.472 Q667.767 26.1121 678.38 26.1121 Q681.824 26.1121 685.105 26.8413 Q688.386 27.5299 691.465 28.9478 Z\" fill=\"#000000\" fill-rule=\"evenodd\" fill-opacity=\"1\" /><path clip-path=\"url(#clip210)\" d=\"M 0 0 M738.091 48.0275 L738.091 51.6733 L703.82 51.6733 Q704.306 59.3701 708.438 63.421 Q712.61 67.4314 720.024 67.4314 Q724.318 67.4314 728.328 66.3781 Q732.379 65.3249 736.349 63.2184 L736.349 70.267 Q732.338 71.9684 728.125 72.8596 Q723.912 73.7508 719.578 73.7508 Q708.722 73.7508 702.362 67.4314 Q696.042 61.1119 696.042 50.3365 Q696.042 39.1965 702.038 32.6746 Q708.073 26.1121 718.282 26.1121 Q727.437 26.1121 732.743 32.0264 Q738.091 37.9003 738.091 48.0275 M730.637 45.84 Q730.556 39.7232 727.194 36.0774 Q723.872 32.4315 718.363 32.4315 Q712.124 32.4315 708.357 35.9558 Q704.63 39.4801 704.063 45.8805 L730.637 45.84 Z\" fill=\"#000000\" fill-rule=\"evenodd\" fill-opacity=\"1\" /><path clip-path=\"url(#clip210)\" d=\"M 0 0 M789.861 32.4315 Q783.866 32.4315 780.382 37.1306 Q776.898 41.7891 776.898 49.9314 Q776.898 58.0738 780.342 62.7728 Q783.825 67.4314 789.861 67.4314 Q795.816 67.4314 799.3 62.7323 Q802.784 58.0333 802.784 49.9314 Q802.784 41.8701 799.3 37.1711 Q795.816 32.4315 789.861 32.4315 M789.861 26.1121 Q799.583 26.1121 805.133 32.4315 Q810.683 38.7509 810.683 49.9314 Q810.683 61.0714 805.133 67.4314 Q799.583 73.7508 789.861 73.7508 Q780.099 73.7508 774.549 67.4314 Q769.04 61.0714 769.04 49.9314 Q769.04 38.7509 774.549 32.4315 Q780.099 26.1121 789.861 26.1121 Z\" fill=\"#000000\" fill-rule=\"evenodd\" fill-opacity=\"1\" /><path clip-path=\"url(#clip210)\" d=\"M 0 0 M841.47 9.54393 L841.47 15.7418 L834.34 15.7418 Q830.33 15.7418 828.75 17.3622 Q827.211 18.9825 827.211 23.1955 L827.211 27.2059 L839.485 27.2059 L839.485 32.9987 L827.211 32.9987 L827.211 72.576 L819.716 72.576 L819.716 32.9987 L812.587 32.9987 L812.587 27.2059 L819.716 27.2059 L819.716 24.0462 Q819.716 16.471 823.241 13.0277 Q826.765 9.54393 834.421 9.54393 L841.47 9.54393 Z\" fill=\"#000000\" fill-rule=\"evenodd\" fill-opacity=\"1\" /><path clip-path=\"url(#clip210)\" d=\"M 0 0 M882.87 65.7705 L882.87 89.8329 L875.376 89.8329 L875.376 27.2059 L882.87 27.2059 L882.87 34.0924 Q885.219 30.0415 888.784 28.0971 Q892.39 26.1121 897.372 26.1121 Q905.636 26.1121 910.781 32.6746 Q915.966 39.2371 915.966 49.9314 Q915.966 60.6258 910.781 67.1883 Q905.636 73.7508 897.372 73.7508 Q892.39 73.7508 888.784 71.8063 Q885.219 69.8214 882.87 65.7705 M908.229 49.9314 Q908.229 41.7081 904.826 37.0496 Q901.464 32.3505 895.549 32.3505 Q889.635 32.3505 886.232 37.0496 Q882.87 41.7081 882.87 49.9314 Q882.87 58.1548 886.232 62.8538 Q889.635 67.5124 895.549 67.5124 Q901.464 67.5124 904.826 62.8538 Q908.229 58.1548 908.229 49.9314 Z\" fill=\"#000000\" fill-rule=\"evenodd\" fill-opacity=\"1\" /><path clip-path=\"url(#clip210)\" d=\"M 0 0 M923.784 27.2059 L931.238 27.2059 L931.238 72.576 L923.784 72.576 L923.784 27.2059 M923.784 9.54393 L931.238 9.54393 L931.238 18.9825 L923.784 18.9825 L923.784 9.54393 Z\" fill=\"#000000\" fill-rule=\"evenodd\" fill-opacity=\"1\" /><path clip-path=\"url(#clip210)\" d=\"M 0 0 M965.346 34.1734 Q964.091 33.4443 962.592 33.1202 Q961.133 32.7556 959.351 32.7556 Q953.032 32.7556 949.629 36.8875 Q946.267 40.9789 946.267 48.6757 L946.267 72.576 L938.772 72.576 L938.772 27.2059 L946.267 27.2059 L946.267 34.2544 Q948.616 30.1225 952.383 28.1376 Q956.151 26.1121 961.539 26.1121 Q962.308 26.1121 963.24 26.2337 Q964.172 26.3147 965.306 26.5172 L965.346 34.1734 Z\" fill=\"#000000\" fill-rule=\"evenodd\" fill-opacity=\"1\" /><path clip-path=\"url(#clip210)\" d=\"M 0 0 M993.784 49.7694 Q984.75 49.7694 981.266 51.8354 Q977.783 53.9013 977.783 58.8839 Q977.783 62.8538 980.375 65.2034 Q983.008 67.5124 987.505 67.5124 Q993.703 67.5124 997.43 63.1374 Q1001.2 58.7219 1001.2 51.4303 L1001.2 49.7694 L993.784 49.7694 M1008.65 46.6907 L1008.65 72.576 L1001.2 72.576 L1001.2 65.6895 Q998.645 69.8214 994.837 71.8063 Q991.029 73.7508 985.52 73.7508 Q978.552 73.7508 974.42 69.8619 Q970.329 65.9325 970.329 59.3701 Q970.329 51.7138 975.433 47.825 Q980.578 43.9361 990.746 43.9361 L1001.2 43.9361 L1001.2 43.2069 Q1001.2 38.0623 997.794 35.2672 Q994.432 32.4315 988.315 32.4315 Q984.426 32.4315 980.74 33.3632 Q977.053 34.295 973.651 36.1584 L973.651 29.2718 Q977.742 27.692 981.59 26.9223 Q985.439 26.1121 989.085 26.1121 Q998.928 26.1121 1003.79 31.2163 Q1008.65 36.3204 1008.65 46.6907 Z\" fill=\"#000000\" fill-rule=\"evenodd\" fill-opacity=\"1\" /><path clip-path=\"url(#clip210)\" d=\"M 0 0 M1023.84 14.324 L1023.84 27.2059 L1039.19 27.2059 L1039.19 32.9987 L1023.84 32.9987 L1023.84 57.6282 Q1023.84 63.1779 1025.34 64.7578 Q1026.88 66.3376 1031.54 66.3376 L1039.19 66.3376 L1039.19 72.576 L1031.54 72.576 Q1022.91 72.576 1019.63 69.3758 Q1016.35 66.1351 1016.35 57.6282 L1016.35 32.9987 L1010.88 32.9987 L1010.88 27.2059 L1016.35 27.2059 L1016.35 14.324 L1023.84 14.324 Z\" fill=\"#000000\" fill-rule=\"evenodd\" fill-opacity=\"1\" /><path clip-path=\"url(#clip210)\" d=\"M 0 0 M1085.82 48.0275 L1085.82 51.6733 L1051.55 51.6733 Q1052.04 59.3701 1056.17 63.421 Q1060.34 67.4314 1067.75 67.4314 Q1072.05 67.4314 1076.06 66.3781 Q1080.11 65.3249 1084.08 63.2184 L1084.08 70.267 Q1080.07 71.9684 1075.86 72.8596 Q1071.64 73.7508 1067.31 73.7508 Q1056.45 73.7508 1050.09 67.4314 Q1043.77 61.1119 1043.77 50.3365 Q1043.77 39.1965 1049.77 32.6746 Q1055.8 26.1121 1066.01 26.1121 Q1075.17 26.1121 1080.47 32.0264 Q1085.82 37.9003 1085.82 48.0275 M1078.37 45.84 Q1078.29 39.7232 1074.92 36.0774 Q1071.6 32.4315 1066.09 32.4315 Q1059.85 32.4315 1056.09 35.9558 Q1052.36 39.4801 1051.79 45.8805 L1078.37 45.84 Z\" fill=\"#000000\" fill-rule=\"evenodd\" fill-opacity=\"1\" /><path clip-path=\"url(#clip210)\" d=\"M 0 0 M1127.22 65.7705 L1127.22 89.8329 L1119.73 89.8329 L1119.73 27.2059 L1127.22 27.2059 L1127.22 34.0924 Q1129.57 30.0415 1133.13 28.0971 Q1136.74 26.1121 1141.72 26.1121 Q1149.99 26.1121 1155.13 32.6746 Q1160.32 39.2371 1160.32 49.9314 Q1160.32 60.6258 1155.13 67.1883 Q1149.99 73.7508 1141.72 73.7508 Q1136.74 73.7508 1133.13 71.8063 Q1129.57 69.8214 1127.22 65.7705 M1152.58 49.9314 Q1152.58 41.7081 1149.18 37.0496 Q1145.81 32.3505 1139.9 32.3505 Q1133.99 32.3505 1130.58 37.0496 Q1127.22 41.7081 1127.22 49.9314 Q1127.22 58.1548 1130.58 62.8538 Q1133.99 67.5124 1139.9 67.5124 Q1145.81 67.5124 1149.18 62.8538 Q1152.58 58.1548 1152.58 49.9314 Z\" fill=\"#000000\" fill-rule=\"evenodd\" fill-opacity=\"1\" /><path clip-path=\"url(#clip210)\" d=\"M 0 0 M1185.72 32.4315 Q1179.72 32.4315 1176.24 37.1306 Q1172.75 41.7891 1172.75 49.9314 Q1172.75 58.0738 1176.2 62.7728 Q1179.68 67.4314 1185.72 67.4314 Q1191.67 67.4314 1195.15 62.7323 Q1198.64 58.0333 1198.64 49.9314 Q1198.64 41.8701 1195.15 37.1711 Q1191.67 32.4315 1185.72 32.4315 M1185.72 26.1121 Q1195.44 26.1121 1200.99 32.4315 Q1206.54 38.7509 1206.54 49.9314 Q1206.54 61.0714 1200.99 67.4314 Q1195.44 73.7508 1185.72 73.7508 Q1175.95 73.7508 1170.4 67.4314 Q1164.89 61.0714 1164.89 49.9314 Q1164.89 38.7509 1170.4 32.4315 Q1175.95 26.1121 1185.72 26.1121 Z\" fill=\"#000000\" fill-rule=\"evenodd\" fill-opacity=\"1\" /><path clip-path=\"url(#clip210)\" d=\"M 0 0 M1221.57 65.7705 L1221.57 89.8329 L1214.07 89.8329 L1214.07 27.2059 L1221.57 27.2059 L1221.57 34.0924 Q1223.92 30.0415 1227.48 28.0971 Q1231.09 26.1121 1236.07 26.1121 Q1244.33 26.1121 1249.48 32.6746 Q1254.66 39.2371 1254.66 49.9314 Q1254.66 60.6258 1249.48 67.1883 Q1244.33 73.7508 1236.07 73.7508 Q1231.09 73.7508 1227.48 71.8063 Q1223.92 69.8214 1221.57 65.7705 M1246.92 49.9314 Q1246.92 41.7081 1243.52 37.0496 Q1240.16 32.3505 1234.25 32.3505 Q1228.33 32.3505 1224.93 37.0496 Q1221.57 41.7081 1221.57 49.9314 Q1221.57 58.1548 1224.93 62.8538 Q1228.33 67.5124 1234.25 67.5124 Q1240.16 67.5124 1243.52 62.8538 Q1246.92 58.1548 1246.92 49.9314 Z\" fill=\"#000000\" fill-rule=\"evenodd\" fill-opacity=\"1\" /><path clip-path=\"url(#clip210)\" d=\"M 0 0 M1261.71 54.671 L1261.71 27.2059 L1269.16 27.2059 L1269.16 54.3874 Q1269.16 60.8284 1271.68 64.0691 Q1274.19 67.2693 1279.21 67.2693 Q1285.25 67.2693 1288.73 63.421 Q1292.25 59.5726 1292.25 52.9291 L1292.25 27.2059 L1299.71 27.2059 L1299.71 72.576 L1292.25 72.576 L1292.25 65.6084 Q1289.54 69.7404 1285.93 71.7658 Q1282.37 73.7508 1277.63 73.7508 Q1269.81 73.7508 1265.76 68.8897 Q1261.71 64.0286 1261.71 54.671 M1280.47 26.1121 L1280.47 26.1121 Z\" fill=\"#000000\" fill-rule=\"evenodd\" fill-opacity=\"1\" /><path clip-path=\"url(#clip210)\" d=\"M 0 0 M1307.53 9.54393 L1314.98 9.54393 L1314.98 72.576 L1307.53 72.576 L1307.53 9.54393 Z\" fill=\"#000000\" fill-rule=\"evenodd\" fill-opacity=\"1\" /><path clip-path=\"url(#clip210)\" d=\"M 0 0 M1343.42 49.7694 Q1334.38 49.7694 1330.9 51.8354 Q1327.42 53.9013 1327.42 58.8839 Q1327.42 62.8538 1330.01 65.2034 Q1332.64 67.5124 1337.14 67.5124 Q1343.34 67.5124 1347.06 63.1374 Q1350.83 58.7219 1350.83 51.4303 L1350.83 49.7694 L1343.42 49.7694 M1358.28 46.6907 L1358.28 72.576 L1350.83 72.576 L1350.83 65.6895 Q1348.28 69.8214 1344.47 71.8063 Q1340.66 73.7508 1335.15 73.7508 Q1328.19 73.7508 1324.05 69.8619 Q1319.96 65.9325 1319.96 59.3701 Q1319.96 51.7138 1325.07 47.825 Q1330.21 43.9361 1340.38 43.9361 L1350.83 43.9361 L1350.83 43.2069 Q1350.83 38.0623 1347.43 35.2672 Q1344.07 32.4315 1337.95 32.4315 Q1334.06 32.4315 1330.37 33.3632 Q1326.69 34.295 1323.28 36.1584 L1323.28 29.2718 Q1327.38 27.692 1331.22 26.9223 Q1335.07 26.1121 1338.72 26.1121 Q1348.56 26.1121 1353.42 31.2163 Q1358.28 36.3204 1358.28 46.6907 Z\" fill=\"#000000\" fill-rule=\"evenodd\" fill-opacity=\"1\" /><path clip-path=\"url(#clip210)\" d=\"M 0 0 M1373.47 14.324 L1373.47 27.2059 L1388.83 27.2059 L1388.83 32.9987 L1373.47 32.9987 L1373.47 57.6282 Q1373.47 63.1779 1374.97 64.7578 Q1376.51 66.3376 1381.17 66.3376 L1388.83 66.3376 L1388.83 72.576 L1381.17 72.576 Q1372.54 72.576 1369.26 69.3758 Q1365.98 66.1351 1365.98 57.6282 L1365.98 32.9987 L1360.51 32.9987 L1360.51 27.2059 L1365.98 27.2059 L1365.98 14.324 L1373.47 14.324 Z\" fill=\"#000000\" fill-rule=\"evenodd\" fill-opacity=\"1\" /><path clip-path=\"url(#clip210)\" d=\"M 0 0 M1396.65 27.2059 L1404.1 27.2059 L1404.1 72.576 L1396.65 72.576 L1396.65 27.2059 M1396.65 9.54393 L1404.1 9.54393 L1404.1 18.9825 L1396.65 18.9825 L1396.65 9.54393 Z\" fill=\"#000000\" fill-rule=\"evenodd\" fill-opacity=\"1\" /><path clip-path=\"url(#clip210)\" d=\"M 0 0 M1429.5 32.4315 Q1423.5 32.4315 1420.02 37.1306 Q1416.54 41.7891 1416.54 49.9314 Q1416.54 58.0738 1419.98 62.7728 Q1423.46 67.4314 1429.5 67.4314 Q1435.45 67.4314 1438.94 62.7323 Q1442.42 58.0333 1442.42 49.9314 Q1442.42 41.8701 1438.94 37.1711 Q1435.45 32.4315 1429.5 32.4315 M1429.5 26.1121 Q1439.22 26.1121 1444.77 32.4315 Q1450.32 38.7509 1450.32 49.9314 Q1450.32 61.0714 1444.77 67.4314 Q1439.22 73.7508 1429.5 73.7508 Q1419.74 73.7508 1414.19 67.4314 Q1408.68 61.0714 1408.68 49.9314 Q1408.68 38.7509 1414.19 32.4315 Q1419.74 26.1121 1429.5 26.1121 Z\" fill=\"#000000\" fill-rule=\"evenodd\" fill-opacity=\"1\" /><path clip-path=\"url(#clip210)\" d=\"M 0 0 M1495.85 45.1919 L1495.85 72.576 L1488.4 72.576 L1488.4 45.4349 Q1488.4 38.994 1485.89 35.7938 Q1483.38 32.5936 1478.35 32.5936 Q1472.32 32.5936 1468.83 36.4419 Q1465.35 40.2903 1465.35 46.9338 L1465.35 72.576 L1457.86 72.576 L1457.86 27.2059 L1465.35 27.2059 L1465.35 34.2544 Q1468.02 30.163 1471.63 28.1376 Q1475.27 26.1121 1480.01 26.1121 Q1487.83 26.1121 1491.84 30.9732 Q1495.85 35.7938 1495.85 45.1919 Z\" fill=\"#000000\" fill-rule=\"evenodd\" fill-opacity=\"1\" /><path clip-path=\"url(#clip210)\" d=\"M 0 0 M1547.62 32.4315 Q1541.63 32.4315 1538.14 37.1306 Q1534.66 41.7891 1534.66 49.9314 Q1534.66 58.0738 1538.1 62.7728 Q1541.59 67.4314 1547.62 67.4314 Q1553.58 67.4314 1557.06 62.7323 Q1560.55 58.0333 1560.55 49.9314 Q1560.55 41.8701 1557.06 37.1711 Q1553.58 32.4315 1547.62 32.4315 M1547.62 26.1121 Q1557.35 26.1121 1562.9 32.4315 Q1568.44 38.7509 1568.44 49.9314 Q1568.44 61.0714 1562.9 67.4314 Q1557.35 73.7508 1547.62 73.7508 Q1537.86 73.7508 1532.31 67.4314 Q1526.8 61.0714 1526.8 49.9314 Q1526.8 38.7509 1532.31 32.4315 Q1537.86 26.1121 1547.62 26.1121 Z\" fill=\"#000000\" fill-rule=\"evenodd\" fill-opacity=\"1\" /><path clip-path=\"url(#clip210)\" d=\"M 0 0 M1613.98 45.1919 L1613.98 72.576 L1606.52 72.576 L1606.52 45.4349 Q1606.52 38.994 1604.01 35.7938 Q1601.5 32.5936 1596.48 32.5936 Q1590.44 32.5936 1586.96 36.4419 Q1583.47 40.2903 1583.47 46.9338 L1583.47 72.576 L1575.98 72.576 L1575.98 27.2059 L1583.47 27.2059 L1583.47 34.2544 Q1586.15 30.163 1589.75 28.1376 Q1593.4 26.1121 1598.14 26.1121 Q1605.96 26.1121 1609.97 30.9732 Q1613.98 35.7938 1613.98 45.1919 Z\" fill=\"#000000\" fill-rule=\"evenodd\" fill-opacity=\"1\" /><path clip-path=\"url(#clip210)\" d=\"M 0 0 M1678.02 49.3643 Q1678.02 41.2625 1674.66 36.8065 Q1671.34 32.3505 1665.3 32.3505 Q1659.31 32.3505 1655.94 36.8065 Q1652.62 41.2625 1652.62 49.3643 Q1652.62 57.4256 1655.94 61.8816 Q1659.31 66.3376 1665.3 66.3376 Q1671.34 66.3376 1674.66 61.8816 Q1678.02 57.4256 1678.02 49.3643 M1685.48 66.9452 Q1685.48 78.5308 1680.33 84.1616 Q1675.19 89.8329 1664.57 89.8329 Q1660.64 89.8329 1657.16 89.2252 Q1653.68 88.6581 1650.39 87.4428 L1650.39 80.1917 Q1653.68 81.9741 1656.88 82.8248 Q1660.08 83.6755 1663.4 83.6755 Q1670.73 83.6755 1674.38 79.8271 Q1678.02 76.0193 1678.02 68.282 L1678.02 64.5957 Q1675.71 68.6061 1672.11 70.5911 Q1668.5 72.576 1663.48 72.576 Q1655.13 72.576 1650.03 66.2161 Q1644.93 59.8562 1644.93 49.3643 Q1644.93 38.832 1650.03 32.472 Q1655.13 26.1121 1663.48 26.1121 Q1668.5 26.1121 1672.11 28.0971 Q1675.71 30.082 1678.02 34.0924 L1678.02 27.2059 L1685.48 27.2059 L1685.48 66.9452 Z\" fill=\"#000000\" fill-rule=\"evenodd\" fill-opacity=\"1\" /><path clip-path=\"url(#clip210)\" d=\"M 0 0 M1693.29 9.54393 L1700.75 9.54393 L1700.75 72.576 L1693.29 72.576 L1693.29 9.54393 Z\" fill=\"#000000\" fill-rule=\"evenodd\" fill-opacity=\"1\" /><path clip-path=\"url(#clip210)\" d=\"M 0 0 M1726.15 32.4315 Q1720.15 32.4315 1716.67 37.1306 Q1713.18 41.7891 1713.18 49.9314 Q1713.18 58.0738 1716.63 62.7728 Q1720.11 67.4314 1726.15 67.4314 Q1732.1 67.4314 1735.59 62.7323 Q1739.07 58.0333 1739.07 49.9314 Q1739.07 41.8701 1735.59 37.1711 Q1732.1 32.4315 1726.15 32.4315 M1726.15 26.1121 Q1735.87 26.1121 1741.42 32.4315 Q1746.97 38.7509 1746.97 49.9314 Q1746.97 61.0714 1741.42 67.4314 Q1735.87 73.7508 1726.15 73.7508 Q1716.38 73.7508 1710.83 67.4314 Q1705.33 61.0714 1705.33 49.9314 Q1705.33 38.7509 1710.83 32.4315 Q1716.38 26.1121 1726.15 26.1121 Z\" fill=\"#000000\" fill-rule=\"evenodd\" fill-opacity=\"1\" /><path clip-path=\"url(#clip210)\" d=\"M 0 0 M1787.36 49.9314 Q1787.36 41.7081 1783.95 37.0496 Q1780.59 32.3505 1774.68 32.3505 Q1768.76 32.3505 1765.36 37.0496 Q1762 41.7081 1762 49.9314 Q1762 58.1548 1765.36 62.8538 Q1768.76 67.5124 1774.68 67.5124 Q1780.59 67.5124 1783.95 62.8538 Q1787.36 58.1548 1787.36 49.9314 M1762 34.0924 Q1764.35 30.0415 1767.91 28.0971 Q1771.52 26.1121 1776.5 26.1121 Q1784.76 26.1121 1789.91 32.6746 Q1795.09 39.2371 1795.09 49.9314 Q1795.09 60.6258 1789.91 67.1883 Q1784.76 73.7508 1776.5 73.7508 Q1771.52 73.7508 1767.91 71.8063 Q1764.35 69.8214 1762 65.7705 L1762 72.576 L1754.5 72.576 L1754.5 9.54393 L1762 9.54393 L1762 34.0924 Z\" fill=\"#000000\" fill-rule=\"evenodd\" fill-opacity=\"1\" /><path clip-path=\"url(#clip210)\" d=\"M 0 0 M1823.53 49.7694 Q1814.5 49.7694 1811.01 51.8354 Q1807.53 53.9013 1807.53 58.8839 Q1807.53 62.8538 1810.12 65.2034 Q1812.76 67.5124 1817.25 67.5124 Q1823.45 67.5124 1827.18 63.1374 Q1830.94 58.7219 1830.94 51.4303 L1830.94 49.7694 L1823.53 49.7694 M1838.4 46.6907 L1838.4 72.576 L1830.94 72.576 L1830.94 65.6895 Q1828.39 69.8214 1824.58 71.8063 Q1820.78 73.7508 1815.27 73.7508 Q1808.3 73.7508 1804.17 69.8619 Q1800.08 65.9325 1800.08 59.3701 Q1800.08 51.7138 1805.18 47.825 Q1810.32 43.9361 1820.49 43.9361 L1830.94 43.9361 L1830.94 43.2069 Q1830.94 38.0623 1827.54 35.2672 Q1824.18 32.4315 1818.06 32.4315 Q1814.17 32.4315 1810.49 33.3632 Q1806.8 34.295 1803.4 36.1584 L1803.4 29.2718 Q1807.49 27.692 1811.34 26.9223 Q1815.19 26.1121 1818.83 26.1121 Q1828.68 26.1121 1833.54 31.2163 Q1838.4 36.3204 1838.4 46.6907 Z\" fill=\"#000000\" fill-rule=\"evenodd\" fill-opacity=\"1\" /><path clip-path=\"url(#clip210)\" d=\"M 0 0 M1846.22 9.54393 L1853.67 9.54393 L1853.67 72.576 L1846.22 72.576 L1846.22 9.54393 Z\" fill=\"#000000\" fill-rule=\"evenodd\" fill-opacity=\"1\" /><path clip-path=\"url(#clip210)\" d=\"M 0 0 M1883.52 27.2059 L1890.98 27.2059 L1900.3 62.6108 L1909.57 27.2059 L1918.36 27.2059 L1927.68 62.6108 L1936.96 27.2059 L1944.41 27.2059 L1932.54 72.576 L1923.75 72.576 L1913.99 35.3887 L1904.18 72.576 L1895.39 72.576 L1883.52 27.2059 Z\" fill=\"#000000\" fill-rule=\"evenodd\" fill-opacity=\"1\" /><path clip-path=\"url(#clip210)\" d=\"M 0 0 M1972.85 49.7694 Q1963.81 49.7694 1960.33 51.8354 Q1956.85 53.9013 1956.85 58.8839 Q1956.85 62.8538 1959.44 65.2034 Q1962.07 67.5124 1966.57 67.5124 Q1972.77 67.5124 1976.49 63.1374 Q1980.26 58.7219 1980.26 51.4303 L1980.26 49.7694 L1972.85 49.7694 M1987.71 46.6907 L1987.71 72.576 L1980.26 72.576 L1980.26 65.6895 Q1977.71 69.8214 1973.9 71.8063 Q1970.09 73.7508 1964.58 73.7508 Q1957.62 73.7508 1953.48 69.8619 Q1949.39 65.9325 1949.39 59.3701 Q1949.39 51.7138 1954.5 47.825 Q1959.64 43.9361 1969.81 43.9361 L1980.26 43.9361 L1980.26 43.2069 Q1980.26 38.0623 1976.86 35.2672 Q1973.49 32.4315 1967.38 32.4315 Q1963.49 32.4315 1959.8 33.3632 Q1956.12 34.295 1952.71 36.1584 L1952.71 29.2718 Q1956.81 27.692 1960.65 26.9223 Q1964.5 26.1121 1968.15 26.1121 Q1977.99 26.1121 1982.85 31.2163 Q1987.71 36.3204 1987.71 46.6907 Z\" fill=\"#000000\" fill-rule=\"evenodd\" fill-opacity=\"1\" /><path clip-path=\"url(#clip210)\" d=\"M 0 0 M2021.82 34.1734 Q2020.57 33.4443 2019.07 33.1202 Q2017.61 32.7556 2015.83 32.7556 Q2009.51 32.7556 2006.1 36.8875 Q2002.74 40.9789 2002.74 48.6757 L2002.74 72.576 L1995.25 72.576 L1995.25 27.2059 L2002.74 27.2059 L2002.74 34.2544 Q2005.09 30.1225 2008.86 28.1376 Q2012.63 26.1121 2018.01 26.1121 Q2018.78 26.1121 2019.72 26.2337 Q2020.65 26.3147 2021.78 26.5172 L2021.82 34.1734 Z\" fill=\"#000000\" fill-rule=\"evenodd\" fill-opacity=\"1\" /><path clip-path=\"url(#clip210)\" d=\"M 0 0 M2063.51 35.9153 Q2066.3 30.8922 2070.19 28.5022 Q2074.08 26.1121 2079.35 26.1121 Q2086.43 26.1121 2090.28 31.0947 Q2094.13 36.0368 2094.13 45.1919 L2094.13 72.576 L2086.64 72.576 L2086.64 45.4349 Q2086.64 38.913 2084.33 35.7533 Q2082.02 32.5936 2077.28 32.5936 Q2071.49 32.5936 2068.12 36.4419 Q2064.76 40.2903 2064.76 46.9338 L2064.76 72.576 L2057.27 72.576 L2057.27 45.4349 Q2057.27 38.8725 2054.96 35.7533 Q2052.65 32.5936 2047.83 32.5936 Q2042.12 32.5936 2038.75 36.4824 Q2035.39 40.3308 2035.39 46.9338 L2035.39 72.576 L2027.9 72.576 L2027.9 27.2059 L2035.39 27.2059 L2035.39 34.2544 Q2037.94 30.082 2041.51 28.0971 Q2045.07 26.1121 2049.98 26.1121 Q2054.92 26.1121 2058.36 28.6237 Q2061.85 31.1352 2063.51 35.9153 Z\" fill=\"#000000\" fill-rule=\"evenodd\" fill-opacity=\"1\" /><path clip-path=\"url(#clip210)\" d=\"M 0 0 M2101.95 27.2059 L2109.4 27.2059 L2109.4 72.576 L2101.95 72.576 L2101.95 27.2059 M2101.95 9.54393 L2109.4 9.54393 L2109.4 18.9825 L2101.95 18.9825 L2101.95 9.54393 Z\" fill=\"#000000\" fill-rule=\"evenodd\" fill-opacity=\"1\" /><path clip-path=\"url(#clip210)\" d=\"M 0 0 M2154.93 45.1919 L2154.93 72.576 L2147.48 72.576 L2147.48 45.4349 Q2147.48 38.994 2144.97 35.7938 Q2142.46 32.5936 2137.43 32.5936 Q2131.4 32.5936 2127.92 36.4419 Q2124.43 40.2903 2124.43 46.9338 L2124.43 72.576 L2116.94 72.576 L2116.94 27.2059 L2124.43 27.2059 L2124.43 34.2544 Q2127.11 30.163 2130.71 28.1376 Q2134.36 26.1121 2139.1 26.1121 Q2146.91 26.1121 2150.92 30.9732 Q2154.93 35.7938 2154.93 45.1919 Z\" fill=\"#000000\" fill-rule=\"evenodd\" fill-opacity=\"1\" /><path clip-path=\"url(#clip210)\" d=\"M 0 0 M2192.61 49.3643 Q2192.61 41.2625 2189.25 36.8065 Q2185.92 32.3505 2179.89 32.3505 Q2173.89 32.3505 2170.53 36.8065 Q2167.21 41.2625 2167.21 49.3643 Q2167.21 57.4256 2170.53 61.8816 Q2173.89 66.3376 2179.89 66.3376 Q2185.92 66.3376 2189.25 61.8816 Q2192.61 57.4256 2192.61 49.3643 M2200.06 66.9452 Q2200.06 78.5308 2194.92 84.1616 Q2189.77 89.8329 2179.16 89.8329 Q2175.23 89.8329 2171.75 89.2252 Q2168.26 88.6581 2164.98 87.4428 L2164.98 80.1917 Q2168.26 81.9741 2171.46 82.8248 Q2174.66 83.6755 2177.98 83.6755 Q2185.32 83.6755 2188.96 79.8271 Q2192.61 76.0193 2192.61 68.282 L2192.61 64.5957 Q2190.3 68.6061 2186.69 70.5911 Q2183.09 72.576 2178.07 72.576 Q2169.72 72.576 2164.62 66.2161 Q2159.51 59.8562 2159.51 49.3643 Q2159.51 38.832 2164.62 32.472 Q2169.72 26.1121 2178.07 26.1121 Q2183.09 26.1121 2186.69 28.0971 Q2190.3 30.082 2192.61 34.0924 L2192.61 27.2059 L2200.06 27.2059 L2200.06 66.9452 Z\" fill=\"#000000\" fill-rule=\"evenodd\" fill-opacity=\"1\" /><path clip-path=\"url(#clip210)\" d=\"M 0 0 M820.812 1508.52 L829.469 1508.52 L850.539 1548.28 L850.539 1508.52 L856.778 1508.52 L856.778 1556.04 L848.12 1556.04 L827.05 1516.29 L827.05 1556.04 L820.812 1556.04 L820.812 1508.52 Z\" fill=\"#000000\" fill-rule=\"evenodd\" fill-opacity=\"1\" /><path clip-path=\"url(#clip210)\" d=\"M 0 0 M862.316 1541.98 L862.316 1520.4 L868.172 1520.4 L868.172 1541.75 Q868.172 1546.81 870.146 1549.36 Q872.119 1551.87 876.066 1551.87 Q880.808 1551.87 883.546 1548.85 Q886.315 1545.83 886.315 1540.61 L886.315 1520.4 L892.171 1520.4 L892.171 1556.04 L886.315 1556.04 L886.315 1550.57 Q884.182 1553.82 881.349 1555.41 Q878.549 1556.97 874.825 1556.97 Q868.682 1556.97 865.499 1553.15 Q862.316 1549.33 862.316 1541.98 M877.053 1519.54 L877.053 1519.54 Z\" fill=\"#000000\" fill-rule=\"evenodd\" fill-opacity=\"1\" /><path clip-path=\"url(#clip210)\" d=\"M 0 0 M926.069 1527.24 Q928.265 1523.29 931.32 1521.41 Q934.376 1519.54 938.513 1519.54 Q944.083 1519.54 947.107 1523.45 Q950.131 1527.33 950.131 1534.53 L950.131 1556.04 L944.243 1556.04 L944.243 1534.72 Q944.243 1529.59 942.428 1527.11 Q940.614 1524.63 936.89 1524.63 Q932.339 1524.63 929.697 1527.65 Q927.055 1530.68 927.055 1535.9 L927.055 1556.04 L921.167 1556.04 L921.167 1534.72 Q921.167 1529.56 919.353 1527.11 Q917.538 1524.63 913.751 1524.63 Q909.263 1524.63 906.621 1527.68 Q903.98 1530.71 903.98 1535.9 L903.98 1556.04 L898.091 1556.04 L898.091 1520.4 L903.98 1520.4 L903.98 1525.93 Q905.985 1522.66 908.786 1521.1 Q911.587 1519.54 915.438 1519.54 Q919.321 1519.54 922.026 1521.51 Q924.764 1523.48 926.069 1527.24 Z\" fill=\"#000000\" fill-rule=\"evenodd\" fill-opacity=\"1\" /><path clip-path=\"url(#clip210)\" d=\"M 0 0 M981.864 1538.25 Q981.864 1531.79 979.19 1528.13 Q976.549 1524.44 971.902 1524.44 Q967.255 1524.44 964.581 1528.13 Q961.939 1531.79 961.939 1538.25 Q961.939 1544.71 964.581 1548.4 Q967.255 1552.07 971.902 1552.07 Q976.549 1552.07 979.19 1548.4 Q981.864 1544.71 981.864 1538.25 M961.939 1525.81 Q963.785 1522.62 966.586 1521.1 Q969.419 1519.54 973.334 1519.54 Q979.827 1519.54 983.869 1524.69 Q987.943 1529.85 987.943 1538.25 Q987.943 1546.65 983.869 1551.81 Q979.827 1556.97 973.334 1556.97 Q969.419 1556.97 966.586 1555.44 Q963.785 1553.88 961.939 1550.7 L961.939 1556.04 L956.051 1556.04 L956.051 1506.52 L961.939 1506.52 L961.939 1525.81 Z\" fill=\"#000000\" fill-rule=\"evenodd\" fill-opacity=\"1\" /><path clip-path=\"url(#clip210)\" d=\"M 0 0 M1024.58 1536.76 L1024.58 1539.62 L997.651 1539.62 Q998.033 1545.67 1001.28 1548.85 Q1004.56 1552 1010.38 1552 Q1013.76 1552 1016.91 1551.17 Q1020.09 1550.35 1023.21 1548.69 L1023.21 1554.23 Q1020.06 1555.57 1016.75 1556.27 Q1013.44 1556.97 1010.03 1556.97 Q1001.5 1556.97 996.505 1552 Q991.54 1547.04 991.54 1538.57 Q991.54 1529.82 996.25 1524.69 Q1000.99 1519.54 1009.01 1519.54 Q1016.21 1519.54 1020.38 1524.18 Q1024.58 1528.8 1024.58 1536.76 M1018.72 1535.04 Q1018.66 1530.23 1016.02 1527.37 Q1013.41 1524.5 1009.08 1524.5 Q1004.18 1524.5 1001.22 1527.27 Q998.287 1530.04 997.842 1535.07 L1018.72 1535.04 Z\" fill=\"#000000\" fill-rule=\"evenodd\" fill-opacity=\"1\" /><path clip-path=\"url(#clip210)\" d=\"M 0 0 M1051.38 1525.87 Q1050.39 1525.3 1049.21 1525.04 Q1048.07 1524.76 1046.67 1524.76 Q1041.7 1524.76 1039.03 1528 Q1036.39 1531.22 1036.39 1537.27 L1036.39 1556.04 L1030.5 1556.04 L1030.5 1520.4 L1036.39 1520.4 L1036.39 1525.93 Q1038.23 1522.69 1041.19 1521.13 Q1044.15 1519.54 1048.39 1519.54 Q1048.99 1519.54 1049.72 1519.63 Q1050.45 1519.7 1051.35 1519.85 L1051.38 1525.87 Z\" fill=\"#000000\" fill-rule=\"evenodd\" fill-opacity=\"1\" /><path clip-path=\"url(#clip210)\" d=\"M 0 0 M1092.05 1524.5 Q1087.34 1524.5 1084.61 1528.19 Q1081.87 1531.85 1081.87 1538.25 Q1081.87 1544.65 1084.57 1548.34 Q1087.31 1552 1092.05 1552 Q1096.73 1552 1099.47 1548.31 Q1102.21 1544.62 1102.21 1538.25 Q1102.21 1531.92 1099.47 1528.23 Q1096.73 1524.5 1092.05 1524.5 M1092.05 1519.54 Q1099.69 1519.54 1104.05 1524.5 Q1108.41 1529.47 1108.41 1538.25 Q1108.41 1547 1104.05 1552 Q1099.69 1556.97 1092.05 1556.97 Q1084.38 1556.97 1080.02 1552 Q1075.69 1547 1075.69 1538.25 Q1075.69 1529.47 1080.02 1524.5 Q1084.38 1519.54 1092.05 1519.54 Z\" fill=\"#000000\" fill-rule=\"evenodd\" fill-opacity=\"1\" /><path clip-path=\"url(#clip210)\" d=\"M 0 0 M1132.6 1506.52 L1132.6 1511.39 L1127 1511.39 Q1123.85 1511.39 1122.61 1512.66 Q1121.4 1513.93 1121.4 1517.24 L1121.4 1520.4 L1131.04 1520.4 L1131.04 1524.95 L1121.4 1524.95 L1121.4 1556.04 L1115.51 1556.04 L1115.51 1524.95 L1109.91 1524.95 L1109.91 1520.4 L1115.51 1520.4 L1115.51 1517.91 Q1115.51 1511.96 1118.28 1509.26 Q1121.05 1506.52 1127.07 1506.52 L1132.6 1506.52 Z\" fill=\"#000000\" fill-rule=\"evenodd\" fill-opacity=\"1\" /><path clip-path=\"url(#clip210)\" d=\"M 0 0 M1166.15 1513.81 L1166.15 1531.66 L1174.24 1531.66 Q1178.72 1531.66 1181.17 1529.34 Q1183.63 1527.02 1183.63 1522.72 Q1183.63 1518.45 1181.17 1516.13 Q1178.72 1513.81 1174.24 1513.81 L1166.15 1513.81 M1159.72 1508.52 L1174.24 1508.52 Q1182.22 1508.52 1186.3 1512.15 Q1190.4 1515.75 1190.4 1522.72 Q1190.4 1529.75 1186.3 1533.35 Q1182.22 1536.95 1174.24 1536.95 L1166.15 1536.95 L1166.15 1556.04 L1159.72 1556.04 L1159.72 1508.52 Z\" fill=\"#000000\" fill-rule=\"evenodd\" fill-opacity=\"1\" /><path clip-path=\"url(#clip210)\" d=\"M 0 0 M1195.12 1520.4 L1200.97 1520.4 L1200.97 1556.04 L1195.12 1556.04 L1195.12 1520.4 M1195.12 1506.52 L1200.97 1506.52 L1200.97 1513.93 L1195.12 1513.93 L1195.12 1506.52 Z\" fill=\"#000000\" fill-rule=\"evenodd\" fill-opacity=\"1\" /><path clip-path=\"url(#clip210)\" d=\"M 0 0 M1227.77 1525.87 Q1226.78 1525.3 1225.61 1525.04 Q1224.46 1524.76 1223.06 1524.76 Q1218.1 1524.76 1215.42 1528 Q1212.78 1531.22 1212.78 1537.27 L1212.78 1556.04 L1206.89 1556.04 L1206.89 1520.4 L1212.78 1520.4 L1212.78 1525.93 Q1214.63 1522.69 1217.59 1521.13 Q1220.55 1519.54 1224.78 1519.54 Q1225.38 1519.54 1226.12 1519.63 Q1226.85 1519.7 1227.74 1519.85 L1227.77 1525.87 Z\" fill=\"#000000\" fill-rule=\"evenodd\" fill-opacity=\"1\" /><path clip-path=\"url(#clip210)\" d=\"M 0 0 M1250.11 1538.12 Q1243.02 1538.12 1240.28 1539.75 Q1237.54 1541.37 1237.54 1545.29 Q1237.54 1548.4 1239.58 1550.25 Q1241.65 1552.07 1245.18 1552.07 Q1250.05 1552.07 1252.98 1548.63 Q1255.94 1545.16 1255.94 1539.43 L1255.94 1538.12 L1250.11 1538.12 M1261.8 1535.71 L1261.8 1556.04 L1255.94 1556.04 L1255.94 1550.63 Q1253.93 1553.88 1250.94 1555.44 Q1247.95 1556.97 1243.62 1556.97 Q1238.15 1556.97 1234.9 1553.91 Q1231.69 1550.82 1231.69 1545.67 Q1231.69 1539.65 1235.7 1536.6 Q1239.74 1533.54 1247.73 1533.54 L1255.94 1533.54 L1255.94 1532.97 Q1255.94 1528.93 1253.27 1526.73 Q1250.62 1524.5 1245.82 1524.5 Q1242.76 1524.5 1239.87 1525.23 Q1236.97 1525.97 1234.3 1527.43 L1234.3 1522.02 Q1237.51 1520.78 1240.53 1520.17 Q1243.56 1519.54 1246.42 1519.54 Q1254.16 1519.54 1257.98 1523.55 Q1261.8 1527.56 1261.8 1535.71 Z\" fill=\"#000000\" fill-rule=\"evenodd\" fill-opacity=\"1\" /><path clip-path=\"url(#clip210)\" d=\"M 0 0 M1273.73 1510.27 L1273.73 1520.4 L1285.79 1520.4 L1285.79 1524.95 L1273.73 1524.95 L1273.73 1544.3 Q1273.73 1548.66 1274.91 1549.9 Q1276.12 1551.14 1279.78 1551.14 L1285.79 1551.14 L1285.79 1556.04 L1279.78 1556.04 Q1273 1556.04 1270.42 1553.53 Q1267.84 1550.98 1267.84 1544.3 L1267.84 1524.95 L1263.55 1524.95 L1263.55 1520.4 L1267.84 1520.4 L1267.84 1510.27 L1273.73 1510.27 Z\" fill=\"#000000\" fill-rule=\"evenodd\" fill-opacity=\"1\" /><path clip-path=\"url(#clip210)\" d=\"M 0 0 M1322.43 1536.76 L1322.43 1539.62 L1295.5 1539.62 Q1295.88 1545.67 1299.13 1548.85 Q1302.41 1552 1308.23 1552 Q1311.61 1552 1314.76 1551.17 Q1317.94 1550.35 1321.06 1548.69 L1321.06 1554.23 Q1317.91 1555.57 1314.6 1556.27 Q1311.29 1556.97 1307.88 1556.97 Q1299.35 1556.97 1294.36 1552 Q1289.39 1547.04 1289.39 1538.57 Q1289.39 1529.82 1294.1 1524.69 Q1298.84 1519.54 1306.87 1519.54 Q1314.06 1519.54 1318.23 1524.18 Q1322.43 1528.8 1322.43 1536.76 M1316.57 1535.04 Q1316.51 1530.23 1313.87 1527.37 Q1311.26 1524.5 1306.93 1524.5 Q1302.03 1524.5 1299.07 1527.27 Q1296.14 1530.04 1295.69 1535.07 L1316.57 1535.04 Z\" fill=\"#000000\" fill-rule=\"evenodd\" fill-opacity=\"1\" /><path clip-path=\"url(#clip210)\" d=\"M 0 0 M1351.3 1521.45 L1351.3 1526.98 Q1348.82 1525.71 1346.14 1525.07 Q1343.47 1524.44 1340.6 1524.44 Q1336.24 1524.44 1334.05 1525.77 Q1331.88 1527.11 1331.88 1529.79 Q1331.88 1531.82 1333.44 1533 Q1335 1534.15 1339.71 1535.2 L1341.72 1535.64 Q1347.96 1536.98 1350.57 1539.43 Q1353.21 1541.85 1353.21 1546.21 Q1353.21 1551.17 1349.26 1554.07 Q1345.35 1556.97 1338.47 1556.97 Q1335.61 1556.97 1332.49 1556.39 Q1329.4 1555.85 1325.96 1554.74 L1325.96 1548.69 Q1329.21 1550.38 1332.36 1551.24 Q1335.51 1552.07 1338.6 1552.07 Q1342.74 1552.07 1344.96 1550.66 Q1347.19 1549.23 1347.19 1546.65 Q1347.19 1544.27 1345.57 1542.99 Q1343.98 1541.72 1338.53 1540.54 L1336.5 1540.07 Q1331.05 1538.92 1328.64 1536.56 Q1326.22 1534.18 1326.22 1530.04 Q1326.22 1525.01 1329.78 1522.27 Q1333.35 1519.54 1339.9 1519.54 Q1343.15 1519.54 1346.01 1520.01 Q1348.88 1520.49 1351.3 1521.45 Z\" fill=\"#000000\" fill-rule=\"evenodd\" fill-opacity=\"1\" /><path clip-path=\"url(#clip210)\" d=\"M 0 0 M1379.53 1506.52 L1393.02 1506.52 L1393.02 1511.07 L1385.39 1511.07 L1385.39 1560.09 L1393.02 1560.09 L1393.02 1564.64 L1379.53 1564.64 L1379.53 1506.52 Z\" fill=\"#000000\" fill-rule=\"evenodd\" fill-opacity=\"1\" /><path clip-path=\"url(#clip210)\" d=\"M 0 0 M1415.3 1514.86 L1406.58 1538.51 L1424.06 1538.51 L1415.3 1514.86 M1411.68 1508.52 L1418.97 1508.52 L1437.08 1556.04 L1430.39 1556.04 L1426.06 1543.85 L1404.64 1543.85 L1400.31 1556.04 L1393.53 1556.04 L1411.68 1508.52 Z\" fill=\"#000000\" fill-rule=\"evenodd\" fill-opacity=\"1\" /><path clip-path=\"url(#clip210)\" d=\"M 0 0 M1448.88 1550.7 L1448.88 1569.6 L1443 1569.6 L1443 1520.4 L1448.88 1520.4 L1448.88 1525.81 Q1450.73 1522.62 1453.53 1521.1 Q1456.36 1519.54 1460.28 1519.54 Q1466.77 1519.54 1470.81 1524.69 Q1474.89 1529.85 1474.89 1538.25 Q1474.89 1546.65 1470.81 1551.81 Q1466.77 1556.97 1460.28 1556.97 Q1456.36 1556.97 1453.53 1555.44 Q1450.73 1553.88 1448.88 1550.7 M1468.81 1538.25 Q1468.81 1531.79 1466.14 1528.13 Q1463.49 1524.44 1458.85 1524.44 Q1454.2 1524.44 1451.53 1528.13 Q1448.88 1531.79 1448.88 1538.25 Q1448.88 1544.71 1451.53 1548.4 Q1454.2 1552.07 1458.85 1552.07 Q1463.49 1552.07 1466.14 1548.4 Q1468.81 1544.71 1468.81 1538.25 Z\" fill=\"#000000\" fill-rule=\"evenodd\" fill-opacity=\"1\" /><path clip-path=\"url(#clip210)\" d=\"M 0 0 M1486.7 1550.7 L1486.7 1569.6 L1480.81 1569.6 L1480.81 1520.4 L1486.7 1520.4 L1486.7 1525.81 Q1488.54 1522.62 1491.34 1521.1 Q1494.18 1519.54 1498.09 1519.54 Q1504.58 1519.54 1508.63 1524.69 Q1512.7 1529.85 1512.7 1538.25 Q1512.7 1546.65 1508.63 1551.81 Q1504.58 1556.97 1498.09 1556.97 Q1494.18 1556.97 1491.34 1555.44 Q1488.54 1553.88 1486.7 1550.7 M1506.62 1538.25 Q1506.62 1531.79 1503.95 1528.13 Q1501.31 1524.44 1496.66 1524.44 Q1492.01 1524.44 1489.34 1528.13 Q1486.7 1531.79 1486.7 1538.25 Q1486.7 1544.71 1489.34 1548.4 Q1492.01 1552.07 1496.66 1552.07 Q1501.31 1552.07 1503.95 1548.4 Q1506.62 1544.71 1506.62 1538.25 Z\" fill=\"#000000\" fill-rule=\"evenodd\" fill-opacity=\"1\" /><path clip-path=\"url(#clip210)\" d=\"M 0 0 M1539.5 1525.87 Q1538.51 1525.3 1537.34 1525.04 Q1536.19 1524.76 1534.79 1524.76 Q1529.82 1524.76 1527.15 1528 Q1524.51 1531.22 1524.51 1537.27 L1524.51 1556.04 L1518.62 1556.04 L1518.62 1520.4 L1524.51 1520.4 L1524.51 1525.93 Q1526.35 1522.69 1529.31 1521.13 Q1532.27 1519.54 1536.51 1519.54 Q1537.11 1519.54 1537.84 1519.63 Q1538.58 1519.7 1539.47 1519.85 L1539.5 1525.87 Z\" fill=\"#000000\" fill-rule=\"evenodd\" fill-opacity=\"1\" /><path clip-path=\"url(#clip210)\" d=\"M 0 0 M1558.02 1524.5 Q1553.31 1524.5 1550.58 1528.19 Q1547.84 1531.85 1547.84 1538.25 Q1547.84 1544.65 1550.54 1548.34 Q1553.28 1552 1558.02 1552 Q1562.7 1552 1565.44 1548.31 Q1568.18 1544.62 1568.18 1538.25 Q1568.18 1531.92 1565.44 1528.23 Q1562.7 1524.5 1558.02 1524.5 M1558.02 1519.54 Q1565.66 1519.54 1570.02 1524.5 Q1574.38 1529.47 1574.38 1538.25 Q1574.38 1547 1570.02 1552 Q1565.66 1556.97 1558.02 1556.97 Q1550.35 1556.97 1545.99 1552 Q1541.66 1547 1541.66 1538.25 Q1541.66 1529.47 1545.99 1524.5 Q1550.35 1519.54 1558.02 1519.54 Z\" fill=\"#000000\" fill-rule=\"evenodd\" fill-opacity=\"1\" /><path clip-path=\"url(#clip210)\" d=\"M 0 0 M1608.15 1520.4 L1595.26 1537.74 L1608.82 1556.04 L1601.92 1556.04 L1591.54 1542.04 L1581.16 1556.04 L1574.26 1556.04 L1588.1 1537.39 L1575.43 1520.4 L1582.34 1520.4 L1591.79 1533.1 L1601.25 1520.4 L1608.15 1520.4 Z\" fill=\"#000000\" fill-rule=\"evenodd\" fill-opacity=\"1\" /><path clip-path=\"url(#clip210)\" d=\"M 0 0 M1614.97 1520.4 L1620.82 1520.4 L1620.82 1556.04 L1614.97 1556.04 L1614.97 1520.4 M1614.97 1506.52 L1620.82 1506.52 L1620.82 1513.93 L1614.97 1513.93 L1614.97 1506.52 Z\" fill=\"#000000\" fill-rule=\"evenodd\" fill-opacity=\"1\" /><path clip-path=\"url(#clip210)\" d=\"M 0 0 M1654.72 1527.24 Q1656.92 1523.29 1659.97 1521.41 Q1663.03 1519.54 1667.16 1519.54 Q1672.73 1519.54 1675.76 1523.45 Q1678.78 1527.33 1678.78 1534.53 L1678.78 1556.04 L1672.89 1556.04 L1672.89 1534.72 Q1672.89 1529.59 1671.08 1527.11 Q1669.26 1524.63 1665.54 1524.63 Q1660.99 1524.63 1658.35 1527.65 Q1655.71 1530.68 1655.71 1535.9 L1655.71 1556.04 L1649.82 1556.04 L1649.82 1534.72 Q1649.82 1529.56 1648 1527.11 Q1646.19 1524.63 1642.4 1524.63 Q1637.91 1524.63 1635.27 1527.68 Q1632.63 1530.71 1632.63 1535.9 L1632.63 1556.04 L1626.74 1556.04 L1626.74 1520.4 L1632.63 1520.4 L1632.63 1525.93 Q1634.64 1522.66 1637.44 1521.1 Q1640.24 1519.54 1644.09 1519.54 Q1647.97 1519.54 1650.68 1521.51 Q1653.41 1523.48 1654.72 1527.24 Z\" fill=\"#000000\" fill-rule=\"evenodd\" fill-opacity=\"1\" /><path clip-path=\"url(#clip210)\" d=\"M 0 0 M1701.13 1538.12 Q1694.03 1538.12 1691.29 1539.75 Q1688.55 1541.37 1688.55 1545.29 Q1688.55 1548.4 1690.59 1550.25 Q1692.66 1552.07 1696.19 1552.07 Q1701.06 1552.07 1703.99 1548.63 Q1706.95 1545.16 1706.95 1539.43 L1706.95 1538.12 L1701.13 1538.12 M1712.81 1535.71 L1712.81 1556.04 L1706.95 1556.04 L1706.95 1550.63 Q1704.94 1553.88 1701.95 1555.44 Q1698.96 1556.97 1694.63 1556.97 Q1689.16 1556.97 1685.91 1553.91 Q1682.7 1550.82 1682.7 1545.67 Q1682.7 1539.65 1686.71 1536.6 Q1690.75 1533.54 1698.74 1533.54 L1706.95 1533.54 L1706.95 1532.97 Q1706.95 1528.93 1704.28 1526.73 Q1701.63 1524.5 1696.83 1524.5 Q1693.77 1524.5 1690.88 1525.23 Q1687.98 1525.97 1685.31 1527.43 L1685.31 1522.02 Q1688.52 1520.78 1691.54 1520.17 Q1694.57 1519.54 1697.43 1519.54 Q1705.17 1519.54 1708.99 1523.55 Q1712.81 1527.56 1712.81 1535.71 Z\" fill=\"#000000\" fill-rule=\"evenodd\" fill-opacity=\"1\" /><path clip-path=\"url(#clip210)\" d=\"M 0 0 M1724.74 1510.27 L1724.74 1520.4 L1736.8 1520.4 L1736.8 1524.95 L1724.74 1524.95 L1724.74 1544.3 Q1724.74 1548.66 1725.92 1549.9 Q1727.13 1551.14 1730.79 1551.14 L1736.8 1551.14 L1736.8 1556.04 L1730.79 1556.04 Q1724.01 1556.04 1721.43 1553.53 Q1718.85 1550.98 1718.85 1544.3 L1718.85 1524.95 L1714.56 1524.95 L1714.56 1520.4 L1718.85 1520.4 L1718.85 1510.27 L1724.74 1510.27 Z\" fill=\"#000000\" fill-rule=\"evenodd\" fill-opacity=\"1\" /><path clip-path=\"url(#clip210)\" d=\"M 0 0 M1773.44 1536.76 L1773.44 1539.62 L1746.51 1539.62 Q1746.89 1545.67 1750.14 1548.85 Q1753.42 1552 1759.24 1552 Q1762.62 1552 1765.77 1551.17 Q1768.95 1550.35 1772.07 1548.69 L1772.07 1554.23 Q1768.92 1555.57 1765.61 1556.27 Q1762.3 1556.97 1758.89 1556.97 Q1750.36 1556.97 1745.37 1552 Q1740.4 1547.04 1740.4 1538.57 Q1740.4 1529.82 1745.11 1524.69 Q1749.85 1519.54 1757.88 1519.54 Q1765.07 1519.54 1769.24 1524.18 Q1773.44 1528.8 1773.44 1536.76 M1767.58 1535.04 Q1767.52 1530.23 1764.88 1527.37 Q1762.27 1524.5 1757.94 1524.5 Q1753.04 1524.5 1750.08 1527.27 Q1747.15 1530.04 1746.7 1535.07 L1767.58 1535.04 Z\" fill=\"#000000\" fill-rule=\"evenodd\" fill-opacity=\"1\" /><path clip-path=\"url(#clip210)\" d=\"M 0 0 M1793.27 1506.52 L1793.27 1564.64 L1779.77 1564.64 L1779.77 1560.09 L1787.38 1560.09 L1787.38 1511.07 L1779.77 1511.07 L1779.77 1506.52 L1793.27 1506.52 Z\" fill=\"#000000\" fill-rule=\"evenodd\" fill-opacity=\"1\" /><path clip-path=\"url(#clip210)\" d=\"M 0 0 M81.2247 1076.84 L68.4614 1076.84 L68.4614 1087.35 L63.1779 1087.35 L63.1779 1070.48 L83.58 1070.48 Q86.2218 1074.2 87.5904 1078.69 Q88.9272 1083.18 88.9272 1088.27 Q88.9272 1099.41 82.4342 1105.71 Q75.9093 1111.98 64.2919 1111.98 Q52.6427 1111.98 46.1496 1105.71 Q39.6248 1099.41 39.6248 1088.27 Q39.6248 1083.62 40.7706 1079.45 Q41.9164 1075.25 44.1444 1071.72 L50.9876 1071.72 Q47.9639 1075.28 46.4361 1079.29 Q44.9083 1083.3 44.9083 1087.73 Q44.9083 1096.45 49.7781 1100.84 Q54.6479 1105.2 64.2919 1105.2 Q73.9041 1105.2 78.7739 1100.84 Q83.6436 1096.45 83.6436 1087.73 Q83.6436 1084.32 83.0707 1081.65 Q82.466 1078.98 81.2247 1076.84 Z\" fill=\"#000000\" fill-rule=\"evenodd\" fill-opacity=\"1\" /><path clip-path=\"url(#clip210)\" d=\"M 0 0 M38.479 1064.33 L38.479 1058.48 L88.0042 1058.48 L88.0042 1064.33 L38.479 1064.33 Z\" fill=\"#000000\" fill-rule=\"evenodd\" fill-opacity=\"1\" /><path clip-path=\"url(#clip210)\" d=\"M 0 0 M56.4621 1038.52 Q56.4621 1043.23 60.1542 1045.97 Q63.8145 1048.71 70.212 1048.71 Q76.6095 1048.71 80.3017 1046 Q83.9619 1043.26 83.9619 1038.52 Q83.9619 1033.84 80.2698 1031.11 Q76.5777 1028.37 70.212 1028.37 Q63.8781 1028.37 60.186 1031.11 Q56.4621 1033.84 56.4621 1038.52 M51.4968 1038.52 Q51.4968 1030.88 56.4621 1026.52 Q61.4273 1022.16 70.212 1022.16 Q78.9649 1022.16 83.9619 1026.52 Q88.9272 1030.88 88.9272 1038.52 Q88.9272 1046.19 83.9619 1050.55 Q78.9649 1054.88 70.212 1054.88 Q61.4273 1054.88 56.4621 1050.55 Q51.4968 1046.19 51.4968 1038.52 Z\" fill=\"#000000\" fill-rule=\"evenodd\" fill-opacity=\"1\" /><path clip-path=\"url(#clip210)\" d=\"M 0 0 M70.212 990.428 Q63.7508 990.428 60.0905 993.102 Q56.3984 995.744 56.3984 1000.39 Q56.3984 1005.04 60.0905 1007.71 Q63.7508 1010.35 70.212 1010.35 Q76.6732 1010.35 80.3653 1007.71 Q84.0256 1005.04 84.0256 1000.39 Q84.0256 995.744 80.3653 993.102 Q76.6732 990.428 70.212 990.428 M57.7671 1010.35 Q54.5842 1008.51 53.0564 1005.71 Q51.4968 1002.87 51.4968 998.958 Q51.4968 992.465 56.6531 988.423 Q61.8093 984.349 70.212 984.349 Q78.6147 984.349 83.771 988.423 Q88.9272 992.465 88.9272 998.958 Q88.9272 1002.87 87.3994 1005.71 Q85.8398 1008.51 82.657 1010.35 L88.0042 1010.35 L88.0042 1016.24 L38.479 1016.24 L38.479 1010.35 L57.7671 1010.35 Z\" fill=\"#000000\" fill-rule=\"evenodd\" fill-opacity=\"1\" /><path clip-path=\"url(#clip210)\" d=\"M 0 0 M70.0847 962.006 Q70.0847 969.103 71.7079 971.841 Q73.3312 974.578 77.2461 974.578 Q80.3653 974.578 82.2114 972.541 Q84.0256 970.472 84.0256 966.939 Q84.0256 962.069 80.5881 959.141 Q77.1188 956.181 71.3897 956.181 L70.0847 956.181 L70.0847 962.006 M67.6657 950.324 L88.0042 950.324 L88.0042 956.181 L82.5933 956.181 Q85.8398 958.186 87.3994 961.178 Q88.9272 964.17 88.9272 968.499 Q88.9272 973.973 85.8716 977.22 Q82.7843 980.434 77.6281 980.434 Q71.6125 980.434 68.5569 976.424 Q65.5014 972.382 65.5014 964.393 L65.5014 956.181 L64.9285 956.181 Q60.8862 956.181 58.6901 958.855 Q56.4621 961.496 56.4621 966.302 Q56.4621 969.358 57.1941 972.254 Q57.9262 975.151 59.3903 977.824 L53.9795 977.824 Q52.7381 974.61 52.1334 971.586 Q51.4968 968.562 51.4968 965.698 Q51.4968 957.963 55.5072 954.144 Q59.5176 950.324 67.6657 950.324 Z\" fill=\"#000000\" fill-rule=\"evenodd\" fill-opacity=\"1\" /><path clip-path=\"url(#clip210)\" d=\"M 0 0 M38.479 944.182 L38.479 938.325 L88.0042 938.325 L88.0042 944.182 L38.479 944.182 Z\" fill=\"#000000\" fill-rule=\"evenodd\" fill-opacity=\"1\" /><path clip-path=\"url(#clip210)\" d=\"M 0 0 M40.4842 917.796 L40.4842 877.596 L45.895 877.596 L45.895 894.465 L88.0042 894.465 L88.0042 900.927 L45.895 900.927 L45.895 917.796 L40.4842 917.796 Z\" fill=\"#000000\" fill-rule=\"evenodd\" fill-opacity=\"1\" /><path clip-path=\"url(#clip210)\" d=\"M 0 0 M68.7161 852.038 L71.5806 852.038 L71.5806 878.965 Q77.6281 878.583 80.8109 875.336 Q83.9619 872.058 83.9619 866.233 Q83.9619 862.86 83.1344 859.709 Q82.3069 856.526 80.6518 853.407 L86.1899 853.407 Q87.5267 856.558 88.227 859.868 Q88.9272 863.178 88.9272 866.584 Q88.9272 875.114 83.9619 880.111 Q78.9967 885.076 70.5303 885.076 Q61.7774 885.076 56.6531 880.365 Q51.4968 875.623 51.4968 867.602 Q51.4968 860.409 56.1438 856.239 Q60.7589 852.038 68.7161 852.038 M66.9973 857.894 Q62.1912 857.958 59.3266 860.6 Q56.4621 863.21 56.4621 867.538 Q56.4621 872.44 59.2312 875.4 Q62.0002 878.328 67.0292 878.774 L66.9973 857.894 Z\" fill=\"#000000\" fill-rule=\"evenodd\" fill-opacity=\"1\" /><path clip-path=\"url(#clip210)\" d=\"M 0 0 M59.1993 818.141 Q55.2526 815.944 53.3747 812.889 Q51.4968 809.833 51.4968 805.696 Q51.4968 800.126 55.4117 797.102 Q59.2948 794.078 66.4881 794.078 L88.0042 794.078 L88.0042 799.966 L66.679 799.966 Q61.5546 799.966 59.072 801.781 Q56.5894 803.595 56.5894 807.319 Q56.5894 811.87 59.6131 814.512 Q62.6368 817.154 67.8567 817.154 L88.0042 817.154 L88.0042 823.042 L66.679 823.042 Q61.5228 823.042 59.072 824.856 Q56.5894 826.671 56.5894 830.458 Q56.5894 834.946 59.6449 837.588 Q62.6686 840.23 67.8567 840.23 L88.0042 840.23 L88.0042 846.118 L52.3562 846.118 L52.3562 840.23 L57.8944 840.23 Q54.616 838.224 53.0564 835.423 Q51.4968 832.623 51.4968 828.771 Q51.4968 824.888 53.4702 822.183 Q55.4436 819.446 59.1993 818.141 Z\" fill=\"#000000\" fill-rule=\"evenodd\" fill-opacity=\"1\" /><path clip-path=\"url(#clip210)\" d=\"M 0 0 M82.657 782.27 L101.563 782.27 L101.563 788.158 L52.3562 788.158 L52.3562 782.27 L57.7671 782.27 Q54.5842 780.424 53.0564 777.623 Q51.4968 774.79 51.4968 770.875 Q51.4968 764.382 56.6531 760.34 Q61.8093 756.266 70.212 756.266 Q78.6147 756.266 83.771 760.34 Q88.9272 764.382 88.9272 770.875 Q88.9272 774.79 87.3994 777.623 Q85.8398 780.424 82.657 782.27 M70.212 762.345 Q63.7508 762.345 60.0905 765.019 Q56.3984 767.661 56.3984 772.307 Q56.3984 776.954 60.0905 779.628 Q63.7508 782.27 70.212 782.27 Q76.6732 782.27 80.3653 779.628 Q84.0256 776.954 84.0256 772.307 Q84.0256 767.661 80.3653 765.019 Q76.6732 762.345 70.212 762.345 Z\" fill=\"#000000\" fill-rule=\"evenodd\" fill-opacity=\"1\" /><path clip-path=\"url(#clip210)\" d=\"M 0 0 M68.7161 719.631 L71.5806 719.631 L71.5806 746.558 Q77.6281 746.176 80.8109 742.93 Q83.9619 739.651 83.9619 733.827 Q83.9619 730.453 83.1344 727.302 Q82.3069 724.119 80.6518 721 L86.1899 721 Q87.5267 724.151 88.227 727.461 Q88.9272 730.771 88.9272 734.177 Q88.9272 742.707 83.9619 747.704 Q78.9967 752.669 70.5303 752.669 Q61.7774 752.669 56.6531 747.959 Q51.4968 743.216 51.4968 735.195 Q51.4968 728.002 56.1438 723.833 Q60.7589 719.631 68.7161 719.631 M66.9973 725.488 Q62.1912 725.551 59.3266 728.193 Q56.4621 730.803 56.4621 735.132 Q56.4621 740.033 59.2312 742.993 Q62.0002 745.922 67.0292 746.367 L66.9973 725.488 Z\" fill=\"#000000\" fill-rule=\"evenodd\" fill-opacity=\"1\" /><path clip-path=\"url(#clip210)\" d=\"M 0 0 M57.8307 692.832 Q57.2578 693.818 57.0032 694.996 Q56.7167 696.142 56.7167 697.542 Q56.7167 702.507 59.9632 705.181 Q63.1779 707.823 69.2253 707.823 L88.0042 707.823 L88.0042 713.711 L52.3562 713.711 L52.3562 707.823 L57.8944 707.823 Q54.6479 705.977 53.0883 703.017 Q51.4968 700.057 51.4968 695.824 Q51.4968 695.219 51.5923 694.487 Q51.656 693.755 51.8151 692.863 L57.8307 692.832 Z\" fill=\"#000000\" fill-rule=\"evenodd\" fill-opacity=\"1\" /><path clip-path=\"url(#clip210)\" d=\"M 0 0 M70.0847 670.488 Q70.0847 677.586 71.7079 680.323 Q73.3312 683.06 77.2461 683.06 Q80.3653 683.06 82.2114 681.023 Q84.0256 678.954 84.0256 675.421 Q84.0256 670.552 80.5881 667.623 Q77.1188 664.663 71.3897 664.663 L70.0847 664.663 L70.0847 670.488 M67.6657 658.807 L88.0042 658.807 L88.0042 664.663 L82.5933 664.663 Q85.8398 666.669 87.3994 669.66 Q88.9272 672.652 88.9272 676.981 Q88.9272 682.456 85.8716 685.702 Q82.7843 688.917 77.6281 688.917 Q71.6125 688.917 68.5569 684.906 Q65.5014 680.864 65.5014 672.875 L65.5014 664.663 L64.9285 664.663 Q60.8862 664.663 58.6901 667.337 Q56.4621 669.979 56.4621 674.785 Q56.4621 677.84 57.1941 680.737 Q57.9262 683.633 59.3903 686.307 L53.9795 686.307 Q52.7381 683.092 52.1334 680.068 Q51.4968 677.045 51.4968 674.18 Q51.4968 666.446 55.5072 662.626 Q59.5176 658.807 67.6657 658.807 Z\" fill=\"#000000\" fill-rule=\"evenodd\" fill-opacity=\"1\" /><path clip-path=\"url(#clip210)\" d=\"M 0 0 M42.2347 646.871 L52.3562 646.871 L52.3562 634.808 L56.9077 634.808 L56.9077 646.871 L76.2594 646.871 Q80.6199 646.871 81.8613 645.694 Q83.1026 644.484 83.1026 640.824 L83.1026 634.808 L88.0042 634.808 L88.0042 640.824 Q88.0042 647.603 85.4897 650.181 Q82.9434 652.76 76.2594 652.76 L56.9077 652.76 L56.9077 657.056 L52.3562 657.056 L52.3562 652.76 L42.2347 652.76 L42.2347 646.871 Z\" fill=\"#000000\" fill-rule=\"evenodd\" fill-opacity=\"1\" /><path clip-path=\"url(#clip210)\" d=\"M 0 0 M73.9359 629.27 L52.3562 629.27 L52.3562 623.414 L73.7131 623.414 Q78.7739 623.414 81.3202 621.44 Q83.8346 619.467 83.8346 615.52 Q83.8346 610.778 80.8109 608.04 Q77.7872 605.271 72.5673 605.271 L52.3562 605.271 L52.3562 599.415 L88.0042 599.415 L88.0042 605.271 L82.5296 605.271 Q85.7762 607.404 87.3676 610.237 Q88.9272 613.037 88.9272 616.761 Q88.9272 622.904 85.1078 626.087 Q81.2883 629.27 73.9359 629.27 M51.4968 614.533 L51.4968 614.533 Z\" fill=\"#000000\" fill-rule=\"evenodd\" fill-opacity=\"1\" /><path clip-path=\"url(#clip210)\" d=\"M 0 0 M57.8307 572.615 Q57.2578 573.602 57.0032 574.78 Q56.7167 575.925 56.7167 577.326 Q56.7167 582.291 59.9632 584.965 Q63.1779 587.606 69.2253 587.606 L88.0042 587.606 L88.0042 593.495 L52.3562 593.495 L52.3562 587.606 L57.8944 587.606 Q54.6479 585.76 53.0883 582.8 Q51.4968 579.84 51.4968 575.607 Q51.4968 575.002 51.5923 574.27 Q51.656 573.538 51.8151 572.647 L57.8307 572.615 Z\" fill=\"#000000\" fill-rule=\"evenodd\" fill-opacity=\"1\" /><path clip-path=\"url(#clip210)\" d=\"M 0 0 M68.7161 537.413 L71.5806 537.413 L71.5806 564.34 Q77.6281 563.958 80.8109 560.711 Q83.9619 557.433 83.9619 551.608 Q83.9619 548.235 83.1344 545.084 Q82.3069 541.901 80.6518 538.782 L86.1899 538.782 Q87.5267 541.933 88.227 545.243 Q88.9272 548.553 88.9272 551.959 Q88.9272 560.489 83.9619 565.486 Q78.9967 570.451 70.5303 570.451 Q61.7774 570.451 56.6531 565.74 Q51.4968 560.998 51.4968 552.977 Q51.4968 545.784 56.1438 541.614 Q60.7589 537.413 68.7161 537.413 M66.9973 543.269 Q62.1912 543.333 59.3266 545.975 Q56.4621 548.585 56.4621 552.913 Q56.4621 557.815 59.2312 560.775 Q62.0002 563.703 67.0292 564.149 L66.9973 543.269 Z\" fill=\"#000000\" fill-rule=\"evenodd\" fill-opacity=\"1\" /><path clip-path=\"url(#clip210)\" d=\"M 0 0 M38.5426 496.481 Q45.8632 500.746 53.0246 502.815 Q60.186 504.884 67.5384 504.884 Q74.8908 504.884 82.1159 502.815 Q89.3091 500.715 96.5979 496.481 L96.5979 501.574 Q89.1182 506.348 81.8931 508.735 Q74.668 511.091 67.5384 511.091 Q60.4406 511.091 53.2474 508.735 Q46.0542 506.38 38.5426 501.574 L38.5426 496.481 Z\" fill=\"#000000\" fill-rule=\"evenodd\" fill-opacity=\"1\" /><path clip-path=\"url(#clip210)\" d=\"M 0 0 M44.1444 454.5 L50.9239 454.5 Q47.9002 457.746 46.4043 461.438 Q44.9083 465.098 44.9083 469.236 Q44.9083 477.384 49.9054 481.713 Q54.8707 486.042 64.2919 486.042 Q73.6813 486.042 78.6784 481.713 Q83.6436 477.384 83.6436 469.236 Q83.6436 465.098 82.1477 461.438 Q80.6518 457.746 77.6281 454.5 L84.3439 454.5 Q86.6355 457.873 87.7814 461.661 Q88.9272 465.417 88.9272 469.618 Q88.9272 480.408 82.3387 486.615 Q75.7183 492.821 64.2919 492.821 Q52.8336 492.821 46.2451 486.615 Q39.6248 480.408 39.6248 469.618 Q39.6248 465.353 40.7706 461.597 Q41.8846 457.81 44.1444 454.5 Z\" fill=\"#000000\" fill-rule=\"evenodd\" fill-opacity=\"1\" /><path clip-path=\"url(#clip210)\" d=\"M 0 0 M38.5426 449.28 L38.5426 444.187 Q46.0542 439.413 53.2474 437.058 Q60.4406 434.67 67.5384 434.67 Q74.668 434.67 81.8931 437.058 Q89.1182 439.413 96.5979 444.187 L96.5979 449.28 Q89.3091 445.046 82.1159 442.978 Q74.8908 440.877 67.5384 440.877 Q60.186 440.877 53.0246 442.978 Q45.8632 445.046 38.5426 449.28 Z\" fill=\"#000000\" fill-rule=\"evenodd\" fill-opacity=\"1\" /><polyline clip-path=\"url(#clip212)\" style=\"stroke:#009af9; stroke-width:4; stroke-opacity:1; fill:none\" points=\"\n",
       "  320.516,1386.4 1417.07,1298.81 1636.38,1036.07 2075,685.745 2276.77,423 2293.56,160.256 \n",
       "  \"/>\n",
       "<circle clip-path=\"url(#clip212)\" cx=\"320.516\" cy=\"1386.4\" r=\"14\" fill=\"#e26f46\" fill-rule=\"evenodd\" fill-opacity=\"1\" stroke=\"#000000\" stroke-opacity=\"1\" stroke-width=\"3.2\"/>\n",
       "<circle clip-path=\"url(#clip212)\" cx=\"1417.07\" cy=\"1298.81\" r=\"14\" fill=\"#e26f46\" fill-rule=\"evenodd\" fill-opacity=\"1\" stroke=\"#000000\" stroke-opacity=\"1\" stroke-width=\"3.2\"/>\n",
       "<circle clip-path=\"url(#clip212)\" cx=\"1636.38\" cy=\"1036.07\" r=\"14\" fill=\"#e26f46\" fill-rule=\"evenodd\" fill-opacity=\"1\" stroke=\"#000000\" stroke-opacity=\"1\" stroke-width=\"3.2\"/>\n",
       "<circle clip-path=\"url(#clip212)\" cx=\"2075\" cy=\"685.745\" r=\"14\" fill=\"#e26f46\" fill-rule=\"evenodd\" fill-opacity=\"1\" stroke=\"#000000\" stroke-opacity=\"1\" stroke-width=\"3.2\"/>\n",
       "<circle clip-path=\"url(#clip212)\" cx=\"2276.77\" cy=\"423\" r=\"14\" fill=\"#e26f46\" fill-rule=\"evenodd\" fill-opacity=\"1\" stroke=\"#000000\" stroke-opacity=\"1\" stroke-width=\"3.2\"/>\n",
       "<circle clip-path=\"url(#clip212)\" cx=\"2293.56\" cy=\"160.256\" r=\"14\" fill=\"#e26f46\" fill-rule=\"evenodd\" fill-opacity=\"1\" stroke=\"#000000\" stroke-opacity=\"1\" stroke-width=\"3.2\"/>\n",
       "<path clip-path=\"url(#clip210)\" d=\"\n",
       "M1926.47 348.236 L2283.04 348.236 L2283.04 166.796 L1926.47 166.796  Z\n",
       "  \" fill=\"#ffffff\" fill-rule=\"evenodd\" fill-opacity=\"1\"/>\n",
       "<polyline clip-path=\"url(#clip210)\" style=\"stroke:#000000; stroke-width:4; stroke-opacity:1; fill:none\" points=\"\n",
       "  1926.47,348.236 2283.04,348.236 2283.04,166.796 1926.47,166.796 1926.47,348.236 \n",
       "  \"/>\n",
       "<polyline clip-path=\"url(#clip210)\" style=\"stroke:#009af9; stroke-width:4; stroke-opacity:1; fill:none\" points=\"\n",
       "  1949.71,227.276 2089.14,227.276 \n",
       "  \"/>\n",
       "<path clip-path=\"url(#clip210)\" d=\"M 0 0 M2112.38 208.537 L2116.64 208.537 L2116.64 244.556 L2112.38 244.556 L2112.38 208.537 Z\" fill=\"#000000\" fill-rule=\"evenodd\" fill-opacity=\"1\" /><path clip-path=\"url(#clip210)\" d=\"M 0 0 M2121.1 218.63 L2125.36 218.63 L2125.36 244.556 L2121.1 244.556 L2121.1 218.63 M2121.1 208.537 L2125.36 208.537 L2125.36 213.931 L2121.1 213.931 L2121.1 208.537 Z\" fill=\"#000000\" fill-rule=\"evenodd\" fill-opacity=\"1\" /><path clip-path=\"url(#clip210)\" d=\"M 0 0 M2151.38 228.908 L2151.38 244.556 L2147.12 244.556 L2147.12 229.047 Q2147.12 225.366 2145.69 223.537 Q2144.25 221.709 2141.38 221.709 Q2137.93 221.709 2135.94 223.908 Q2133.95 226.107 2133.95 229.903 L2133.95 244.556 L2129.67 244.556 L2129.67 218.63 L2133.95 218.63 L2133.95 222.658 Q2135.48 220.32 2137.54 219.162 Q2139.62 218.005 2142.33 218.005 Q2146.8 218.005 2149.09 220.783 Q2151.38 223.537 2151.38 228.908 Z\" fill=\"#000000\" fill-rule=\"evenodd\" fill-opacity=\"1\" /><path clip-path=\"url(#clip210)\" d=\"M 0 0 M2178.02 230.528 L2178.02 232.611 L2158.44 232.611 Q2158.72 237.009 2161.08 239.324 Q2163.46 241.616 2167.7 241.616 Q2170.15 241.616 2172.45 241.014 Q2174.76 240.412 2177.03 239.209 L2177.03 243.236 Q2174.74 244.208 2172.33 244.718 Q2169.92 245.227 2167.45 245.227 Q2161.24 245.227 2157.61 241.616 Q2154 238.005 2154 231.847 Q2154 225.482 2157.42 221.755 Q2160.87 218.005 2166.7 218.005 Q2171.94 218.005 2174.97 221.385 Q2178.02 224.741 2178.02 230.528 M2173.76 229.278 Q2173.72 225.783 2171.8 223.699 Q2169.9 221.616 2166.75 221.616 Q2163.19 221.616 2161.03 223.63 Q2158.9 225.644 2158.58 229.301 L2173.76 229.278 Z\" fill=\"#000000\" fill-rule=\"evenodd\" fill-opacity=\"1\" /><circle clip-path=\"url(#clip210)\" cx=\"2019.42\" cy=\"287.756\" r=\"23\" fill=\"#e26f46\" fill-rule=\"evenodd\" fill-opacity=\"1\" stroke=\"#000000\" stroke-opacity=\"1\" stroke-width=\"5.12\"/>\n",
       "<circle clip-path=\"url(#clip210)\" cx=\"2019.42\" cy=\"287.756\" r=\"23\" fill=\"#e26f46\" fill-rule=\"evenodd\" fill-opacity=\"1\" stroke=\"#000000\" stroke-opacity=\"1\" stroke-width=\"5.12\"/>\n",
       "<circle clip-path=\"url(#clip210)\" cx=\"2019.42\" cy=\"287.756\" r=\"23\" fill=\"#e26f46\" fill-rule=\"evenodd\" fill-opacity=\"1\" stroke=\"#000000\" stroke-opacity=\"1\" stroke-width=\"5.12\"/>\n",
       "<circle clip-path=\"url(#clip210)\" cx=\"2019.42\" cy=\"287.756\" r=\"23\" fill=\"#e26f46\" fill-rule=\"evenodd\" fill-opacity=\"1\" stroke=\"#000000\" stroke-opacity=\"1\" stroke-width=\"5.12\"/>\n",
       "<circle clip-path=\"url(#clip210)\" cx=\"2019.42\" cy=\"287.756\" r=\"23\" fill=\"#e26f46\" fill-rule=\"evenodd\" fill-opacity=\"1\" stroke=\"#000000\" stroke-opacity=\"1\" stroke-width=\"5.12\"/>\n",
       "<circle clip-path=\"url(#clip210)\" cx=\"2019.42\" cy=\"287.756\" r=\"23\" fill=\"#e26f46\" fill-rule=\"evenodd\" fill-opacity=\"1\" stroke=\"#000000\" stroke-opacity=\"1\" stroke-width=\"5.12\"/>\n",
       "<path clip-path=\"url(#clip210)\" d=\"M 0 0 M2116.66 301.147 L2116.66 314.897 L2112.38 314.897 L2112.38 279.11 L2116.66 279.11 L2116.66 283.045 Q2118 280.73 2120.04 279.619 Q2122.1 278.485 2124.95 278.485 Q2129.67 278.485 2132.61 282.235 Q2135.57 285.985 2135.57 292.096 Q2135.57 298.207 2132.61 301.957 Q2129.67 305.707 2124.95 305.707 Q2122.1 305.707 2120.04 304.596 Q2118 303.462 2116.66 301.147 M2131.15 292.096 Q2131.15 287.397 2129.2 284.735 Q2127.28 282.05 2123.9 282.05 Q2120.52 282.05 2118.58 284.735 Q2116.66 287.397 2116.66 292.096 Q2116.66 296.795 2118.58 299.48 Q2120.52 302.142 2123.9 302.142 Q2127.28 302.142 2129.2 299.48 Q2131.15 296.795 2131.15 292.096 Z\" fill=\"#000000\" fill-rule=\"evenodd\" fill-opacity=\"1\" /><path clip-path=\"url(#clip210)\" d=\"M 0 0 M2150.08 282.096 Q2146.66 282.096 2144.67 284.781 Q2142.68 287.443 2142.68 292.096 Q2142.68 296.749 2144.64 299.434 Q2146.64 302.096 2150.08 302.096 Q2153.49 302.096 2155.48 299.411 Q2157.47 296.726 2157.47 292.096 Q2157.47 287.49 2155.48 284.804 Q2153.49 282.096 2150.08 282.096 M2150.08 278.485 Q2155.64 278.485 2158.81 282.096 Q2161.98 285.707 2161.98 292.096 Q2161.98 298.462 2158.81 302.096 Q2155.64 305.707 2150.08 305.707 Q2144.51 305.707 2141.33 302.096 Q2138.19 298.462 2138.19 292.096 Q2138.19 285.707 2141.33 282.096 Q2144.51 278.485 2150.08 278.485 Z\" fill=\"#000000\" fill-rule=\"evenodd\" fill-opacity=\"1\" /><path clip-path=\"url(#clip210)\" d=\"M 0 0 M2166.45 279.11 L2170.71 279.11 L2170.71 305.036 L2166.45 305.036 L2166.45 279.11 M2166.45 269.017 L2170.71 269.017 L2170.71 274.411 L2166.45 274.411 L2166.45 269.017 Z\" fill=\"#000000\" fill-rule=\"evenodd\" fill-opacity=\"1\" /><path clip-path=\"url(#clip210)\" d=\"M 0 0 M2196.73 289.388 L2196.73 305.036 L2192.47 305.036 L2192.47 289.527 Q2192.47 285.846 2191.03 284.017 Q2189.6 282.189 2186.73 282.189 Q2183.28 282.189 2181.29 284.388 Q2179.3 286.587 2179.3 290.383 L2179.3 305.036 L2175.01 305.036 L2175.01 279.11 L2179.3 279.11 L2179.3 283.138 Q2180.82 280.8 2182.88 279.642 Q2184.97 278.485 2187.68 278.485 Q2192.14 278.485 2194.44 281.263 Q2196.73 284.017 2196.73 289.388 Z\" fill=\"#000000\" fill-rule=\"evenodd\" fill-opacity=\"1\" /><path clip-path=\"url(#clip210)\" d=\"M 0 0 M2205.41 271.749 L2205.41 279.11 L2214.18 279.11 L2214.18 282.42 L2205.41 282.42 L2205.41 296.494 Q2205.41 299.665 2206.26 300.568 Q2207.14 301.471 2209.81 301.471 L2214.18 301.471 L2214.18 305.036 L2209.81 305.036 Q2204.88 305.036 2203 303.207 Q2201.13 301.355 2201.13 296.494 L2201.13 282.42 L2198 282.42 L2198 279.11 L2201.13 279.11 L2201.13 271.749 L2205.41 271.749 Z\" fill=\"#000000\" fill-rule=\"evenodd\" fill-opacity=\"1\" /><path clip-path=\"url(#clip210)\" d=\"M 0 0 M2235.18 279.874 L2235.18 283.902 Q2233.37 282.976 2231.43 282.513 Q2229.48 282.05 2227.4 282.05 Q2224.23 282.05 2222.63 283.022 Q2221.06 283.994 2221.06 285.939 Q2221.06 287.42 2222.19 288.277 Q2223.32 289.11 2226.75 289.874 L2228.21 290.198 Q2232.75 291.17 2234.64 292.952 Q2236.57 294.712 2236.57 297.883 Q2236.57 301.494 2233.69 303.601 Q2230.85 305.707 2225.85 305.707 Q2223.76 305.707 2221.5 305.29 Q2219.25 304.897 2216.75 304.087 L2216.75 299.689 Q2219.11 300.915 2221.4 301.54 Q2223.69 302.142 2225.94 302.142 Q2228.95 302.142 2230.57 301.124 Q2232.19 300.082 2232.19 298.207 Q2232.19 296.471 2231.01 295.545 Q2229.85 294.619 2225.89 293.763 L2224.41 293.415 Q2220.45 292.582 2218.69 290.869 Q2216.94 289.133 2216.94 286.124 Q2216.94 282.466 2219.53 280.476 Q2222.12 278.485 2226.89 278.485 Q2229.25 278.485 2231.33 278.832 Q2233.42 279.179 2235.18 279.874 Z\" fill=\"#000000\" fill-rule=\"evenodd\" fill-opacity=\"1\" /></svg>\n"
      ]
     },
     "execution_count": 60,
     "metadata": {},
     "output_type": "execute_result"
    }
   ],
   "source": [
    "plot(numpirates, globaltemperatures, label=\"line\")  \n",
    "scatter!(numpirates, globaltemperatures, label=\"points\") \n",
    "xlabel!(\"Number of Pirates [Approximate]\")\n",
    "ylabel!(\"Global Temperature (C)\")\n",
    "title!(\"Influence of pirate population on global warming\")\n",
    "# The plot start from the large value, not exactly what we want\n",
    "xflip!()"
   ]
  },
  {
   "cell_type": "code",
   "execution_count": 61,
   "metadata": {},
   "outputs": [
    {
     "data": {
      "image/svg+xml": [
       "<?xml version=\"1.0\" encoding=\"utf-8\"?>\n",
       "<svg xmlns=\"http://www.w3.org/2000/svg\" xmlns:xlink=\"http://www.w3.org/1999/xlink\" width=\"600\" height=\"400\" viewBox=\"0 0 2400 1600\">\n",
       "<defs>\n",
       "  <clipPath id=\"clip250\">\n",
       "    <rect x=\"0\" y=\"0\" width=\"2400\" height=\"1600\"/>\n",
       "  </clipPath>\n",
       "</defs>\n",
       "<path clip-path=\"url(#clip250)\" d=\"\n",
       "M0 1600 L2400 1600 L2400 0 L0 0  Z\n",
       "  \" fill=\"#ffffff\" fill-rule=\"evenodd\" fill-opacity=\"1\"/>\n",
       "<defs>\n",
       "  <clipPath id=\"clip251\">\n",
       "    <rect x=\"480\" y=\"0\" width=\"1681\" height=\"1600\"/>\n",
       "  </clipPath>\n",
       "</defs>\n",
       "<path clip-path=\"url(#clip250)\" d=\"\n",
       "M152.27 686.448 L1159.3 686.448 L1159.3 47.2441 L152.27 47.2441  Z\n",
       "  \" fill=\"#ffffff\" fill-rule=\"evenodd\" fill-opacity=\"1\"/>\n",
       "<defs>\n",
       "  <clipPath id=\"clip252\">\n",
       "    <rect x=\"152\" y=\"47\" width=\"1008\" height=\"640\"/>\n",
       "  </clipPath>\n",
       "</defs>\n",
       "<polyline clip-path=\"url(#clip252)\" style=\"stroke:#000000; stroke-width:2; stroke-opacity:0.1; fill:none\" points=\"\n",
       "  180.77,686.448 180.77,47.2441 \n",
       "  \"/>\n",
       "<polyline clip-path=\"url(#clip252)\" style=\"stroke:#000000; stroke-width:2; stroke-opacity:0.1; fill:none\" points=\"\n",
       "  339.108,686.448 339.108,47.2441 \n",
       "  \"/>\n",
       "<polyline clip-path=\"url(#clip252)\" style=\"stroke:#000000; stroke-width:2; stroke-opacity:0.1; fill:none\" points=\"\n",
       "  497.445,686.448 497.445,47.2441 \n",
       "  \"/>\n",
       "<polyline clip-path=\"url(#clip252)\" style=\"stroke:#000000; stroke-width:2; stroke-opacity:0.1; fill:none\" points=\"\n",
       "  655.782,686.448 655.782,47.2441 \n",
       "  \"/>\n",
       "<polyline clip-path=\"url(#clip252)\" style=\"stroke:#000000; stroke-width:2; stroke-opacity:0.1; fill:none\" points=\"\n",
       "  814.12,686.448 814.12,47.2441 \n",
       "  \"/>\n",
       "<polyline clip-path=\"url(#clip252)\" style=\"stroke:#000000; stroke-width:2; stroke-opacity:0.1; fill:none\" points=\"\n",
       "  972.457,686.448 972.457,47.2441 \n",
       "  \"/>\n",
       "<polyline clip-path=\"url(#clip252)\" style=\"stroke:#000000; stroke-width:2; stroke-opacity:0.1; fill:none\" points=\"\n",
       "  1130.79,686.448 1130.79,47.2441 \n",
       "  \"/>\n",
       "<polyline clip-path=\"url(#clip252)\" style=\"stroke:#000000; stroke-width:2; stroke-opacity:0.1; fill:none\" points=\"\n",
       "  152.27,668.357 1159.3,668.357 \n",
       "  \"/>\n",
       "<polyline clip-path=\"url(#clip252)\" style=\"stroke:#000000; stroke-width:2; stroke-opacity:0.1; fill:none\" points=\"\n",
       "  152.27,567.853 1159.3,567.853 \n",
       "  \"/>\n",
       "<polyline clip-path=\"url(#clip252)\" style=\"stroke:#000000; stroke-width:2; stroke-opacity:0.1; fill:none\" points=\"\n",
       "  152.27,467.35 1159.3,467.35 \n",
       "  \"/>\n",
       "<polyline clip-path=\"url(#clip252)\" style=\"stroke:#000000; stroke-width:2; stroke-opacity:0.1; fill:none\" points=\"\n",
       "  152.27,366.846 1159.3,366.846 \n",
       "  \"/>\n",
       "<polyline clip-path=\"url(#clip252)\" style=\"stroke:#000000; stroke-width:2; stroke-opacity:0.1; fill:none\" points=\"\n",
       "  152.27,266.342 1159.3,266.342 \n",
       "  \"/>\n",
       "<polyline clip-path=\"url(#clip252)\" style=\"stroke:#000000; stroke-width:2; stroke-opacity:0.1; fill:none\" points=\"\n",
       "  152.27,165.839 1159.3,165.839 \n",
       "  \"/>\n",
       "<polyline clip-path=\"url(#clip252)\" style=\"stroke:#000000; stroke-width:2; stroke-opacity:0.1; fill:none\" points=\"\n",
       "  152.27,65.3348 1159.3,65.3348 \n",
       "  \"/>\n",
       "<polyline clip-path=\"url(#clip250)\" style=\"stroke:#000000; stroke-width:4; stroke-opacity:1; fill:none\" points=\"\n",
       "  152.27,686.448 1159.3,686.448 \n",
       "  \"/>\n",
       "<polyline clip-path=\"url(#clip250)\" style=\"stroke:#000000; stroke-width:4; stroke-opacity:1; fill:none\" points=\"\n",
       "  152.27,686.448 152.27,47.2441 \n",
       "  \"/>\n",
       "<polyline clip-path=\"url(#clip250)\" style=\"stroke:#000000; stroke-width:4; stroke-opacity:1; fill:none\" points=\"\n",
       "  180.77,686.448 180.77,678.777 \n",
       "  \"/>\n",
       "<polyline clip-path=\"url(#clip250)\" style=\"stroke:#000000; stroke-width:4; stroke-opacity:1; fill:none\" points=\"\n",
       "  339.108,686.448 339.108,678.777 \n",
       "  \"/>\n",
       "<polyline clip-path=\"url(#clip250)\" style=\"stroke:#000000; stroke-width:4; stroke-opacity:1; fill:none\" points=\"\n",
       "  497.445,686.448 497.445,678.777 \n",
       "  \"/>\n",
       "<polyline clip-path=\"url(#clip250)\" style=\"stroke:#000000; stroke-width:4; stroke-opacity:1; fill:none\" points=\"\n",
       "  655.782,686.448 655.782,678.777 \n",
       "  \"/>\n",
       "<polyline clip-path=\"url(#clip250)\" style=\"stroke:#000000; stroke-width:4; stroke-opacity:1; fill:none\" points=\"\n",
       "  814.12,686.448 814.12,678.777 \n",
       "  \"/>\n",
       "<polyline clip-path=\"url(#clip250)\" style=\"stroke:#000000; stroke-width:4; stroke-opacity:1; fill:none\" points=\"\n",
       "  972.457,686.448 972.457,678.777 \n",
       "  \"/>\n",
       "<polyline clip-path=\"url(#clip250)\" style=\"stroke:#000000; stroke-width:4; stroke-opacity:1; fill:none\" points=\"\n",
       "  1130.79,686.448 1130.79,678.777 \n",
       "  \"/>\n",
       "<polyline clip-path=\"url(#clip250)\" style=\"stroke:#000000; stroke-width:4; stroke-opacity:1; fill:none\" points=\"\n",
       "  152.27,668.357 164.354,668.357 \n",
       "  \"/>\n",
       "<polyline clip-path=\"url(#clip250)\" style=\"stroke:#000000; stroke-width:4; stroke-opacity:1; fill:none\" points=\"\n",
       "  152.27,567.853 164.354,567.853 \n",
       "  \"/>\n",
       "<polyline clip-path=\"url(#clip250)\" style=\"stroke:#000000; stroke-width:4; stroke-opacity:1; fill:none\" points=\"\n",
       "  152.27,467.35 164.354,467.35 \n",
       "  \"/>\n",
       "<polyline clip-path=\"url(#clip250)\" style=\"stroke:#000000; stroke-width:4; stroke-opacity:1; fill:none\" points=\"\n",
       "  152.27,366.846 164.354,366.846 \n",
       "  \"/>\n",
       "<polyline clip-path=\"url(#clip250)\" style=\"stroke:#000000; stroke-width:4; stroke-opacity:1; fill:none\" points=\"\n",
       "  152.27,266.342 164.354,266.342 \n",
       "  \"/>\n",
       "<polyline clip-path=\"url(#clip250)\" style=\"stroke:#000000; stroke-width:4; stroke-opacity:1; fill:none\" points=\"\n",
       "  152.27,165.839 164.354,165.839 \n",
       "  \"/>\n",
       "<polyline clip-path=\"url(#clip250)\" style=\"stroke:#000000; stroke-width:4; stroke-opacity:1; fill:none\" points=\"\n",
       "  152.27,65.3348 164.354,65.3348 \n",
       "  \"/>\n",
       "<path clip-path=\"url(#clip250)\" d=\"M 0 0 M161.349 725.036 L173.826 725.036 L173.826 728.832 L161.349 728.832 L161.349 725.036 Z\" fill=\"#000000\" fill-rule=\"evenodd\" fill-opacity=\"1\" /><path clip-path=\"url(#clip250)\" d=\"M 0 0 M193.062 721.286 Q196.418 722.003 198.293 724.272 Q200.191 726.54 200.191 729.874 Q200.191 734.989 196.673 737.79 Q193.154 740.591 186.673 740.591 Q184.497 740.591 182.182 740.151 Q179.891 739.735 177.437 738.878 L177.437 734.364 Q179.381 735.499 181.696 736.077 Q184.011 736.656 186.534 736.656 Q190.932 736.656 193.224 734.92 Q195.539 733.184 195.539 729.874 Q195.539 726.818 193.386 725.105 Q191.256 723.369 187.437 723.369 L183.409 723.369 L183.409 719.526 L187.622 719.526 Q191.071 719.526 192.9 718.161 Q194.729 716.772 194.729 714.179 Q194.729 711.517 192.83 710.105 Q190.955 708.67 187.437 708.67 Q185.516 708.67 183.317 709.087 Q181.118 709.503 178.479 710.383 L178.479 706.216 Q181.141 705.476 183.455 705.105 Q185.793 704.735 187.854 704.735 Q193.178 704.735 196.279 707.165 Q199.381 709.573 199.381 713.693 Q199.381 716.564 197.738 718.554 Q196.094 720.522 193.062 721.286 Z\" fill=\"#000000\" fill-rule=\"evenodd\" fill-opacity=\"1\" /><path clip-path=\"url(#clip250)\" d=\"M 0 0 M320.161 725.036 L332.638 725.036 L332.638 728.832 L320.161 728.832 L320.161 725.036 Z\" fill=\"#000000\" fill-rule=\"evenodd\" fill-opacity=\"1\" /><path clip-path=\"url(#clip250)\" d=\"M 0 0 M341.735 735.985 L358.054 735.985 L358.054 739.92 L336.11 739.92 L336.11 735.985 Q338.772 733.23 343.355 728.6 Q347.962 723.948 349.142 722.605 Q351.388 720.082 352.267 718.346 Q353.17 716.587 353.17 714.897 Q353.17 712.142 351.226 710.406 Q349.304 708.67 346.203 708.67 Q344.003 708.67 341.55 709.434 Q339.119 710.198 336.341 711.749 L336.341 707.027 Q339.166 705.892 341.619 705.314 Q344.073 704.735 346.11 704.735 Q351.48 704.735 354.675 707.42 Q357.869 710.105 357.869 714.596 Q357.869 716.726 357.059 718.647 Q356.272 720.545 354.165 723.138 Q353.587 723.809 350.485 727.026 Q347.383 730.221 341.735 735.985 Z\" fill=\"#000000\" fill-rule=\"evenodd\" fill-opacity=\"1\" /><path clip-path=\"url(#clip250)\" d=\"M 0 0 M478.313 725.036 L490.79 725.036 L490.79 728.832 L478.313 728.832 L478.313 725.036 Z\" fill=\"#000000\" fill-rule=\"evenodd\" fill-opacity=\"1\" /><path clip-path=\"url(#clip250)\" d=\"M 0 0 M496.67 735.985 L504.308 735.985 L504.308 709.619 L495.998 711.286 L495.998 707.027 L504.262 705.36 L508.938 705.36 L508.938 735.985 L516.577 735.985 L516.577 739.92 L496.67 739.92 L496.67 735.985 Z\" fill=\"#000000\" fill-rule=\"evenodd\" fill-opacity=\"1\" /><path clip-path=\"url(#clip250)\" d=\"M 0 0 M655.782 708.439 Q652.171 708.439 650.343 712.003 Q648.537 715.545 648.537 722.675 Q648.537 729.781 650.343 733.346 Q652.171 736.887 655.782 736.887 Q659.417 736.887 661.222 733.346 Q663.051 729.781 663.051 722.675 Q663.051 715.545 661.222 712.003 Q659.417 708.439 655.782 708.439 M655.782 704.735 Q661.593 704.735 664.648 709.341 Q667.727 713.925 667.727 722.675 Q667.727 731.401 664.648 736.008 Q661.593 740.591 655.782 740.591 Q649.972 740.591 646.894 736.008 Q643.838 731.401 643.838 722.675 Q643.838 713.925 646.894 709.341 Q649.972 704.735 655.782 704.735 Z\" fill=\"#000000\" fill-rule=\"evenodd\" fill-opacity=\"1\" /><path clip-path=\"url(#clip250)\" d=\"M 0 0 M804.502 735.985 L812.141 735.985 L812.141 709.619 L803.83 711.286 L803.83 707.027 L812.094 705.36 L816.77 705.36 L816.77 735.985 L824.409 735.985 L824.409 739.92 L804.502 739.92 L804.502 735.985 Z\" fill=\"#000000\" fill-rule=\"evenodd\" fill-opacity=\"1\" /><path clip-path=\"url(#clip250)\" d=\"M 0 0 M967.11 735.985 L983.429 735.985 L983.429 739.92 L961.485 739.92 L961.485 735.985 Q964.147 733.23 968.73 728.6 Q973.337 723.948 974.517 722.605 Q976.763 720.082 977.642 718.346 Q978.545 716.587 978.545 714.897 Q978.545 712.142 976.601 710.406 Q974.679 708.67 971.578 708.67 Q969.378 708.67 966.925 709.434 Q964.494 710.198 961.716 711.749 L961.716 707.027 Q964.541 705.892 966.994 705.314 Q969.448 704.735 971.485 704.735 Q976.855 704.735 980.05 707.42 Q983.244 710.105 983.244 714.596 Q983.244 716.726 982.434 718.647 Q981.647 720.545 979.54 723.138 Q978.962 723.809 975.86 727.026 Q972.758 730.221 967.11 735.985 Z\" fill=\"#000000\" fill-rule=\"evenodd\" fill-opacity=\"1\" /><path clip-path=\"url(#clip250)\" d=\"M 0 0 M1135.04 721.286 Q1138.4 722.003 1140.27 724.272 Q1142.17 726.54 1142.17 729.874 Q1142.17 734.989 1138.65 737.79 Q1135.13 740.591 1128.65 740.591 Q1126.48 740.591 1124.16 740.151 Q1121.87 739.735 1119.42 738.878 L1119.42 734.364 Q1121.36 735.499 1123.68 736.077 Q1125.99 736.656 1128.51 736.656 Q1132.91 736.656 1135.2 734.92 Q1137.52 733.184 1137.52 729.874 Q1137.52 726.818 1135.37 725.105 Q1133.24 723.369 1129.42 723.369 L1125.39 723.369 L1125.39 719.526 L1129.6 719.526 Q1133.05 719.526 1134.88 718.161 Q1136.71 716.772 1136.71 714.179 Q1136.71 711.517 1134.81 710.105 Q1132.94 708.67 1129.42 708.67 Q1127.5 708.67 1125.3 709.087 Q1123.1 709.503 1120.46 710.383 L1120.46 706.216 Q1123.12 705.476 1125.44 705.105 Q1127.77 704.735 1129.83 704.735 Q1135.16 704.735 1138.26 707.165 Q1141.36 709.573 1141.36 713.693 Q1141.36 716.564 1139.72 718.554 Q1138.07 720.522 1135.04 721.286 Z\" fill=\"#000000\" fill-rule=\"evenodd\" fill-opacity=\"1\" /><path clip-path=\"url(#clip250)\" d=\"M 0 0 M89.4272 670.753 L101.904 670.753 L101.904 674.549 L89.4272 674.549 L89.4272 670.753 Z\" fill=\"#000000\" fill-rule=\"evenodd\" fill-opacity=\"1\" /><path clip-path=\"url(#clip250)\" d=\"M 0 0 M121.14 667.003 Q124.496 667.721 126.371 669.989 Q128.27 672.258 128.27 675.591 Q128.27 680.707 124.751 683.508 Q121.233 686.308 114.751 686.308 Q112.575 686.308 110.26 685.869 Q107.969 685.452 105.515 684.596 L105.515 680.082 Q107.459 681.216 109.774 681.795 Q112.089 682.373 114.612 682.373 Q119.01 682.373 121.302 680.637 Q123.617 678.901 123.617 675.591 Q123.617 672.535 121.464 670.822 Q119.334 669.086 115.515 669.086 L111.487 669.086 L111.487 665.244 L115.7 665.244 Q119.149 665.244 120.978 663.878 Q122.807 662.489 122.807 659.897 Q122.807 657.235 120.908 655.823 Q119.033 654.387 115.515 654.387 Q113.594 654.387 111.395 654.804 Q109.196 655.221 106.557 656.1 L106.557 651.934 Q109.219 651.193 111.534 650.823 Q113.871 650.452 115.932 650.452 Q121.256 650.452 124.358 652.883 Q127.459 655.29 127.459 659.41 Q127.459 662.281 125.816 664.272 Q124.172 666.239 121.14 667.003 Z\" fill=\"#000000\" fill-rule=\"evenodd\" fill-opacity=\"1\" /><path clip-path=\"url(#clip250)\" d=\"M 0 0 M90.3762 570.249 L102.853 570.249 L102.853 574.046 L90.3762 574.046 L90.3762 570.249 Z\" fill=\"#000000\" fill-rule=\"evenodd\" fill-opacity=\"1\" /><path clip-path=\"url(#clip250)\" d=\"M 0 0 M111.95 581.198 L128.27 581.198 L128.27 585.133 L106.325 585.133 L106.325 581.198 Q108.987 578.444 113.571 573.814 Q118.177 569.161 119.358 567.819 Q121.603 565.296 122.483 563.56 Q123.385 561.8 123.385 560.11 Q123.385 557.356 121.441 555.62 Q119.52 553.884 116.418 553.884 Q114.219 553.884 111.765 554.648 Q109.334 555.411 106.557 556.962 L106.557 552.24 Q109.381 551.106 111.834 550.527 Q114.288 549.948 116.325 549.948 Q121.696 549.948 124.89 552.634 Q128.084 555.319 128.084 559.81 Q128.084 561.939 127.274 563.86 Q126.487 565.759 124.381 568.351 Q123.802 569.022 120.7 572.24 Q117.598 575.434 111.95 581.198 Z\" fill=\"#000000\" fill-rule=\"evenodd\" fill-opacity=\"1\" /><path clip-path=\"url(#clip250)\" d=\"M 0 0 M90.0059 469.746 L102.483 469.746 L102.483 473.542 L90.0059 473.542 L90.0059 469.746 Z\" fill=\"#000000\" fill-rule=\"evenodd\" fill-opacity=\"1\" /><path clip-path=\"url(#clip250)\" d=\"M 0 0 M108.362 480.695 L116.001 480.695 L116.001 454.329 L107.691 455.996 L107.691 451.736 L115.955 450.07 L120.631 450.07 L120.631 480.695 L128.27 480.695 L128.27 484.63 L108.362 484.63 L108.362 480.695 Z\" fill=\"#000000\" fill-rule=\"evenodd\" fill-opacity=\"1\" /><path clip-path=\"url(#clip250)\" d=\"M 0 0 M116.325 352.645 Q112.714 352.645 110.885 356.209 Q109.08 359.751 109.08 366.881 Q109.08 373.987 110.885 377.552 Q112.714 381.094 116.325 381.094 Q119.959 381.094 121.765 377.552 Q123.594 373.987 123.594 366.881 Q123.594 359.751 121.765 356.209 Q119.959 352.645 116.325 352.645 M116.325 348.941 Q122.135 348.941 125.191 353.547 Q128.27 358.131 128.27 366.881 Q128.27 375.608 125.191 380.214 Q122.135 384.797 116.325 384.797 Q110.515 384.797 107.436 380.214 Q104.381 375.608 104.381 366.881 Q104.381 358.131 107.436 353.547 Q110.515 348.941 116.325 348.941 Z\" fill=\"#000000\" fill-rule=\"evenodd\" fill-opacity=\"1\" /><path clip-path=\"url(#clip250)\" d=\"M 0 0 M108.362 279.687 L116.001 279.687 L116.001 253.321 L107.691 254.988 L107.691 250.729 L115.955 249.062 L120.631 249.062 L120.631 279.687 L128.27 279.687 L128.27 283.622 L108.362 283.622 L108.362 279.687 Z\" fill=\"#000000\" fill-rule=\"evenodd\" fill-opacity=\"1\" /><path clip-path=\"url(#clip250)\" d=\"M 0 0 M111.95 179.183 L128.27 179.183 L128.27 183.119 L106.325 183.119 L106.325 179.183 Q108.987 176.429 113.571 171.799 Q118.177 167.146 119.358 165.804 Q121.603 163.281 122.483 161.545 Q123.385 159.785 123.385 158.095 Q123.385 155.341 121.441 153.605 Q119.52 151.869 116.418 151.869 Q114.219 151.869 111.765 152.633 Q109.334 153.396 106.557 154.947 L106.557 150.225 Q109.381 149.091 111.834 148.512 Q114.288 147.934 116.325 147.934 Q121.696 147.934 124.89 150.619 Q128.084 153.304 128.084 157.795 Q128.084 159.924 127.274 161.845 Q126.487 163.744 124.381 166.336 Q123.802 167.007 120.7 170.225 Q117.598 173.419 111.95 179.183 Z\" fill=\"#000000\" fill-rule=\"evenodd\" fill-opacity=\"1\" /><path clip-path=\"url(#clip250)\" d=\"M 0 0 M121.14 63.9806 Q124.496 64.6982 126.371 66.9667 Q128.27 69.2352 128.27 72.5685 Q128.27 77.6842 124.751 80.4851 Q121.233 83.2861 114.751 83.2861 Q112.575 83.2861 110.26 82.8462 Q107.969 82.4296 105.515 81.5731 L105.515 77.0592 Q107.459 78.1935 109.774 78.7722 Q112.089 79.3509 114.612 79.3509 Q119.01 79.3509 121.302 77.6148 Q123.617 75.8787 123.617 72.5685 Q123.617 69.513 121.464 67.8 Q119.334 66.0639 115.515 66.0639 L111.487 66.0639 L111.487 62.2214 L115.7 62.2214 Q119.149 62.2214 120.978 60.8556 Q122.807 59.4667 122.807 56.8742 Q122.807 54.2121 120.908 52.8001 Q119.033 51.3649 115.515 51.3649 Q113.594 51.3649 111.395 51.7816 Q109.196 52.1983 106.557 53.0779 L106.557 48.9112 Q109.219 48.1705 111.534 47.8001 Q113.871 47.4298 115.932 47.4298 Q121.256 47.4298 124.358 49.8603 Q127.459 52.2677 127.459 56.3881 Q127.459 59.2584 125.816 61.2491 Q124.172 63.2167 121.14 63.9806 Z\" fill=\"#000000\" fill-rule=\"evenodd\" fill-opacity=\"1\" /><polyline clip-path=\"url(#clip252)\" style=\"stroke:#009af9; stroke-width:4; stroke-opacity:1; fill:none\" points=\"\n",
       "  180.77,668.357 196.604,658.307 212.438,648.256 228.271,638.206 244.105,628.156 259.939,618.105 275.773,608.055 291.606,598.005 307.44,587.954 323.274,577.904 \n",
       "  339.108,567.853 354.941,557.803 370.775,547.753 386.609,537.702 402.443,527.652 418.276,517.602 434.11,507.551 449.944,497.501 465.778,487.45 481.611,477.4 \n",
       "  497.445,467.35 513.279,457.299 529.112,447.249 544.946,437.199 560.78,427.148 576.614,417.098 592.447,407.047 608.281,396.997 624.115,386.947 639.949,376.896 \n",
       "  655.782,366.846 671.616,356.796 687.45,346.745 703.284,336.695 719.117,326.644 734.951,316.594 750.785,306.544 766.619,296.493 782.452,286.443 798.286,276.393 \n",
       "  814.12,266.342 829.953,256.292 845.787,246.241 861.621,236.191 877.455,226.141 893.288,216.09 909.122,206.04 924.956,195.99 940.79,185.939 956.623,175.889 \n",
       "  972.457,165.839 988.291,155.788 1004.12,145.738 1019.96,135.687 1035.79,125.637 1051.63,115.587 1067.46,105.536 1083.29,95.4859 1099.13,85.4355 1114.96,75.3851 \n",
       "  1130.79,65.3348 \n",
       "  \"/>\n",
       "<path clip-path=\"url(#clip250)\" d=\"\n",
       "M1345.73 686.448 L2352.76 686.448 L2352.76 47.2441 L1345.73 47.2441  Z\n",
       "  \" fill=\"#ffffff\" fill-rule=\"evenodd\" fill-opacity=\"1\"/>\n",
       "<defs>\n",
       "  <clipPath id=\"clip253\">\n",
       "    <rect x=\"1345\" y=\"47\" width=\"1008\" height=\"640\"/>\n",
       "  </clipPath>\n",
       "</defs>\n",
       "<polyline clip-path=\"url(#clip253)\" style=\"stroke:#000000; stroke-width:2; stroke-opacity:0.1; fill:none\" points=\"\n",
       "  1374.23,686.448 1374.23,47.2441 \n",
       "  \"/>\n",
       "<polyline clip-path=\"url(#clip253)\" style=\"stroke:#000000; stroke-width:2; stroke-opacity:0.1; fill:none\" points=\"\n",
       "  1532.57,686.448 1532.57,47.2441 \n",
       "  \"/>\n",
       "<polyline clip-path=\"url(#clip253)\" style=\"stroke:#000000; stroke-width:2; stroke-opacity:0.1; fill:none\" points=\"\n",
       "  1690.91,686.448 1690.91,47.2441 \n",
       "  \"/>\n",
       "<polyline clip-path=\"url(#clip253)\" style=\"stroke:#000000; stroke-width:2; stroke-opacity:0.1; fill:none\" points=\"\n",
       "  1849.24,686.448 1849.24,47.2441 \n",
       "  \"/>\n",
       "<polyline clip-path=\"url(#clip253)\" style=\"stroke:#000000; stroke-width:2; stroke-opacity:0.1; fill:none\" points=\"\n",
       "  2007.58,686.448 2007.58,47.2441 \n",
       "  \"/>\n",
       "<polyline clip-path=\"url(#clip253)\" style=\"stroke:#000000; stroke-width:2; stroke-opacity:0.1; fill:none\" points=\"\n",
       "  2165.92,686.448 2165.92,47.2441 \n",
       "  \"/>\n",
       "<polyline clip-path=\"url(#clip253)\" style=\"stroke:#000000; stroke-width:2; stroke-opacity:0.1; fill:none\" points=\"\n",
       "  2324.26,686.448 2324.26,47.2441 \n",
       "  \"/>\n",
       "<polyline clip-path=\"url(#clip253)\" style=\"stroke:#000000; stroke-width:2; stroke-opacity:0.1; fill:none\" points=\"\n",
       "  1345.73,668.357 2352.76,668.357 \n",
       "  \"/>\n",
       "<polyline clip-path=\"url(#clip253)\" style=\"stroke:#000000; stroke-width:2; stroke-opacity:0.1; fill:none\" points=\"\n",
       "  1345.73,534.352 2352.76,534.352 \n",
       "  \"/>\n",
       "<polyline clip-path=\"url(#clip253)\" style=\"stroke:#000000; stroke-width:2; stroke-opacity:0.1; fill:none\" points=\"\n",
       "  1345.73,400.347 2352.76,400.347 \n",
       "  \"/>\n",
       "<polyline clip-path=\"url(#clip253)\" style=\"stroke:#000000; stroke-width:2; stroke-opacity:0.1; fill:none\" points=\"\n",
       "  1345.73,266.342 2352.76,266.342 \n",
       "  \"/>\n",
       "<polyline clip-path=\"url(#clip253)\" style=\"stroke:#000000; stroke-width:2; stroke-opacity:0.1; fill:none\" points=\"\n",
       "  1345.73,132.337 2352.76,132.337 \n",
       "  \"/>\n",
       "<polyline clip-path=\"url(#clip250)\" style=\"stroke:#000000; stroke-width:4; stroke-opacity:1; fill:none\" points=\"\n",
       "  1345.73,686.448 2352.76,686.448 \n",
       "  \"/>\n",
       "<polyline clip-path=\"url(#clip250)\" style=\"stroke:#000000; stroke-width:4; stroke-opacity:1; fill:none\" points=\"\n",
       "  1345.73,686.448 1345.73,47.2441 \n",
       "  \"/>\n",
       "<polyline clip-path=\"url(#clip250)\" style=\"stroke:#000000; stroke-width:4; stroke-opacity:1; fill:none\" points=\"\n",
       "  1374.23,686.448 1374.23,678.777 \n",
       "  \"/>\n",
       "<polyline clip-path=\"url(#clip250)\" style=\"stroke:#000000; stroke-width:4; stroke-opacity:1; fill:none\" points=\"\n",
       "  1532.57,686.448 1532.57,678.777 \n",
       "  \"/>\n",
       "<polyline clip-path=\"url(#clip250)\" style=\"stroke:#000000; stroke-width:4; stroke-opacity:1; fill:none\" points=\"\n",
       "  1690.91,686.448 1690.91,678.777 \n",
       "  \"/>\n",
       "<polyline clip-path=\"url(#clip250)\" style=\"stroke:#000000; stroke-width:4; stroke-opacity:1; fill:none\" points=\"\n",
       "  1849.24,686.448 1849.24,678.777 \n",
       "  \"/>\n",
       "<polyline clip-path=\"url(#clip250)\" style=\"stroke:#000000; stroke-width:4; stroke-opacity:1; fill:none\" points=\"\n",
       "  2007.58,686.448 2007.58,678.777 \n",
       "  \"/>\n",
       "<polyline clip-path=\"url(#clip250)\" style=\"stroke:#000000; stroke-width:4; stroke-opacity:1; fill:none\" points=\"\n",
       "  2165.92,686.448 2165.92,678.777 \n",
       "  \"/>\n",
       "<polyline clip-path=\"url(#clip250)\" style=\"stroke:#000000; stroke-width:4; stroke-opacity:1; fill:none\" points=\"\n",
       "  2324.26,686.448 2324.26,678.777 \n",
       "  \"/>\n",
       "<polyline clip-path=\"url(#clip250)\" style=\"stroke:#000000; stroke-width:4; stroke-opacity:1; fill:none\" points=\"\n",
       "  1345.73,668.357 1357.81,668.357 \n",
       "  \"/>\n",
       "<polyline clip-path=\"url(#clip250)\" style=\"stroke:#000000; stroke-width:4; stroke-opacity:1; fill:none\" points=\"\n",
       "  1345.73,534.352 1357.81,534.352 \n",
       "  \"/>\n",
       "<polyline clip-path=\"url(#clip250)\" style=\"stroke:#000000; stroke-width:4; stroke-opacity:1; fill:none\" points=\"\n",
       "  1345.73,400.347 1357.81,400.347 \n",
       "  \"/>\n",
       "<polyline clip-path=\"url(#clip250)\" style=\"stroke:#000000; stroke-width:4; stroke-opacity:1; fill:none\" points=\"\n",
       "  1345.73,266.342 1357.81,266.342 \n",
       "  \"/>\n",
       "<polyline clip-path=\"url(#clip250)\" style=\"stroke:#000000; stroke-width:4; stroke-opacity:1; fill:none\" points=\"\n",
       "  1345.73,132.337 1357.81,132.337 \n",
       "  \"/>\n",
       "<path clip-path=\"url(#clip250)\" d=\"M 0 0 M1354.81 725.036 L1367.29 725.036 L1367.29 728.832 L1354.81 728.832 L1354.81 725.036 Z\" fill=\"#000000\" fill-rule=\"evenodd\" fill-opacity=\"1\" /><path clip-path=\"url(#clip250)\" d=\"M 0 0 M1386.52 721.286 Q1389.88 722.003 1391.75 724.272 Q1393.65 726.54 1393.65 729.874 Q1393.65 734.989 1390.13 737.79 Q1386.62 740.591 1380.13 740.591 Q1377.96 740.591 1375.64 740.151 Q1373.35 739.735 1370.9 738.878 L1370.9 734.364 Q1372.84 735.499 1375.16 736.077 Q1377.47 736.656 1379.99 736.656 Q1384.39 736.656 1386.68 734.92 Q1389 733.184 1389 729.874 Q1389 726.818 1386.85 725.105 Q1384.72 723.369 1380.9 723.369 L1376.87 723.369 L1376.87 719.526 L1381.08 719.526 Q1384.53 719.526 1386.36 718.161 Q1388.19 716.772 1388.19 714.179 Q1388.19 711.517 1386.29 710.105 Q1384.42 708.67 1380.9 708.67 Q1378.98 708.67 1376.78 709.087 Q1374.58 709.503 1371.94 710.383 L1371.94 706.216 Q1374.6 705.476 1376.92 705.105 Q1379.25 704.735 1381.31 704.735 Q1386.64 704.735 1389.74 707.165 Q1392.84 709.573 1392.84 713.693 Q1392.84 716.564 1391.2 718.554 Q1389.55 720.522 1386.52 721.286 Z\" fill=\"#000000\" fill-rule=\"evenodd\" fill-opacity=\"1\" /><path clip-path=\"url(#clip250)\" d=\"M 0 0 M1513.62 725.036 L1526.1 725.036 L1526.1 728.832 L1513.62 728.832 L1513.62 725.036 Z\" fill=\"#000000\" fill-rule=\"evenodd\" fill-opacity=\"1\" /><path clip-path=\"url(#clip250)\" d=\"M 0 0 M1535.2 735.985 L1551.51 735.985 L1551.51 739.92 L1529.57 739.92 L1529.57 735.985 Q1532.23 733.23 1536.82 728.6 Q1541.42 723.948 1542.6 722.605 Q1544.85 720.082 1545.73 718.346 Q1546.63 716.587 1546.63 714.897 Q1546.63 712.142 1544.69 710.406 Q1542.77 708.67 1539.66 708.67 Q1537.46 708.67 1535.01 709.434 Q1532.58 710.198 1529.8 711.749 L1529.8 707.027 Q1532.63 705.892 1535.08 705.314 Q1537.53 704.735 1539.57 704.735 Q1544.94 704.735 1548.14 707.42 Q1551.33 710.105 1551.33 714.596 Q1551.33 716.726 1550.52 718.647 Q1549.73 720.545 1547.63 723.138 Q1547.05 723.809 1543.95 727.026 Q1540.84 730.221 1535.2 735.985 Z\" fill=\"#000000\" fill-rule=\"evenodd\" fill-opacity=\"1\" /><path clip-path=\"url(#clip250)\" d=\"M 0 0 M1671.77 725.036 L1684.25 725.036 L1684.25 728.832 L1671.77 728.832 L1671.77 725.036 Z\" fill=\"#000000\" fill-rule=\"evenodd\" fill-opacity=\"1\" /><path clip-path=\"url(#clip250)\" d=\"M 0 0 M1690.13 735.985 L1697.77 735.985 L1697.77 709.619 L1689.46 711.286 L1689.46 707.027 L1697.72 705.36 L1702.4 705.36 L1702.4 735.985 L1710.04 735.985 L1710.04 739.92 L1690.13 739.92 L1690.13 735.985 Z\" fill=\"#000000\" fill-rule=\"evenodd\" fill-opacity=\"1\" /><path clip-path=\"url(#clip250)\" d=\"M 0 0 M1849.24 708.439 Q1845.63 708.439 1843.8 712.003 Q1842 715.545 1842 722.675 Q1842 729.781 1843.8 733.346 Q1845.63 736.887 1849.24 736.887 Q1852.88 736.887 1854.68 733.346 Q1856.51 729.781 1856.51 722.675 Q1856.51 715.545 1854.68 712.003 Q1852.88 708.439 1849.24 708.439 M1849.24 704.735 Q1855.05 704.735 1858.11 709.341 Q1861.19 713.925 1861.19 722.675 Q1861.19 731.401 1858.11 736.008 Q1855.05 740.591 1849.24 740.591 Q1843.43 740.591 1840.35 736.008 Q1837.3 731.401 1837.3 722.675 Q1837.3 713.925 1840.35 709.341 Q1843.43 704.735 1849.24 704.735 Z\" fill=\"#000000\" fill-rule=\"evenodd\" fill-opacity=\"1\" /><path clip-path=\"url(#clip250)\" d=\"M 0 0 M1997.96 735.985 L2005.6 735.985 L2005.6 709.619 L1997.29 711.286 L1997.29 707.027 L2005.55 705.36 L2010.23 705.36 L2010.23 735.985 L2017.87 735.985 L2017.87 739.92 L1997.96 739.92 L1997.96 735.985 Z\" fill=\"#000000\" fill-rule=\"evenodd\" fill-opacity=\"1\" /><path clip-path=\"url(#clip250)\" d=\"M 0 0 M2160.57 735.985 L2176.89 735.985 L2176.89 739.92 L2154.95 739.92 L2154.95 735.985 Q2157.61 733.23 2162.19 728.6 Q2166.8 723.948 2167.98 722.605 Q2170.22 720.082 2171.1 718.346 Q2172.01 716.587 2172.01 714.897 Q2172.01 712.142 2170.06 710.406 Q2168.14 708.67 2165.04 708.67 Q2162.84 708.67 2160.39 709.434 Q2157.95 710.198 2155.18 711.749 L2155.18 707.027 Q2158 705.892 2160.45 705.314 Q2162.91 704.735 2164.95 704.735 Q2170.32 704.735 2173.51 707.42 Q2176.7 710.105 2176.7 714.596 Q2176.7 716.726 2175.89 718.647 Q2175.11 720.545 2173 723.138 Q2172.42 723.809 2169.32 727.026 Q2166.22 730.221 2160.57 735.985 Z\" fill=\"#000000\" fill-rule=\"evenodd\" fill-opacity=\"1\" /><path clip-path=\"url(#clip250)\" d=\"M 0 0 M2328.5 721.286 Q2331.86 722.003 2333.73 724.272 Q2335.63 726.54 2335.63 729.874 Q2335.63 734.989 2332.11 737.79 Q2328.6 740.591 2322.11 740.591 Q2319.94 740.591 2317.62 740.151 Q2315.33 739.735 2312.88 738.878 L2312.88 734.364 Q2314.82 735.499 2317.14 736.077 Q2319.45 736.656 2321.98 736.656 Q2326.37 736.656 2328.66 734.92 Q2330.98 733.184 2330.98 729.874 Q2330.98 726.818 2328.83 725.105 Q2326.7 723.369 2322.88 723.369 L2318.85 723.369 L2318.85 719.526 L2323.06 719.526 Q2326.51 719.526 2328.34 718.161 Q2330.17 716.772 2330.17 714.179 Q2330.17 711.517 2328.27 710.105 Q2326.4 708.67 2322.88 708.67 Q2320.96 708.67 2318.76 709.087 Q2316.56 709.503 2313.92 710.383 L2313.92 706.216 Q2316.58 705.476 2318.9 705.105 Q2321.23 704.735 2323.29 704.735 Q2328.62 704.735 2331.72 707.165 Q2334.82 709.573 2334.82 713.693 Q2334.82 716.564 2333.18 718.554 Q2331.54 720.522 2328.5 721.286 Z\" fill=\"#000000\" fill-rule=\"evenodd\" fill-opacity=\"1\" /><path clip-path=\"url(#clip250)\" d=\"M 0 0 M1309.79 654.156 Q1306.17 654.156 1304.35 657.721 Q1302.54 661.262 1302.54 668.392 Q1302.54 675.498 1304.35 679.063 Q1306.17 682.605 1309.79 682.605 Q1313.42 682.605 1315.23 679.063 Q1317.05 675.498 1317.05 668.392 Q1317.05 661.262 1315.23 657.721 Q1313.42 654.156 1309.79 654.156 M1309.79 650.452 Q1315.6 650.452 1318.65 655.059 Q1321.73 659.642 1321.73 668.392 Q1321.73 677.119 1318.65 681.725 Q1315.6 686.308 1309.79 686.308 Q1303.98 686.308 1300.9 681.725 Q1297.84 677.119 1297.84 668.392 Q1297.84 659.642 1300.9 655.059 Q1303.98 650.452 1309.79 650.452 Z\" fill=\"#000000\" fill-rule=\"evenodd\" fill-opacity=\"1\" /><path clip-path=\"url(#clip250)\" d=\"M 0 0 M1305.41 547.697 L1321.73 547.697 L1321.73 551.632 L1299.79 551.632 L1299.79 547.697 Q1302.45 544.942 1307.03 540.313 Q1311.64 535.66 1312.82 534.317 Q1315.06 531.794 1315.94 530.058 Q1316.85 528.299 1316.85 526.609 Q1316.85 523.855 1314.9 522.118 Q1312.98 520.382 1309.88 520.382 Q1307.68 520.382 1305.23 521.146 Q1302.8 521.91 1300.02 523.461 L1300.02 518.739 Q1302.84 517.605 1305.3 517.026 Q1307.75 516.447 1309.79 516.447 Q1315.16 516.447 1318.35 519.132 Q1321.55 521.818 1321.55 526.308 Q1321.55 528.438 1320.73 530.359 Q1319.95 532.257 1317.84 534.85 Q1317.26 535.521 1314.16 538.739 Q1311.06 541.933 1305.41 547.697 Z\" fill=\"#000000\" fill-rule=\"evenodd\" fill-opacity=\"1\" /><path clip-path=\"url(#clip250)\" d=\"M 0 0 M1312.15 387.141 L1300.34 405.59 L1312.15 405.59 L1312.15 387.141 M1310.92 383.067 L1316.8 383.067 L1316.8 405.59 L1321.73 405.59 L1321.73 409.479 L1316.8 409.479 L1316.8 417.627 L1312.15 417.627 L1312.15 409.479 L1296.55 409.479 L1296.55 404.965 L1310.92 383.067 Z\" fill=\"#000000\" fill-rule=\"evenodd\" fill-opacity=\"1\" /><path clip-path=\"url(#clip250)\" d=\"M 0 0 M1310.2 264.479 Q1307.05 264.479 1305.2 266.632 Q1303.37 268.784 1303.37 272.534 Q1303.37 276.261 1305.2 278.437 Q1307.05 280.59 1310.2 280.59 Q1313.35 280.59 1315.18 278.437 Q1317.03 276.261 1317.03 272.534 Q1317.03 268.784 1315.18 266.632 Q1313.35 264.479 1310.2 264.479 M1319.48 249.826 L1319.48 254.085 Q1317.73 253.252 1315.92 252.812 Q1314.14 252.372 1312.38 252.372 Q1307.75 252.372 1305.3 255.497 Q1302.86 258.622 1302.52 264.942 Q1303.88 262.928 1305.94 261.863 Q1308 260.775 1310.48 260.775 Q1315.69 260.775 1318.7 263.946 Q1321.73 267.095 1321.73 272.534 Q1321.73 277.858 1318.58 281.076 Q1315.43 284.294 1310.2 284.294 Q1304.21 284.294 1301.04 279.71 Q1297.86 275.104 1297.86 266.377 Q1297.86 258.183 1301.75 253.321 Q1305.64 248.437 1312.19 248.437 Q1313.95 248.437 1315.73 248.784 Q1317.54 249.132 1319.48 249.826 Z\" fill=\"#000000\" fill-rule=\"evenodd\" fill-opacity=\"1\" /><path clip-path=\"url(#clip250)\" d=\"M 0 0 M1309.88 133.205 Q1306.55 133.205 1304.62 134.988 Q1302.73 136.77 1302.73 139.895 Q1302.73 143.02 1304.62 144.802 Q1306.55 146.585 1309.88 146.585 Q1313.21 146.585 1315.13 144.802 Q1317.05 142.997 1317.05 139.895 Q1317.05 136.77 1315.13 134.988 Q1313.23 133.205 1309.88 133.205 M1305.2 131.215 Q1302.19 130.474 1300.5 128.414 Q1298.84 126.353 1298.84 123.391 Q1298.84 119.247 1301.78 116.84 Q1304.74 114.432 1309.88 114.432 Q1315.04 114.432 1317.98 116.84 Q1320.92 119.247 1320.92 123.391 Q1320.92 126.353 1319.23 128.414 Q1317.56 130.474 1314.58 131.215 Q1317.96 132.002 1319.83 134.293 Q1321.73 136.585 1321.73 139.895 Q1321.73 144.918 1318.65 147.603 Q1315.6 150.289 1309.88 150.289 Q1304.16 150.289 1301.08 147.603 Q1298.03 144.918 1298.03 139.895 Q1298.03 136.585 1299.92 134.293 Q1301.82 132.002 1305.2 131.215 M1303.49 123.83 Q1303.49 126.516 1305.16 128.02 Q1306.85 129.525 1309.88 129.525 Q1312.89 129.525 1314.58 128.02 Q1316.29 126.516 1316.29 123.83 Q1316.29 121.145 1314.58 119.641 Q1312.89 118.136 1309.88 118.136 Q1306.85 118.136 1305.16 119.641 Q1303.49 121.145 1303.49 123.83 Z\" fill=\"#000000\" fill-rule=\"evenodd\" fill-opacity=\"1\" /><polyline clip-path=\"url(#clip253)\" style=\"stroke:#009af9; stroke-width:4; stroke-opacity:1; fill:none\" points=\"\n",
       "  1374.23,65.3348 1390.06,104.866 1405.9,143.058 1421.73,179.909 1437.57,215.42 1453.4,249.592 1469.23,282.423 1485.07,313.914 1500.9,344.065 1516.73,372.876 \n",
       "  1532.57,400.347 1548.4,426.478 1564.24,451.269 1580.07,474.72 1595.9,496.831 1611.74,517.602 1627.57,537.032 1643.4,555.123 1659.24,571.874 1675.07,587.284 \n",
       "  1690.91,601.355 1706.74,614.085 1722.57,625.476 1738.41,635.526 1754.24,644.236 1770.07,651.607 1785.91,657.637 1801.74,662.327 1817.58,665.677 1833.41,667.687 \n",
       "  1849.24,668.357 1865.08,667.687 1880.91,665.677 1896.74,662.327 1912.58,657.637 1928.41,651.607 1944.25,644.236 1960.08,635.526 1975.91,625.476 1991.75,614.085 \n",
       "  2007.58,601.355 2023.41,587.284 2039.25,571.874 2055.08,555.123 2070.92,537.032 2086.75,517.602 2102.58,496.831 2118.42,474.72 2134.25,451.269 2150.08,426.478 \n",
       "  2165.92,400.347 2181.75,372.876 2197.59,344.065 2213.42,313.914 2229.25,282.423 2245.09,249.592 2260.92,215.42 2276.75,179.909 2292.59,143.058 2308.42,104.866 \n",
       "  2324.26,65.3348 \n",
       "  \"/>\n",
       "<path clip-path=\"url(#clip250)\" d=\"\n",
       "M152.27 1486.45 L1159.3 1486.45 L1159.3 847.244 L152.27 847.244  Z\n",
       "  \" fill=\"#ffffff\" fill-rule=\"evenodd\" fill-opacity=\"1\"/>\n",
       "<defs>\n",
       "  <clipPath id=\"clip254\">\n",
       "    <rect x=\"152\" y=\"847\" width=\"1008\" height=\"640\"/>\n",
       "  </clipPath>\n",
       "</defs>\n",
       "<polyline clip-path=\"url(#clip254)\" style=\"stroke:#000000; stroke-width:2; stroke-opacity:0.1; fill:none\" points=\"\n",
       "  180.77,1486.45 180.77,847.244 \n",
       "  \"/>\n",
       "<polyline clip-path=\"url(#clip254)\" style=\"stroke:#000000; stroke-width:2; stroke-opacity:0.1; fill:none\" points=\"\n",
       "  339.108,1486.45 339.108,847.244 \n",
       "  \"/>\n",
       "<polyline clip-path=\"url(#clip254)\" style=\"stroke:#000000; stroke-width:2; stroke-opacity:0.1; fill:none\" points=\"\n",
       "  497.445,1486.45 497.445,847.244 \n",
       "  \"/>\n",
       "<polyline clip-path=\"url(#clip254)\" style=\"stroke:#000000; stroke-width:2; stroke-opacity:0.1; fill:none\" points=\"\n",
       "  655.782,1486.45 655.782,847.244 \n",
       "  \"/>\n",
       "<polyline clip-path=\"url(#clip254)\" style=\"stroke:#000000; stroke-width:2; stroke-opacity:0.1; fill:none\" points=\"\n",
       "  814.12,1486.45 814.12,847.244 \n",
       "  \"/>\n",
       "<polyline clip-path=\"url(#clip254)\" style=\"stroke:#000000; stroke-width:2; stroke-opacity:0.1; fill:none\" points=\"\n",
       "  972.457,1486.45 972.457,847.244 \n",
       "  \"/>\n",
       "<polyline clip-path=\"url(#clip254)\" style=\"stroke:#000000; stroke-width:2; stroke-opacity:0.1; fill:none\" points=\"\n",
       "  1130.79,1486.45 1130.79,847.244 \n",
       "  \"/>\n",
       "<polyline clip-path=\"url(#clip254)\" style=\"stroke:#000000; stroke-width:2; stroke-opacity:0.1; fill:none\" points=\"\n",
       "  152.27,1390.19 1159.3,1390.19 \n",
       "  \"/>\n",
       "<polyline clip-path=\"url(#clip254)\" style=\"stroke:#000000; stroke-width:2; stroke-opacity:0.1; fill:none\" points=\"\n",
       "  152.27,1278.52 1159.3,1278.52 \n",
       "  \"/>\n",
       "<polyline clip-path=\"url(#clip254)\" style=\"stroke:#000000; stroke-width:2; stroke-opacity:0.1; fill:none\" points=\"\n",
       "  152.27,1166.85 1159.3,1166.85 \n",
       "  \"/>\n",
       "<polyline clip-path=\"url(#clip254)\" style=\"stroke:#000000; stroke-width:2; stroke-opacity:0.1; fill:none\" points=\"\n",
       "  152.27,1055.18 1159.3,1055.18 \n",
       "  \"/>\n",
       "<polyline clip-path=\"url(#clip254)\" style=\"stroke:#000000; stroke-width:2; stroke-opacity:0.1; fill:none\" points=\"\n",
       "  152.27,943.504 1159.3,943.504 \n",
       "  \"/>\n",
       "<polyline clip-path=\"url(#clip250)\" style=\"stroke:#000000; stroke-width:4; stroke-opacity:1; fill:none\" points=\"\n",
       "  152.27,1486.45 1159.3,1486.45 \n",
       "  \"/>\n",
       "<polyline clip-path=\"url(#clip250)\" style=\"stroke:#000000; stroke-width:4; stroke-opacity:1; fill:none\" points=\"\n",
       "  152.27,1486.45 152.27,847.244 \n",
       "  \"/>\n",
       "<polyline clip-path=\"url(#clip250)\" style=\"stroke:#000000; stroke-width:4; stroke-opacity:1; fill:none\" points=\"\n",
       "  180.77,1486.45 180.77,1478.78 \n",
       "  \"/>\n",
       "<polyline clip-path=\"url(#clip250)\" style=\"stroke:#000000; stroke-width:4; stroke-opacity:1; fill:none\" points=\"\n",
       "  339.108,1486.45 339.108,1478.78 \n",
       "  \"/>\n",
       "<polyline clip-path=\"url(#clip250)\" style=\"stroke:#000000; stroke-width:4; stroke-opacity:1; fill:none\" points=\"\n",
       "  497.445,1486.45 497.445,1478.78 \n",
       "  \"/>\n",
       "<polyline clip-path=\"url(#clip250)\" style=\"stroke:#000000; stroke-width:4; stroke-opacity:1; fill:none\" points=\"\n",
       "  655.782,1486.45 655.782,1478.78 \n",
       "  \"/>\n",
       "<polyline clip-path=\"url(#clip250)\" style=\"stroke:#000000; stroke-width:4; stroke-opacity:1; fill:none\" points=\"\n",
       "  814.12,1486.45 814.12,1478.78 \n",
       "  \"/>\n",
       "<polyline clip-path=\"url(#clip250)\" style=\"stroke:#000000; stroke-width:4; stroke-opacity:1; fill:none\" points=\"\n",
       "  972.457,1486.45 972.457,1478.78 \n",
       "  \"/>\n",
       "<polyline clip-path=\"url(#clip250)\" style=\"stroke:#000000; stroke-width:4; stroke-opacity:1; fill:none\" points=\"\n",
       "  1130.79,1486.45 1130.79,1478.78 \n",
       "  \"/>\n",
       "<polyline clip-path=\"url(#clip250)\" style=\"stroke:#000000; stroke-width:4; stroke-opacity:1; fill:none\" points=\"\n",
       "  152.27,1390.19 164.354,1390.19 \n",
       "  \"/>\n",
       "<polyline clip-path=\"url(#clip250)\" style=\"stroke:#000000; stroke-width:4; stroke-opacity:1; fill:none\" points=\"\n",
       "  152.27,1278.52 164.354,1278.52 \n",
       "  \"/>\n",
       "<polyline clip-path=\"url(#clip250)\" style=\"stroke:#000000; stroke-width:4; stroke-opacity:1; fill:none\" points=\"\n",
       "  152.27,1166.85 164.354,1166.85 \n",
       "  \"/>\n",
       "<polyline clip-path=\"url(#clip250)\" style=\"stroke:#000000; stroke-width:4; stroke-opacity:1; fill:none\" points=\"\n",
       "  152.27,1055.18 164.354,1055.18 \n",
       "  \"/>\n",
       "<polyline clip-path=\"url(#clip250)\" style=\"stroke:#000000; stroke-width:4; stroke-opacity:1; fill:none\" points=\"\n",
       "  152.27,943.504 164.354,943.504 \n",
       "  \"/>\n",
       "<path clip-path=\"url(#clip250)\" d=\"M 0 0 M161.349 1525.04 L173.826 1525.04 L173.826 1528.83 L161.349 1528.83 L161.349 1525.04 Z\" fill=\"#000000\" fill-rule=\"evenodd\" fill-opacity=\"1\" /><path clip-path=\"url(#clip250)\" d=\"M 0 0 M193.062 1521.29 Q196.418 1522 198.293 1524.27 Q200.191 1526.54 200.191 1529.87 Q200.191 1534.99 196.673 1537.79 Q193.154 1540.59 186.673 1540.59 Q184.497 1540.59 182.182 1540.15 Q179.891 1539.73 177.437 1538.88 L177.437 1534.36 Q179.381 1535.5 181.696 1536.08 Q184.011 1536.66 186.534 1536.66 Q190.932 1536.66 193.224 1534.92 Q195.539 1533.18 195.539 1529.87 Q195.539 1526.82 193.386 1525.11 Q191.256 1523.37 187.437 1523.37 L183.409 1523.37 L183.409 1519.53 L187.622 1519.53 Q191.071 1519.53 192.9 1518.16 Q194.729 1516.77 194.729 1514.18 Q194.729 1511.52 192.83 1510.11 Q190.955 1508.67 187.437 1508.67 Q185.516 1508.67 183.317 1509.09 Q181.118 1509.5 178.479 1510.38 L178.479 1506.22 Q181.141 1505.48 183.455 1505.11 Q185.793 1504.73 187.854 1504.73 Q193.178 1504.73 196.279 1507.17 Q199.381 1509.57 199.381 1513.69 Q199.381 1516.56 197.738 1518.55 Q196.094 1520.52 193.062 1521.29 Z\" fill=\"#000000\" fill-rule=\"evenodd\" fill-opacity=\"1\" /><path clip-path=\"url(#clip250)\" d=\"M 0 0 M320.161 1525.04 L332.638 1525.04 L332.638 1528.83 L320.161 1528.83 L320.161 1525.04 Z\" fill=\"#000000\" fill-rule=\"evenodd\" fill-opacity=\"1\" /><path clip-path=\"url(#clip250)\" d=\"M 0 0 M341.735 1535.98 L358.054 1535.98 L358.054 1539.92 L336.11 1539.92 L336.11 1535.98 Q338.772 1533.23 343.355 1528.6 Q347.962 1523.95 349.142 1522.61 Q351.388 1520.08 352.267 1518.35 Q353.17 1516.59 353.17 1514.9 Q353.17 1512.14 351.226 1510.41 Q349.304 1508.67 346.203 1508.67 Q344.003 1508.67 341.55 1509.43 Q339.119 1510.2 336.341 1511.75 L336.341 1507.03 Q339.166 1505.89 341.619 1505.31 Q344.073 1504.73 346.11 1504.73 Q351.48 1504.73 354.675 1507.42 Q357.869 1510.11 357.869 1514.6 Q357.869 1516.73 357.059 1518.65 Q356.272 1520.54 354.165 1523.14 Q353.587 1523.81 350.485 1527.03 Q347.383 1530.22 341.735 1535.98 Z\" fill=\"#000000\" fill-rule=\"evenodd\" fill-opacity=\"1\" /><path clip-path=\"url(#clip250)\" d=\"M 0 0 M478.313 1525.04 L490.79 1525.04 L490.79 1528.83 L478.313 1528.83 L478.313 1525.04 Z\" fill=\"#000000\" fill-rule=\"evenodd\" fill-opacity=\"1\" /><path clip-path=\"url(#clip250)\" d=\"M 0 0 M496.67 1535.98 L504.308 1535.98 L504.308 1509.62 L495.998 1511.29 L495.998 1507.03 L504.262 1505.36 L508.938 1505.36 L508.938 1535.98 L516.577 1535.98 L516.577 1539.92 L496.67 1539.92 L496.67 1535.98 Z\" fill=\"#000000\" fill-rule=\"evenodd\" fill-opacity=\"1\" /><path clip-path=\"url(#clip250)\" d=\"M 0 0 M655.782 1508.44 Q652.171 1508.44 650.343 1512 Q648.537 1515.55 648.537 1522.67 Q648.537 1529.78 650.343 1533.35 Q652.171 1536.89 655.782 1536.89 Q659.417 1536.89 661.222 1533.35 Q663.051 1529.78 663.051 1522.67 Q663.051 1515.55 661.222 1512 Q659.417 1508.44 655.782 1508.44 M655.782 1504.73 Q661.593 1504.73 664.648 1509.34 Q667.727 1513.92 667.727 1522.67 Q667.727 1531.4 664.648 1536.01 Q661.593 1540.59 655.782 1540.59 Q649.972 1540.59 646.894 1536.01 Q643.838 1531.4 643.838 1522.67 Q643.838 1513.92 646.894 1509.34 Q649.972 1504.73 655.782 1504.73 Z\" fill=\"#000000\" fill-rule=\"evenodd\" fill-opacity=\"1\" /><path clip-path=\"url(#clip250)\" d=\"M 0 0 M804.502 1535.98 L812.141 1535.98 L812.141 1509.62 L803.83 1511.29 L803.83 1507.03 L812.094 1505.36 L816.77 1505.36 L816.77 1535.98 L824.409 1535.98 L824.409 1539.92 L804.502 1539.92 L804.502 1535.98 Z\" fill=\"#000000\" fill-rule=\"evenodd\" fill-opacity=\"1\" /><path clip-path=\"url(#clip250)\" d=\"M 0 0 M967.11 1535.98 L983.429 1535.98 L983.429 1539.92 L961.485 1539.92 L961.485 1535.98 Q964.147 1533.23 968.73 1528.6 Q973.337 1523.95 974.517 1522.61 Q976.763 1520.08 977.642 1518.35 Q978.545 1516.59 978.545 1514.9 Q978.545 1512.14 976.601 1510.41 Q974.679 1508.67 971.578 1508.67 Q969.378 1508.67 966.925 1509.43 Q964.494 1510.2 961.716 1511.75 L961.716 1507.03 Q964.541 1505.89 966.994 1505.31 Q969.448 1504.73 971.485 1504.73 Q976.855 1504.73 980.05 1507.42 Q983.244 1510.11 983.244 1514.6 Q983.244 1516.73 982.434 1518.65 Q981.647 1520.54 979.54 1523.14 Q978.962 1523.81 975.86 1527.03 Q972.758 1530.22 967.11 1535.98 Z\" fill=\"#000000\" fill-rule=\"evenodd\" fill-opacity=\"1\" /><path clip-path=\"url(#clip250)\" d=\"M 0 0 M1135.04 1521.29 Q1138.4 1522 1140.27 1524.27 Q1142.17 1526.54 1142.17 1529.87 Q1142.17 1534.99 1138.65 1537.79 Q1135.13 1540.59 1128.65 1540.59 Q1126.48 1540.59 1124.16 1540.15 Q1121.87 1539.73 1119.42 1538.88 L1119.42 1534.36 Q1121.36 1535.5 1123.68 1536.08 Q1125.99 1536.66 1128.51 1536.66 Q1132.91 1536.66 1135.2 1534.92 Q1137.52 1533.18 1137.52 1529.87 Q1137.52 1526.82 1135.37 1525.11 Q1133.24 1523.37 1129.42 1523.37 L1125.39 1523.37 L1125.39 1519.53 L1129.6 1519.53 Q1133.05 1519.53 1134.88 1518.16 Q1136.71 1516.77 1136.71 1514.18 Q1136.71 1511.52 1134.81 1510.11 Q1132.94 1508.67 1129.42 1508.67 Q1127.5 1508.67 1125.3 1509.09 Q1123.1 1509.5 1120.46 1510.38 L1120.46 1506.22 Q1123.12 1505.48 1125.44 1505.11 Q1127.77 1504.73 1129.83 1504.73 Q1135.16 1504.73 1138.26 1507.17 Q1141.36 1509.57 1141.36 1513.69 Q1141.36 1516.56 1139.72 1518.55 Q1138.07 1520.52 1135.04 1521.29 Z\" fill=\"#000000\" fill-rule=\"evenodd\" fill-opacity=\"1\" /><path clip-path=\"url(#clip250)\" d=\"M 0 0 M63.3625 1392.58 L75.8393 1392.58 L75.8393 1396.38 L63.3625 1396.38 L63.3625 1392.58 Z\" fill=\"#000000\" fill-rule=\"evenodd\" fill-opacity=\"1\" /><path clip-path=\"url(#clip250)\" d=\"M 0 0 M84.9365 1403.53 L101.256 1403.53 L101.256 1407.47 L79.3115 1407.47 L79.3115 1403.53 Q81.9735 1400.78 86.5568 1396.15 Q91.1633 1391.5 92.3438 1390.15 Q94.5892 1387.63 95.4688 1385.89 Q96.3716 1384.13 96.3716 1382.44 Q96.3716 1379.69 94.4271 1377.95 Q92.5059 1376.22 89.404 1376.22 Q87.205 1376.22 84.7513 1376.98 Q82.3207 1377.75 79.543 1379.3 L79.543 1374.57 Q82.367 1373.44 84.8207 1372.86 Q87.2744 1372.28 89.3114 1372.28 Q94.6818 1372.28 97.8762 1374.97 Q101.071 1377.65 101.071 1382.14 Q101.071 1384.27 100.26 1386.19 Q99.4734 1388.09 97.3669 1390.69 Q96.7882 1391.36 93.6864 1394.57 Q90.5846 1397.77 84.9365 1403.53 Z\" fill=\"#000000\" fill-rule=\"evenodd\" fill-opacity=\"1\" /><path clip-path=\"url(#clip250)\" d=\"M 0 0 M116.325 1375.99 Q112.714 1375.99 110.885 1379.55 Q109.08 1383.09 109.08 1390.22 Q109.08 1397.33 110.885 1400.89 Q112.714 1404.44 116.325 1404.44 Q119.959 1404.44 121.765 1400.89 Q123.594 1397.33 123.594 1390.22 Q123.594 1383.09 121.765 1379.55 Q119.959 1375.99 116.325 1375.99 M116.325 1372.28 Q122.135 1372.28 125.191 1376.89 Q128.27 1381.47 128.27 1390.22 Q128.27 1398.95 125.191 1403.56 Q122.135 1408.14 116.325 1408.14 Q110.515 1408.14 107.436 1403.56 Q104.381 1398.95 104.381 1390.22 Q104.381 1381.47 107.436 1376.89 Q110.515 1372.28 116.325 1372.28 Z\" fill=\"#000000\" fill-rule=\"evenodd\" fill-opacity=\"1\" /><path clip-path=\"url(#clip250)\" d=\"M 0 0 M62.9921 1280.91 L75.4689 1280.91 L75.4689 1284.71 L62.9921 1284.71 L62.9921 1280.91 Z\" fill=\"#000000\" fill-rule=\"evenodd\" fill-opacity=\"1\" /><path clip-path=\"url(#clip250)\" d=\"M 0 0 M81.3485 1291.86 L88.9874 1291.86 L88.9874 1265.5 L80.6772 1267.16 L80.6772 1262.9 L88.9411 1261.24 L93.617 1261.24 L93.617 1291.86 L101.256 1291.86 L101.256 1295.8 L81.3485 1295.8 L81.3485 1291.86 Z\" fill=\"#000000\" fill-rule=\"evenodd\" fill-opacity=\"1\" /><path clip-path=\"url(#clip250)\" d=\"M 0 0 M116.325 1264.32 Q112.714 1264.32 110.885 1267.88 Q109.08 1271.42 109.08 1278.55 Q109.08 1285.66 110.885 1289.22 Q112.714 1292.76 116.325 1292.76 Q119.959 1292.76 121.765 1289.22 Q123.594 1285.66 123.594 1278.55 Q123.594 1271.42 121.765 1267.88 Q119.959 1264.32 116.325 1264.32 M116.325 1260.61 Q122.135 1260.61 125.191 1265.22 Q128.27 1269.8 128.27 1278.55 Q128.27 1287.28 125.191 1291.88 Q122.135 1296.47 116.325 1296.47 Q110.515 1296.47 107.436 1291.88 Q104.381 1287.28 104.381 1278.55 Q104.381 1269.8 107.436 1265.22 Q110.515 1260.61 116.325 1260.61 Z\" fill=\"#000000\" fill-rule=\"evenodd\" fill-opacity=\"1\" /><path clip-path=\"url(#clip250)\" d=\"M 0 0 M116.325 1152.64 Q112.714 1152.64 110.885 1156.21 Q109.08 1159.75 109.08 1166.88 Q109.08 1173.99 110.885 1177.55 Q112.714 1181.09 116.325 1181.09 Q119.959 1181.09 121.765 1177.55 Q123.594 1173.99 123.594 1166.88 Q123.594 1159.75 121.765 1156.21 Q119.959 1152.64 116.325 1152.64 M116.325 1148.94 Q122.135 1148.94 125.191 1153.55 Q128.27 1158.13 128.27 1166.88 Q128.27 1175.61 125.191 1180.21 Q122.135 1184.8 116.325 1184.8 Q110.515 1184.8 107.436 1180.21 Q104.381 1175.61 104.381 1166.88 Q104.381 1158.13 107.436 1153.55 Q110.515 1148.94 116.325 1148.94 Z\" fill=\"#000000\" fill-rule=\"evenodd\" fill-opacity=\"1\" /><path clip-path=\"url(#clip250)\" d=\"M 0 0 M81.3485 1068.52 L88.9874 1068.52 L88.9874 1042.15 L80.6772 1043.82 L80.6772 1039.56 L88.9411 1037.9 L93.617 1037.9 L93.617 1068.52 L101.256 1068.52 L101.256 1072.46 L81.3485 1072.46 L81.3485 1068.52 Z\" fill=\"#000000\" fill-rule=\"evenodd\" fill-opacity=\"1\" /><path clip-path=\"url(#clip250)\" d=\"M 0 0 M116.325 1040.97 Q112.714 1040.97 110.885 1044.54 Q109.08 1048.08 109.08 1055.21 Q109.08 1062.32 110.885 1065.88 Q112.714 1069.42 116.325 1069.42 Q119.959 1069.42 121.765 1065.88 Q123.594 1062.32 123.594 1055.21 Q123.594 1048.08 121.765 1044.54 Q119.959 1040.97 116.325 1040.97 M116.325 1037.27 Q122.135 1037.27 125.191 1041.88 Q128.27 1046.46 128.27 1055.21 Q128.27 1063.94 125.191 1068.54 Q122.135 1073.13 116.325 1073.13 Q110.515 1073.13 107.436 1068.54 Q104.381 1063.94 104.381 1055.21 Q104.381 1046.46 107.436 1041.88 Q110.515 1037.27 116.325 1037.27 Z\" fill=\"#000000\" fill-rule=\"evenodd\" fill-opacity=\"1\" /><path clip-path=\"url(#clip250)\" d=\"M 0 0 M84.9365 956.849 L101.256 956.849 L101.256 960.784 L79.3115 960.784 L79.3115 956.849 Q81.9735 954.095 86.5568 949.465 Q91.1633 944.812 92.3438 943.47 Q94.5892 940.946 95.4688 939.21 Q96.3716 937.451 96.3716 935.761 Q96.3716 933.007 94.4271 931.271 Q92.5059 929.535 89.404 929.535 Q87.205 929.535 84.7513 930.298 Q82.3207 931.062 79.543 932.613 L79.543 927.891 Q82.367 926.757 84.8207 926.178 Q87.2744 925.599 89.3114 925.599 Q94.6818 925.599 97.8762 928.285 Q101.071 930.97 101.071 935.46 Q101.071 937.59 100.26 939.511 Q99.4734 941.409 97.3669 944.002 Q96.7882 944.673 93.6864 947.891 Q90.5846 951.085 84.9365 956.849 Z\" fill=\"#000000\" fill-rule=\"evenodd\" fill-opacity=\"1\" /><path clip-path=\"url(#clip250)\" d=\"M 0 0 M116.325 929.303 Q112.714 929.303 110.885 932.868 Q109.08 936.409 109.08 943.539 Q109.08 950.646 110.885 954.21 Q112.714 957.752 116.325 957.752 Q119.959 957.752 121.765 954.21 Q123.594 950.646 123.594 943.539 Q123.594 936.409 121.765 932.868 Q119.959 929.303 116.325 929.303 M116.325 925.599 Q122.135 925.599 125.191 930.206 Q128.27 934.789 128.27 943.539 Q128.27 952.266 125.191 956.872 Q122.135 961.456 116.325 961.456 Q110.515 961.456 107.436 956.872 Q104.381 952.266 104.381 943.539 Q104.381 934.789 107.436 930.206 Q110.515 925.599 116.325 925.599 Z\" fill=\"#000000\" fill-rule=\"evenodd\" fill-opacity=\"1\" /><polyline clip-path=\"url(#clip254)\" style=\"stroke:#009af9; stroke-width:4; stroke-opacity:1; fill:none\" points=\"\n",
       "  180.77,1468.36 196.604,1439.2 212.438,1411.99 228.271,1386.65 244.105,1363.12 259.939,1341.33 275.773,1321.22 291.606,1302.72 307.44,1285.75 323.274,1270.26 \n",
       "  339.108,1256.18 354.941,1243.44 370.775,1231.97 386.609,1221.71 402.443,1212.59 418.276,1204.53 434.11,1197.49 449.944,1191.38 465.778,1186.14 481.611,1181.71 \n",
       "  497.445,1178.01 513.279,1174.99 529.112,1172.56 544.946,1170.68 560.78,1169.26 576.614,1168.24 592.447,1167.56 608.281,1167.15 624.115,1166.94 639.949,1166.86 \n",
       "  655.782,1166.85 671.616,1166.83 687.45,1166.76 703.284,1166.54 719.117,1166.13 734.951,1165.45 750.785,1164.43 766.619,1163.02 782.452,1161.13 798.286,1158.71 \n",
       "  814.12,1155.68 829.953,1151.98 845.787,1147.55 861.621,1142.31 877.455,1136.2 893.288,1129.16 909.122,1121.11 924.956,1111.98 940.79,1101.72 956.623,1090.25 \n",
       "  972.457,1077.51 988.291,1063.43 1004.12,1047.94 1019.96,1030.98 1035.79,1012.47 1051.63,992.36 1067.46,970.573 1083.29,947.044 1099.13,921.706 1114.96,894.492 \n",
       "  1130.79,865.335 \n",
       "  \"/>\n",
       "<path clip-path=\"url(#clip250)\" d=\"\n",
       "M1345.73 1486.45 L2352.76 1486.45 L2352.76 847.244 L1345.73 847.244  Z\n",
       "  \" fill=\"#ffffff\" fill-rule=\"evenodd\" fill-opacity=\"1\"/>\n",
       "<defs>\n",
       "  <clipPath id=\"clip255\">\n",
       "    <rect x=\"1345\" y=\"847\" width=\"1008\" height=\"640\"/>\n",
       "  </clipPath>\n",
       "</defs>\n",
       "<polyline clip-path=\"url(#clip255)\" style=\"stroke:#000000; stroke-width:2; stroke-opacity:0.1; fill:none\" points=\"\n",
       "  1374.23,1486.45 1374.23,847.244 \n",
       "  \"/>\n",
       "<polyline clip-path=\"url(#clip255)\" style=\"stroke:#000000; stroke-width:2; stroke-opacity:0.1; fill:none\" points=\"\n",
       "  1532.57,1486.45 1532.57,847.244 \n",
       "  \"/>\n",
       "<polyline clip-path=\"url(#clip255)\" style=\"stroke:#000000; stroke-width:2; stroke-opacity:0.1; fill:none\" points=\"\n",
       "  1690.91,1486.45 1690.91,847.244 \n",
       "  \"/>\n",
       "<polyline clip-path=\"url(#clip255)\" style=\"stroke:#000000; stroke-width:2; stroke-opacity:0.1; fill:none\" points=\"\n",
       "  1849.24,1486.45 1849.24,847.244 \n",
       "  \"/>\n",
       "<polyline clip-path=\"url(#clip255)\" style=\"stroke:#000000; stroke-width:2; stroke-opacity:0.1; fill:none\" points=\"\n",
       "  2007.58,1486.45 2007.58,847.244 \n",
       "  \"/>\n",
       "<polyline clip-path=\"url(#clip255)\" style=\"stroke:#000000; stroke-width:2; stroke-opacity:0.1; fill:none\" points=\"\n",
       "  2165.92,1486.45 2165.92,847.244 \n",
       "  \"/>\n",
       "<polyline clip-path=\"url(#clip255)\" style=\"stroke:#000000; stroke-width:2; stroke-opacity:0.1; fill:none\" points=\"\n",
       "  2324.26,1486.45 2324.26,847.244 \n",
       "  \"/>\n",
       "<polyline clip-path=\"url(#clip255)\" style=\"stroke:#000000; stroke-width:2; stroke-opacity:0.1; fill:none\" points=\"\n",
       "  1345.73,1468.36 2352.76,1468.36 \n",
       "  \"/>\n",
       "<polyline clip-path=\"url(#clip255)\" style=\"stroke:#000000; stroke-width:2; stroke-opacity:0.1; fill:none\" points=\"\n",
       "  1345.73,1319.46 2352.76,1319.46 \n",
       "  \"/>\n",
       "<polyline clip-path=\"url(#clip255)\" style=\"stroke:#000000; stroke-width:2; stroke-opacity:0.1; fill:none\" points=\"\n",
       "  1345.73,1170.57 2352.76,1170.57 \n",
       "  \"/>\n",
       "<polyline clip-path=\"url(#clip255)\" style=\"stroke:#000000; stroke-width:2; stroke-opacity:0.1; fill:none\" points=\"\n",
       "  1345.73,1021.67 2352.76,1021.67 \n",
       "  \"/>\n",
       "<polyline clip-path=\"url(#clip255)\" style=\"stroke:#000000; stroke-width:2; stroke-opacity:0.1; fill:none\" points=\"\n",
       "  1345.73,872.779 2352.76,872.779 \n",
       "  \"/>\n",
       "<polyline clip-path=\"url(#clip250)\" style=\"stroke:#000000; stroke-width:4; stroke-opacity:1; fill:none\" points=\"\n",
       "  1345.73,1486.45 2352.76,1486.45 \n",
       "  \"/>\n",
       "<polyline clip-path=\"url(#clip250)\" style=\"stroke:#000000; stroke-width:4; stroke-opacity:1; fill:none\" points=\"\n",
       "  1345.73,1486.45 1345.73,847.244 \n",
       "  \"/>\n",
       "<polyline clip-path=\"url(#clip250)\" style=\"stroke:#000000; stroke-width:4; stroke-opacity:1; fill:none\" points=\"\n",
       "  1374.23,1486.45 1374.23,1478.78 \n",
       "  \"/>\n",
       "<polyline clip-path=\"url(#clip250)\" style=\"stroke:#000000; stroke-width:4; stroke-opacity:1; fill:none\" points=\"\n",
       "  1532.57,1486.45 1532.57,1478.78 \n",
       "  \"/>\n",
       "<polyline clip-path=\"url(#clip250)\" style=\"stroke:#000000; stroke-width:4; stroke-opacity:1; fill:none\" points=\"\n",
       "  1690.91,1486.45 1690.91,1478.78 \n",
       "  \"/>\n",
       "<polyline clip-path=\"url(#clip250)\" style=\"stroke:#000000; stroke-width:4; stroke-opacity:1; fill:none\" points=\"\n",
       "  1849.24,1486.45 1849.24,1478.78 \n",
       "  \"/>\n",
       "<polyline clip-path=\"url(#clip250)\" style=\"stroke:#000000; stroke-width:4; stroke-opacity:1; fill:none\" points=\"\n",
       "  2007.58,1486.45 2007.58,1478.78 \n",
       "  \"/>\n",
       "<polyline clip-path=\"url(#clip250)\" style=\"stroke:#000000; stroke-width:4; stroke-opacity:1; fill:none\" points=\"\n",
       "  2165.92,1486.45 2165.92,1478.78 \n",
       "  \"/>\n",
       "<polyline clip-path=\"url(#clip250)\" style=\"stroke:#000000; stroke-width:4; stroke-opacity:1; fill:none\" points=\"\n",
       "  2324.26,1486.45 2324.26,1478.78 \n",
       "  \"/>\n",
       "<polyline clip-path=\"url(#clip250)\" style=\"stroke:#000000; stroke-width:4; stroke-opacity:1; fill:none\" points=\"\n",
       "  1345.73,1468.36 1357.81,1468.36 \n",
       "  \"/>\n",
       "<polyline clip-path=\"url(#clip250)\" style=\"stroke:#000000; stroke-width:4; stroke-opacity:1; fill:none\" points=\"\n",
       "  1345.73,1319.46 1357.81,1319.46 \n",
       "  \"/>\n",
       "<polyline clip-path=\"url(#clip250)\" style=\"stroke:#000000; stroke-width:4; stroke-opacity:1; fill:none\" points=\"\n",
       "  1345.73,1170.57 1357.81,1170.57 \n",
       "  \"/>\n",
       "<polyline clip-path=\"url(#clip250)\" style=\"stroke:#000000; stroke-width:4; stroke-opacity:1; fill:none\" points=\"\n",
       "  1345.73,1021.67 1357.81,1021.67 \n",
       "  \"/>\n",
       "<polyline clip-path=\"url(#clip250)\" style=\"stroke:#000000; stroke-width:4; stroke-opacity:1; fill:none\" points=\"\n",
       "  1345.73,872.779 1357.81,872.779 \n",
       "  \"/>\n",
       "<path clip-path=\"url(#clip250)\" d=\"M 0 0 M1354.81 1525.04 L1367.29 1525.04 L1367.29 1528.83 L1354.81 1528.83 L1354.81 1525.04 Z\" fill=\"#000000\" fill-rule=\"evenodd\" fill-opacity=\"1\" /><path clip-path=\"url(#clip250)\" d=\"M 0 0 M1386.52 1521.29 Q1389.88 1522 1391.75 1524.27 Q1393.65 1526.54 1393.65 1529.87 Q1393.65 1534.99 1390.13 1537.79 Q1386.62 1540.59 1380.13 1540.59 Q1377.96 1540.59 1375.64 1540.15 Q1373.35 1539.73 1370.9 1538.88 L1370.9 1534.36 Q1372.84 1535.5 1375.16 1536.08 Q1377.47 1536.66 1379.99 1536.66 Q1384.39 1536.66 1386.68 1534.92 Q1389 1533.18 1389 1529.87 Q1389 1526.82 1386.85 1525.11 Q1384.72 1523.37 1380.9 1523.37 L1376.87 1523.37 L1376.87 1519.53 L1381.08 1519.53 Q1384.53 1519.53 1386.36 1518.16 Q1388.19 1516.77 1388.19 1514.18 Q1388.19 1511.52 1386.29 1510.11 Q1384.42 1508.67 1380.9 1508.67 Q1378.98 1508.67 1376.78 1509.09 Q1374.58 1509.5 1371.94 1510.38 L1371.94 1506.22 Q1374.6 1505.48 1376.92 1505.11 Q1379.25 1504.73 1381.31 1504.73 Q1386.64 1504.73 1389.74 1507.17 Q1392.84 1509.57 1392.84 1513.69 Q1392.84 1516.56 1391.2 1518.55 Q1389.55 1520.52 1386.52 1521.29 Z\" fill=\"#000000\" fill-rule=\"evenodd\" fill-opacity=\"1\" /><path clip-path=\"url(#clip250)\" d=\"M 0 0 M1513.62 1525.04 L1526.1 1525.04 L1526.1 1528.83 L1513.62 1528.83 L1513.62 1525.04 Z\" fill=\"#000000\" fill-rule=\"evenodd\" fill-opacity=\"1\" /><path clip-path=\"url(#clip250)\" d=\"M 0 0 M1535.2 1535.98 L1551.51 1535.98 L1551.51 1539.92 L1529.57 1539.92 L1529.57 1535.98 Q1532.23 1533.23 1536.82 1528.6 Q1541.42 1523.95 1542.6 1522.61 Q1544.85 1520.08 1545.73 1518.35 Q1546.63 1516.59 1546.63 1514.9 Q1546.63 1512.14 1544.69 1510.41 Q1542.77 1508.67 1539.66 1508.67 Q1537.46 1508.67 1535.01 1509.43 Q1532.58 1510.2 1529.8 1511.75 L1529.8 1507.03 Q1532.63 1505.89 1535.08 1505.31 Q1537.53 1504.73 1539.57 1504.73 Q1544.94 1504.73 1548.14 1507.42 Q1551.33 1510.11 1551.33 1514.6 Q1551.33 1516.73 1550.52 1518.65 Q1549.73 1520.54 1547.63 1523.14 Q1547.05 1523.81 1543.95 1527.03 Q1540.84 1530.22 1535.2 1535.98 Z\" fill=\"#000000\" fill-rule=\"evenodd\" fill-opacity=\"1\" /><path clip-path=\"url(#clip250)\" d=\"M 0 0 M1671.77 1525.04 L1684.25 1525.04 L1684.25 1528.83 L1671.77 1528.83 L1671.77 1525.04 Z\" fill=\"#000000\" fill-rule=\"evenodd\" fill-opacity=\"1\" /><path clip-path=\"url(#clip250)\" d=\"M 0 0 M1690.13 1535.98 L1697.77 1535.98 L1697.77 1509.62 L1689.46 1511.29 L1689.46 1507.03 L1697.72 1505.36 L1702.4 1505.36 L1702.4 1535.98 L1710.04 1535.98 L1710.04 1539.92 L1690.13 1539.92 L1690.13 1535.98 Z\" fill=\"#000000\" fill-rule=\"evenodd\" fill-opacity=\"1\" /><path clip-path=\"url(#clip250)\" d=\"M 0 0 M1849.24 1508.44 Q1845.63 1508.44 1843.8 1512 Q1842 1515.55 1842 1522.67 Q1842 1529.78 1843.8 1533.35 Q1845.63 1536.89 1849.24 1536.89 Q1852.88 1536.89 1854.68 1533.35 Q1856.51 1529.78 1856.51 1522.67 Q1856.51 1515.55 1854.68 1512 Q1852.88 1508.44 1849.24 1508.44 M1849.24 1504.73 Q1855.05 1504.73 1858.11 1509.34 Q1861.19 1513.92 1861.19 1522.67 Q1861.19 1531.4 1858.11 1536.01 Q1855.05 1540.59 1849.24 1540.59 Q1843.43 1540.59 1840.35 1536.01 Q1837.3 1531.4 1837.3 1522.67 Q1837.3 1513.92 1840.35 1509.34 Q1843.43 1504.73 1849.24 1504.73 Z\" fill=\"#000000\" fill-rule=\"evenodd\" fill-opacity=\"1\" /><path clip-path=\"url(#clip250)\" d=\"M 0 0 M1997.96 1535.98 L2005.6 1535.98 L2005.6 1509.62 L1997.29 1511.29 L1997.29 1507.03 L2005.55 1505.36 L2010.23 1505.36 L2010.23 1535.98 L2017.87 1535.98 L2017.87 1539.92 L1997.96 1539.92 L1997.96 1535.98 Z\" fill=\"#000000\" fill-rule=\"evenodd\" fill-opacity=\"1\" /><path clip-path=\"url(#clip250)\" d=\"M 0 0 M2160.57 1535.98 L2176.89 1535.98 L2176.89 1539.92 L2154.95 1539.92 L2154.95 1535.98 Q2157.61 1533.23 2162.19 1528.6 Q2166.8 1523.95 2167.98 1522.61 Q2170.22 1520.08 2171.1 1518.35 Q2172.01 1516.59 2172.01 1514.9 Q2172.01 1512.14 2170.06 1510.41 Q2168.14 1508.67 2165.04 1508.67 Q2162.84 1508.67 2160.39 1509.43 Q2157.95 1510.2 2155.18 1511.75 L2155.18 1507.03 Q2158 1505.89 2160.45 1505.31 Q2162.91 1504.73 2164.95 1504.73 Q2170.32 1504.73 2173.51 1507.42 Q2176.7 1510.11 2176.7 1514.6 Q2176.7 1516.73 2175.89 1518.65 Q2175.11 1520.54 2173 1523.14 Q2172.42 1523.81 2169.32 1527.03 Q2166.22 1530.22 2160.57 1535.98 Z\" fill=\"#000000\" fill-rule=\"evenodd\" fill-opacity=\"1\" /><path clip-path=\"url(#clip250)\" d=\"M 0 0 M2328.5 1521.29 Q2331.86 1522 2333.73 1524.27 Q2335.63 1526.54 2335.63 1529.87 Q2335.63 1534.99 2332.11 1537.79 Q2328.6 1540.59 2322.11 1540.59 Q2319.94 1540.59 2317.62 1540.15 Q2315.33 1539.73 2312.88 1538.88 L2312.88 1534.36 Q2314.82 1535.5 2317.14 1536.08 Q2319.45 1536.66 2321.98 1536.66 Q2326.37 1536.66 2328.66 1534.92 Q2330.98 1533.18 2330.98 1529.87 Q2330.98 1526.82 2328.83 1525.11 Q2326.7 1523.37 2322.88 1523.37 L2318.85 1523.37 L2318.85 1519.53 L2323.06 1519.53 Q2326.51 1519.53 2328.34 1518.16 Q2330.17 1516.77 2330.17 1514.18 Q2330.17 1511.52 2328.27 1510.11 Q2326.4 1508.67 2322.88 1508.67 Q2320.96 1508.67 2318.76 1509.09 Q2316.56 1509.5 2313.92 1510.38 L2313.92 1506.22 Q2316.58 1505.48 2318.9 1505.11 Q2321.23 1504.73 2323.29 1504.73 Q2328.62 1504.73 2331.72 1507.17 Q2334.82 1509.57 2334.82 1513.69 Q2334.82 1516.56 2333.18 1518.55 Q2331.54 1520.52 2328.5 1521.29 Z\" fill=\"#000000\" fill-rule=\"evenodd\" fill-opacity=\"1\" /><path clip-path=\"url(#clip250)\" d=\"M 0 0 M1309.79 1454.16 Q1306.17 1454.16 1304.35 1457.72 Q1302.54 1461.26 1302.54 1468.39 Q1302.54 1475.5 1304.35 1479.06 Q1306.17 1482.6 1309.79 1482.6 Q1313.42 1482.6 1315.23 1479.06 Q1317.05 1475.5 1317.05 1468.39 Q1317.05 1461.26 1315.23 1457.72 Q1313.42 1454.16 1309.79 1454.16 M1309.79 1450.45 Q1315.6 1450.45 1318.65 1455.06 Q1321.73 1459.64 1321.73 1468.39 Q1321.73 1477.12 1318.65 1481.73 Q1315.6 1486.31 1309.79 1486.31 Q1303.98 1486.31 1300.9 1481.73 Q1297.84 1477.12 1297.84 1468.39 Q1297.84 1459.64 1300.9 1455.06 Q1303.98 1450.45 1309.79 1450.45 Z\" fill=\"#000000\" fill-rule=\"evenodd\" fill-opacity=\"1\" /><path clip-path=\"url(#clip250)\" d=\"M 0 0 M1278.4 1332.81 L1294.72 1332.81 L1294.72 1336.74 L1272.77 1336.74 L1272.77 1332.81 Q1275.43 1330.05 1280.02 1325.42 Q1284.62 1320.77 1285.8 1319.43 Q1288.05 1316.9 1288.93 1315.17 Q1289.83 1313.41 1289.83 1311.72 Q1289.83 1308.97 1287.89 1307.23 Q1285.97 1305.49 1282.86 1305.49 Q1280.67 1305.49 1278.21 1306.26 Q1275.78 1307.02 1273 1308.57 L1273 1303.85 Q1275.83 1302.72 1278.28 1302.14 Q1280.74 1301.56 1282.77 1301.56 Q1288.14 1301.56 1291.34 1304.24 Q1294.53 1306.93 1294.53 1311.42 Q1294.53 1313.55 1293.72 1315.47 Q1292.93 1317.37 1290.83 1319.96 Q1290.25 1320.63 1287.15 1323.85 Q1284.05 1327.04 1278.4 1332.81 Z\" fill=\"#000000\" fill-rule=\"evenodd\" fill-opacity=\"1\" /><path clip-path=\"url(#clip250)\" d=\"M 0 0 M1309.79 1305.26 Q1306.17 1305.26 1304.35 1308.83 Q1302.54 1312.37 1302.54 1319.5 Q1302.54 1326.6 1304.35 1330.17 Q1306.17 1333.71 1309.79 1333.71 Q1313.42 1333.71 1315.23 1330.17 Q1317.05 1326.6 1317.05 1319.5 Q1317.05 1312.37 1315.23 1308.83 Q1313.42 1305.26 1309.79 1305.26 M1309.79 1301.56 Q1315.6 1301.56 1318.65 1306.16 Q1321.73 1310.75 1321.73 1319.5 Q1321.73 1328.22 1318.65 1332.83 Q1315.6 1337.41 1309.79 1337.41 Q1303.98 1337.41 1300.9 1332.83 Q1297.84 1328.22 1297.84 1319.5 Q1297.84 1310.75 1300.9 1306.16 Q1303.98 1301.56 1309.79 1301.56 Z\" fill=\"#000000\" fill-rule=\"evenodd\" fill-opacity=\"1\" /><path clip-path=\"url(#clip250)\" d=\"M 0 0 M1285.13 1157.36 L1273.33 1175.81 L1285.13 1175.81 L1285.13 1157.36 M1283.91 1153.29 L1289.79 1153.29 L1289.79 1175.81 L1294.72 1175.81 L1294.72 1179.7 L1289.79 1179.7 L1289.79 1187.85 L1285.13 1187.85 L1285.13 1179.7 L1269.53 1179.7 L1269.53 1175.19 L1283.91 1153.29 Z\" fill=\"#000000\" fill-rule=\"evenodd\" fill-opacity=\"1\" /><path clip-path=\"url(#clip250)\" d=\"M 0 0 M1309.79 1156.37 Q1306.17 1156.37 1304.35 1159.93 Q1302.54 1163.47 1302.54 1170.6 Q1302.54 1177.71 1304.35 1181.27 Q1306.17 1184.82 1309.79 1184.82 Q1313.42 1184.82 1315.23 1181.27 Q1317.05 1177.71 1317.05 1170.6 Q1317.05 1163.47 1315.23 1159.93 Q1313.42 1156.37 1309.79 1156.37 M1309.79 1152.66 Q1315.6 1152.66 1318.65 1157.27 Q1321.73 1161.85 1321.73 1170.6 Q1321.73 1179.33 1318.65 1183.94 Q1315.6 1188.52 1309.79 1188.52 Q1303.98 1188.52 1300.9 1183.94 Q1297.84 1179.33 1297.84 1170.6 Q1297.84 1161.85 1300.9 1157.27 Q1303.98 1152.66 1309.79 1152.66 Z\" fill=\"#000000\" fill-rule=\"evenodd\" fill-opacity=\"1\" /><path clip-path=\"url(#clip250)\" d=\"M 0 0 M1283.19 1019.81 Q1280.04 1019.81 1278.19 1021.96 Q1276.36 1024.12 1276.36 1027.87 Q1276.36 1031.59 1278.19 1033.77 Q1280.04 1035.92 1283.19 1035.92 Q1286.34 1035.92 1288.17 1033.77 Q1290.02 1031.59 1290.02 1027.87 Q1290.02 1024.12 1288.17 1021.96 Q1286.34 1019.81 1283.19 1019.81 M1292.47 1005.16 L1292.47 1009.42 Q1290.71 1008.58 1288.91 1008.14 Q1287.12 1007.7 1285.36 1007.7 Q1280.74 1007.7 1278.28 1010.83 Q1275.85 1013.95 1275.5 1020.27 Q1276.87 1018.26 1278.93 1017.19 Q1280.99 1016.11 1283.47 1016.11 Q1288.67 1016.11 1291.68 1019.28 Q1294.72 1022.43 1294.72 1027.87 Q1294.72 1033.19 1291.57 1036.41 Q1288.42 1039.63 1283.19 1039.63 Q1277.19 1039.63 1274.02 1035.04 Q1270.85 1030.44 1270.85 1021.71 Q1270.85 1013.51 1274.74 1008.65 Q1278.63 1003.77 1285.18 1003.77 Q1286.94 1003.77 1288.72 1004.12 Q1290.53 1004.46 1292.47 1005.16 Z\" fill=\"#000000\" fill-rule=\"evenodd\" fill-opacity=\"1\" /><path clip-path=\"url(#clip250)\" d=\"M 0 0 M1309.79 1007.47 Q1306.17 1007.47 1304.35 1011.04 Q1302.54 1014.58 1302.54 1021.71 Q1302.54 1028.82 1304.35 1032.38 Q1306.17 1035.92 1309.79 1035.92 Q1313.42 1035.92 1315.23 1032.38 Q1317.05 1028.82 1317.05 1021.71 Q1317.05 1014.58 1315.23 1011.04 Q1313.42 1007.47 1309.79 1007.47 M1309.79 1003.77 Q1315.6 1003.77 1318.65 1008.38 Q1321.73 1012.96 1321.73 1021.71 Q1321.73 1030.44 1318.65 1035.04 Q1315.6 1039.63 1309.79 1039.63 Q1303.98 1039.63 1300.9 1035.04 Q1297.84 1030.44 1297.84 1021.71 Q1297.84 1012.96 1300.9 1008.38 Q1303.98 1003.77 1309.79 1003.77 Z\" fill=\"#000000\" fill-rule=\"evenodd\" fill-opacity=\"1\" /><path clip-path=\"url(#clip250)\" d=\"M 0 0 M1282.86 873.648 Q1279.53 873.648 1277.61 875.43 Q1275.71 877.212 1275.71 880.337 Q1275.71 883.462 1277.61 885.245 Q1279.53 887.027 1282.86 887.027 Q1286.2 887.027 1288.12 885.245 Q1290.04 883.439 1290.04 880.337 Q1290.04 877.212 1288.12 875.43 Q1286.22 873.648 1282.86 873.648 M1278.19 871.657 Q1275.18 870.916 1273.49 868.856 Q1271.82 866.796 1271.82 863.833 Q1271.82 859.689 1274.76 857.282 Q1277.73 854.874 1282.86 854.874 Q1288.03 854.874 1290.97 857.282 Q1293.91 859.689 1293.91 863.833 Q1293.91 866.796 1292.22 868.856 Q1290.55 870.916 1287.56 871.657 Q1290.94 872.444 1292.82 874.735 Q1294.72 877.027 1294.72 880.337 Q1294.72 885.36 1291.64 888.046 Q1288.58 890.731 1282.86 890.731 Q1277.15 890.731 1274.07 888.046 Q1271.01 885.36 1271.01 880.337 Q1271.01 877.027 1272.91 874.735 Q1274.81 872.444 1278.19 871.657 M1276.48 864.273 Q1276.48 866.958 1278.14 868.462 Q1279.83 869.967 1282.86 869.967 Q1285.87 869.967 1287.56 868.462 Q1289.28 866.958 1289.28 864.273 Q1289.28 861.587 1287.56 860.083 Q1285.87 858.578 1282.86 858.578 Q1279.83 858.578 1278.14 860.083 Q1276.48 861.587 1276.48 864.273 Z\" fill=\"#000000\" fill-rule=\"evenodd\" fill-opacity=\"1\" /><path clip-path=\"url(#clip250)\" d=\"M 0 0 M1309.79 858.578 Q1306.17 858.578 1304.35 862.143 Q1302.54 865.685 1302.54 872.814 Q1302.54 879.921 1304.35 883.485 Q1306.17 887.027 1309.79 887.027 Q1313.42 887.027 1315.23 883.485 Q1317.05 879.921 1317.05 872.814 Q1317.05 865.685 1315.23 862.143 Q1313.42 858.578 1309.79 858.578 M1309.79 854.874 Q1315.6 854.874 1318.65 859.481 Q1321.73 864.064 1321.73 872.814 Q1321.73 881.541 1318.65 886.147 Q1315.6 890.731 1309.79 890.731 Q1303.98 890.731 1300.9 886.147 Q1297.84 881.541 1297.84 872.814 Q1297.84 864.064 1300.9 859.481 Q1303.98 854.874 1309.79 854.874 Z\" fill=\"#000000\" fill-rule=\"evenodd\" fill-opacity=\"1\" /><polyline clip-path=\"url(#clip255)\" style=\"stroke:#009af9; stroke-width:4; stroke-opacity:1; fill:none\" points=\"\n",
       "  1374.23,865.335 1390.06,941.806 1405.9,1010.76 1421.73,1072.71 1437.57,1128.15 1453.4,1177.55 1469.23,1221.36 1485.07,1260.02 1500.9,1293.96 1516.73,1323.57 \n",
       "  1532.57,1349.24 1548.4,1371.34 1564.24,1390.21 1580.07,1406.18 1595.9,1419.57 1611.74,1430.67 1627.57,1439.76 1643.4,1447.09 1659.24,1452.92 1675.07,1457.46 \n",
       "  1690.91,1460.91 1706.74,1463.47 1722.57,1465.31 1738.41,1466.57 1754.24,1467.39 1770.07,1467.89 1785.91,1468.17 1801.74,1468.3 1817.58,1468.35 1833.41,1468.36 \n",
       "  1849.24,1468.36 1865.08,1468.36 1880.91,1468.35 1896.74,1468.3 1912.58,1468.17 1928.41,1467.89 1944.25,1467.39 1960.08,1466.57 1975.91,1465.31 1991.75,1463.47 \n",
       "  2007.58,1460.91 2023.41,1457.46 2039.25,1452.92 2055.08,1447.09 2070.92,1439.76 2086.75,1430.67 2102.58,1419.57 2118.42,1406.18 2134.25,1390.21 2150.08,1371.34 \n",
       "  2165.92,1349.24 2181.75,1323.57 2197.59,1293.96 2213.42,1260.02 2229.25,1221.36 2245.09,1177.55 2260.92,1128.15 2276.75,1072.71 2292.59,1010.76 2308.42,941.806 \n",
       "  2324.26,865.335 \n",
       "  \"/>\n",
       "</svg>\n"
      ]
     },
     "execution_count": 61,
     "metadata": {},
     "output_type": "execute_result"
    }
   ],
   "source": [
    "x = -3:0.1:3\n",
    "p1 = plot(x, x)\n",
    "p2 = plot(x, x.^2)\n",
    "p3 = plot(x, x.^3)\n",
    "p4 = plot(x, x.^4)\n",
    "plot(p1, p2, p3, p4, layout = (2, 2), legend = false)"
   ]
  },
  {
   "cell_type": "markdown",
   "metadata": {},
   "source": [
    "## Basic Linear Algebra <a class=\"anchor\" id=\"BasicLinearAlgebra\"></a>"
   ]
  },
  {
   "cell_type": "code",
   "execution_count": 63,
   "metadata": {},
   "outputs": [
    {
     "data": {
      "text/plain": [
       "3×3 Array{Int64,2}:\n",
       " 4  4  2\n",
       " 2  1  3\n",
       " 2  4  4"
      ]
     },
     "execution_count": 63,
     "metadata": {},
     "output_type": "execute_result"
    }
   ],
   "source": [
    "A = rand(1:4, 3, 3)"
   ]
  },
  {
   "cell_type": "code",
   "execution_count": 64,
   "metadata": {
    "scrolled": true
   },
   "outputs": [
    {
     "data": {
      "text/plain": [
       "3×6 Array{Int64,2}:\n",
       " 4  4  2  4  4  2\n",
       " 2  1  3  2  1  3\n",
       " 2  4  4  2  4  4"
      ]
     },
     "execution_count": 64,
     "metadata": {},
     "output_type": "execute_result"
    }
   ],
   "source": [
    "B = A\n",
    "C = copy(A)\n",
    "[B C]"
   ]
  },
  {
   "cell_type": "code",
   "execution_count": 65,
   "metadata": {},
   "outputs": [
    {
     "data": {
      "text/plain": [
       "3×6 Array{Int64,2}:\n",
       " 17  4  2  4  4  2\n",
       "  2  1  3  2  1  3\n",
       "  2  4  4  2  4  4"
      ]
     },
     "execution_count": 65,
     "metadata": {},
     "output_type": "execute_result"
    }
   ],
   "source": [
    "A[1] = 17\n",
    "[B C]"
   ]
  },
  {
   "cell_type": "code",
   "execution_count": 66,
   "metadata": {},
   "outputs": [
    {
     "data": {
      "text/plain": [
       "3-element Array{Float64,1}:\n",
       " 1.0\n",
       " 1.0\n",
       " 1.0"
      ]
     },
     "execution_count": 66,
     "metadata": {},
     "output_type": "execute_result"
    }
   ],
   "source": [
    "x = ones(3)"
   ]
  },
  {
   "cell_type": "code",
   "execution_count": 67,
   "metadata": {},
   "outputs": [
    {
     "data": {
      "text/plain": [
       "3-element Array{Float64,1}:\n",
       " 23.0\n",
       "  6.0\n",
       " 10.0"
      ]
     },
     "execution_count": 67,
     "metadata": {},
     "output_type": "execute_result"
    }
   ],
   "source": [
    "b = A*x"
   ]
  },
  {
   "cell_type": "code",
   "execution_count": 68,
   "metadata": {},
   "outputs": [
    {
     "data": {
      "text/plain": [
       "3×3 Array{Int64,2}:\n",
       " 34  6  4\n",
       "  6  2  7\n",
       "  4  7  8"
      ]
     },
     "execution_count": 68,
     "metadata": {},
     "output_type": "execute_result"
    }
   ],
   "source": [
    "Asym = A + A'"
   ]
  }
 ],
 "metadata": {
  "kernelspec": {
   "display_name": "Julia 1.5.1",
   "language": "julia",
   "name": "julia-1.5"
  },
  "language_info": {
   "file_extension": ".jl",
   "mimetype": "application/julia",
   "name": "julia",
   "version": "1.5.1"
  }
 },
 "nbformat": 4,
 "nbformat_minor": 4
}
